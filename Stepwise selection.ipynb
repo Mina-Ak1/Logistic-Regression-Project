{
 "cells": [
  {
   "cell_type": "markdown",
   "id": "6aeb6362-666f-424a-a856-0cebe93b7e0c",
   "metadata": {},
   "source": [
    "<font size = 5>  Stepwise selection for logistic regression <font> <br>\n"
   ]
  },
  {
   "cell_type": "code",
   "execution_count": 9,
   "id": "b9428131-6edb-4125-a29f-da1bd4fae4d2",
   "metadata": {},
   "outputs": [],
   "source": [
    "library(dplyr)"
   ]
  },
  {
   "cell_type": "code",
   "execution_count": 2,
   "id": "0b491f91-432f-4e00-b7a2-61eea3fa0209",
   "metadata": {},
   "outputs": [
    {
     "data": {
      "text/html": [
       "<table class=\"dataframe\">\n",
       "<caption>A data.frame: 6 × 11</caption>\n",
       "<thead>\n",
       "\t<tr><th></th><th scope=col>Gender</th><th scope=col>Married</th><th scope=col>Dependents</th><th scope=col>Education</th><th scope=col>Self_Employed</th><th scope=col>ApplicantIncome</th><th scope=col>LoanAmount</th><th scope=col>Loan_Amount_Term</th><th scope=col>Credit_History</th><th scope=col>Property_Area</th><th scope=col>Loan_Status</th></tr>\n",
       "\t<tr><th></th><th scope=col>&lt;chr&gt;</th><th scope=col>&lt;chr&gt;</th><th scope=col>&lt;chr&gt;</th><th scope=col>&lt;chr&gt;</th><th scope=col>&lt;chr&gt;</th><th scope=col>&lt;int&gt;</th><th scope=col>&lt;int&gt;</th><th scope=col>&lt;int&gt;</th><th scope=col>&lt;int&gt;</th><th scope=col>&lt;chr&gt;</th><th scope=col>&lt;int&gt;</th></tr>\n",
       "</thead>\n",
       "<tbody>\n",
       "\t<tr><th scope=row>1</th><td>Male</td><td>Yes</td><td>1</td><td>Graduate    </td><td>No </td><td>4583</td><td>128</td><td>360</td><td>1</td><td>Rural</td><td>0</td></tr>\n",
       "\t<tr><th scope=row>2</th><td>Male</td><td>Yes</td><td>0</td><td>Graduate    </td><td>Yes</td><td>3000</td><td> 66</td><td>360</td><td>1</td><td>Urban</td><td>1</td></tr>\n",
       "\t<tr><th scope=row>3</th><td>Male</td><td>Yes</td><td>0</td><td>Not Graduate</td><td>No </td><td>2583</td><td>120</td><td>360</td><td>1</td><td>Urban</td><td>1</td></tr>\n",
       "\t<tr><th scope=row>4</th><td>Male</td><td>No </td><td>0</td><td>Graduate    </td><td>No </td><td>6000</td><td>141</td><td>360</td><td>1</td><td>Urban</td><td>1</td></tr>\n",
       "\t<tr><th scope=row>5</th><td>Male</td><td>Yes</td><td>2</td><td>Graduate    </td><td>Yes</td><td>5417</td><td>267</td><td>360</td><td>1</td><td>Urban</td><td>1</td></tr>\n",
       "\t<tr><th scope=row>6</th><td>Male</td><td>Yes</td><td>0</td><td>Not Graduate</td><td>No </td><td>2333</td><td> 95</td><td>360</td><td>1</td><td>Urban</td><td>1</td></tr>\n",
       "</tbody>\n",
       "</table>\n"
      ],
      "text/latex": [
       "A data.frame: 6 × 11\n",
       "\\begin{tabular}{r|lllllllllll}\n",
       "  & Gender & Married & Dependents & Education & Self\\_Employed & ApplicantIncome & LoanAmount & Loan\\_Amount\\_Term & Credit\\_History & Property\\_Area & Loan\\_Status\\\\\n",
       "  & <chr> & <chr> & <chr> & <chr> & <chr> & <int> & <int> & <int> & <int> & <chr> & <int>\\\\\n",
       "\\hline\n",
       "\t1 & Male & Yes & 1 & Graduate     & No  & 4583 & 128 & 360 & 1 & Rural & 0\\\\\n",
       "\t2 & Male & Yes & 0 & Graduate     & Yes & 3000 &  66 & 360 & 1 & Urban & 1\\\\\n",
       "\t3 & Male & Yes & 0 & Not Graduate & No  & 2583 & 120 & 360 & 1 & Urban & 1\\\\\n",
       "\t4 & Male & No  & 0 & Graduate     & No  & 6000 & 141 & 360 & 1 & Urban & 1\\\\\n",
       "\t5 & Male & Yes & 2 & Graduate     & Yes & 5417 & 267 & 360 & 1 & Urban & 1\\\\\n",
       "\t6 & Male & Yes & 0 & Not Graduate & No  & 2333 &  95 & 360 & 1 & Urban & 1\\\\\n",
       "\\end{tabular}\n"
      ],
      "text/markdown": [
       "\n",
       "A data.frame: 6 × 11\n",
       "\n",
       "| <!--/--> | Gender &lt;chr&gt; | Married &lt;chr&gt; | Dependents &lt;chr&gt; | Education &lt;chr&gt; | Self_Employed &lt;chr&gt; | ApplicantIncome &lt;int&gt; | LoanAmount &lt;int&gt; | Loan_Amount_Term &lt;int&gt; | Credit_History &lt;int&gt; | Property_Area &lt;chr&gt; | Loan_Status &lt;int&gt; |\n",
       "|---|---|---|---|---|---|---|---|---|---|---|---|\n",
       "| 1 | Male | Yes | 1 | Graduate     | No  | 4583 | 128 | 360 | 1 | Rural | 0 |\n",
       "| 2 | Male | Yes | 0 | Graduate     | Yes | 3000 |  66 | 360 | 1 | Urban | 1 |\n",
       "| 3 | Male | Yes | 0 | Not Graduate | No  | 2583 | 120 | 360 | 1 | Urban | 1 |\n",
       "| 4 | Male | No  | 0 | Graduate     | No  | 6000 | 141 | 360 | 1 | Urban | 1 |\n",
       "| 5 | Male | Yes | 2 | Graduate     | Yes | 5417 | 267 | 360 | 1 | Urban | 1 |\n",
       "| 6 | Male | Yes | 0 | Not Graduate | No  | 2333 |  95 | 360 | 1 | Urban | 1 |\n",
       "\n"
      ],
      "text/plain": [
       "  Gender Married Dependents Education    Self_Employed ApplicantIncome\n",
       "1 Male   Yes     1          Graduate     No            4583           \n",
       "2 Male   Yes     0          Graduate     Yes           3000           \n",
       "3 Male   Yes     0          Not Graduate No            2583           \n",
       "4 Male   No      0          Graduate     No            6000           \n",
       "5 Male   Yes     2          Graduate     Yes           5417           \n",
       "6 Male   Yes     0          Not Graduate No            2333           \n",
       "  LoanAmount Loan_Amount_Term Credit_History Property_Area Loan_Status\n",
       "1 128        360              1              Rural         0          \n",
       "2  66        360              1              Urban         1          \n",
       "3 120        360              1              Urban         1          \n",
       "4 141        360              1              Urban         1          \n",
       "5 267        360              1              Urban         1          \n",
       "6  95        360              1              Urban         1          "
      ]
     },
     "metadata": {},
     "output_type": "display_data"
    }
   ],
   "source": [
    "#Load data\n",
    "df <- read.csv(\"loan_dataset.csv\")\n",
    "head(df)"
   ]
  },
  {
   "cell_type": "code",
   "execution_count": 3,
   "id": "80e80334-2ec9-4a6b-9983-66faf32a0c7e",
   "metadata": {},
   "outputs": [
    {
     "data": {
      "text/plain": [
       "\n",
       "Call:\n",
       "glm(formula = Loan_Status ~ ., family = binomial(), data = df)\n",
       "\n",
       "Coefficients:\n",
       "                         Estimate Std. Error z value Pr(>|z|)    \n",
       "(Intercept)            -2.453e+00  9.280e-01  -2.643  0.00821 ** \n",
       "GenderMale              2.639e-01  3.264e-01   0.808  0.41884    \n",
       "MarriedYes              5.753e-01  2.924e-01   1.968  0.04911 *  \n",
       "Dependents1            -3.533e-01  3.455e-01  -1.023  0.30644    \n",
       "Dependents2             2.752e-01  3.777e-01   0.729  0.46618    \n",
       "Dependents3+            2.100e-01  4.841e-01   0.434  0.66444    \n",
       "EducationNot Graduate  -3.914e-01  3.018e-01  -1.297  0.19472    \n",
       "Self_EmployedYes       -1.576e-01  3.515e-01  -0.448  0.65394    \n",
       "ApplicantIncome         1.485e-05  2.674e-05   0.555  0.57861    \n",
       "LoanAmount             -3.233e-03  1.710e-03  -1.890  0.05871 .  \n",
       "Loan_Amount_Term       -8.775e-04  2.024e-03  -0.434  0.66457    \n",
       "Credit_History          3.648e+00  4.331e-01   8.424  < 2e-16 ***\n",
       "Property_AreaSemiurban  9.802e-01  3.032e-01   3.233  0.00122 ** \n",
       "Property_AreaUrban      1.385e-01  2.998e-01   0.462  0.64406    \n",
       "---\n",
       "Signif. codes:  0 '***' 0.001 '**' 0.01 '*' 0.05 '.' 0.1 ' ' 1\n",
       "\n",
       "(Dispersion parameter for binomial family taken to be 1)\n",
       "\n",
       "    Null deviance: 593.05  on 479  degrees of freedom\n",
       "Residual deviance: 437.14  on 466  degrees of freedom\n",
       "AIC: 465.14\n",
       "\n",
       "Number of Fisher Scoring iterations: 5\n"
      ]
     },
     "metadata": {},
     "output_type": "display_data"
    }
   ],
   "source": [
    "#fit full logistic regression model\n",
    "full_model <- glm(formula = Loan_Status ~ .,\n",
    "                  data = df,\n",
    "                  family = binomial()\n",
    "                  )\n",
    "summary(full_model)"
   ]
  },
  {
   "cell_type": "markdown",
   "id": "087fd171-43f3-4576-9465-044bf1fbe0dc",
   "metadata": {},
   "source": []
  },
  {
   "cell_type": "markdown",
   "id": "c48de911-2485-4585-9d80-9ceb8eedd6d4",
   "metadata": {},
   "source": [
    "<font size = 5> Forward Selection <font>"
   ]
  },
  {
   "cell_type": "code",
   "execution_count": 4,
   "id": "86280c9b-ee32-4126-94fc-20ee67d793c9",
   "metadata": {},
   "outputs": [
    {
     "name": "stdout",
     "output_type": "stream",
     "text": [
      "Start:  AIC=465.14\n",
      "Loan_Status ~ Gender + Married + Dependents + Education + Self_Employed + \n",
      "    ApplicantIncome + LoanAmount + Loan_Amount_Term + Credit_History + \n",
      "    Property_Area\n",
      "\n"
     ]
    }
   ],
   "source": [
    "stepAIC_forward <- MASS::stepAIC(\n",
    "                                 object = full_model,\n",
    "                                 direction = \"forward\"\n",
    "                                )"
   ]
  },
  {
   "cell_type": "markdown",
   "id": "cf60dbfa-5344-4dfc-9dd9-a42d75782fd8",
   "metadata": {},
   "source": [
    "<font size = 5> Backward Selection <font>"
   ]
  },
  {
   "cell_type": "code",
   "execution_count": 5,
   "id": "a006bd0b-70af-4960-a1df-7e22efcb05af",
   "metadata": {},
   "outputs": [
    {
     "name": "stdout",
     "output_type": "stream",
     "text": [
      "Start:  AIC=465.14\n",
      "Loan_Status ~ Gender + Married + Dependents + Education + Self_Employed + \n",
      "    ApplicantIncome + LoanAmount + Loan_Amount_Term + Credit_History + \n",
      "    Property_Area\n",
      "\n",
      "                   Df Deviance    AIC\n",
      "- Dependents        3   439.63 461.63\n",
      "- Loan_Amount_Term  1   437.34 463.34\n",
      "- Self_Employed     1   437.34 463.34\n",
      "- ApplicantIncome   1   437.43 463.43\n",
      "- Gender            1   437.79 463.79\n",
      "- Education         1   438.79 464.79\n",
      "<none>                  437.14 465.14\n",
      "- LoanAmount        1   440.66 466.66\n",
      "- Married           1   441.04 467.04\n",
      "- Property_Area     2   450.06 474.06\n",
      "- Credit_History    1   563.46 589.46\n",
      "\n",
      "Step:  AIC=461.63\n",
      "Loan_Status ~ Gender + Married + Education + Self_Employed + \n",
      "    ApplicantIncome + LoanAmount + Loan_Amount_Term + Credit_History + \n",
      "    Property_Area\n",
      "\n",
      "                   Df Deviance    AIC\n",
      "- Loan_Amount_Term  1   439.75 459.75\n",
      "- Self_Employed     1   439.83 459.83\n",
      "- ApplicantIncome   1   439.89 459.89\n",
      "- Gender            1   440.63 460.63\n",
      "- Education         1   441.27 461.27\n",
      "<none>                  439.63 461.63\n",
      "- LoanAmount        1   443.17 463.17\n",
      "- Married           1   444.44 464.44\n",
      "- Property_Area     2   452.09 470.09\n",
      "- Credit_History    1   565.65 585.65\n",
      "\n",
      "Step:  AIC=459.75\n",
      "Loan_Status ~ Gender + Married + Education + Self_Employed + \n",
      "    ApplicantIncome + LoanAmount + Credit_History + Property_Area\n",
      "\n",
      "                  Df Deviance    AIC\n",
      "- Self_Employed    1   439.94 457.94\n",
      "- ApplicantIncome  1   440.03 458.03\n",
      "- Gender           1   440.80 458.80\n",
      "- Education        1   441.32 459.32\n",
      "<none>                 439.75 459.75\n",
      "- LoanAmount       1   443.40 461.40\n",
      "- Married          1   444.75 462.75\n",
      "- Property_Area    2   452.23 468.23\n",
      "- Credit_History   1   565.65 583.65\n",
      "\n",
      "Step:  AIC=457.94\n",
      "Loan_Status ~ Gender + Married + Education + ApplicantIncome + \n",
      "    LoanAmount + Credit_History + Property_Area\n",
      "\n",
      "                  Df Deviance    AIC\n",
      "- ApplicantIncome  1   440.16 456.16\n",
      "- Gender           1   441.00 457.00\n",
      "- Education        1   441.54 457.54\n",
      "<none>                 439.94 457.94\n",
      "- LoanAmount       1   443.62 459.62\n",
      "- Married          1   444.89 460.89\n",
      "- Property_Area    2   452.42 466.42\n",
      "- Credit_History   1   565.83 581.83\n",
      "\n",
      "Step:  AIC=456.16\n",
      "Loan_Status ~ Gender + Married + Education + LoanAmount + Credit_History + \n",
      "    Property_Area\n",
      "\n",
      "                 Df Deviance    AIC\n",
      "- Gender          1   441.20 455.20\n",
      "- Education       1   441.79 455.79\n",
      "<none>                440.16 456.16\n",
      "- LoanAmount      1   444.02 458.02\n",
      "- Married         1   445.00 459.00\n",
      "- Property_Area   2   452.62 464.62\n",
      "- Credit_History  1   565.83 579.83\n",
      "\n",
      "Step:  AIC=455.2\n",
      "Loan_Status ~ Married + Education + LoanAmount + Credit_History + \n",
      "    Property_Area\n",
      "\n",
      "                 Df Deviance    AIC\n",
      "- Education       1   442.72 454.72\n",
      "<none>                441.20 455.20\n",
      "- LoanAmount      1   444.85 456.85\n",
      "- Married         1   448.72 460.72\n",
      "- Property_Area   2   453.01 463.01\n",
      "- Credit_History  1   567.39 579.39\n",
      "\n",
      "Step:  AIC=454.72\n",
      "Loan_Status ~ Married + LoanAmount + Credit_History + Property_Area\n",
      "\n",
      "                 Df Deviance    AIC\n",
      "<none>                442.72 454.72\n",
      "- LoanAmount      1   445.58 455.58\n",
      "- Married         1   449.91 459.91\n",
      "- Property_Area   2   454.75 462.75\n",
      "- Credit_History  1   570.59 580.59\n"
     ]
    }
   ],
   "source": [
    "stepAIC_backward <- MASS::stepAIC(\n",
    "                                 object = full_model,\n",
    "                                 direction = \"backward\"\n",
    "                                )\n"
   ]
  },
  {
   "cell_type": "markdown",
   "id": "0b9d0239-d7a7-4b8b-b9fa-3216e5c49af5",
   "metadata": {},
   "source": []
  },
  {
   "cell_type": "markdown",
   "id": "7baa24e1-b019-4ffc-85b9-7f7797a24643",
   "metadata": {},
   "source": [
    "<font size =5> Forward Back Selection <font>"
   ]
  },
  {
   "cell_type": "code",
   "execution_count": 6,
   "id": "cdbccceb-3ac0-4f1d-a5b1-67e2dff4ee7d",
   "metadata": {},
   "outputs": [
    {
     "name": "stdout",
     "output_type": "stream",
     "text": [
      "Start:  AIC=465.14\n",
      "Loan_Status ~ Gender + Married + Dependents + Education + Self_Employed + \n",
      "    ApplicantIncome + LoanAmount + Loan_Amount_Term + Credit_History + \n",
      "    Property_Area\n",
      "\n",
      "                   Df Deviance    AIC\n",
      "- Dependents        3   439.63 461.63\n",
      "- Loan_Amount_Term  1   437.34 463.34\n",
      "- Self_Employed     1   437.34 463.34\n",
      "- ApplicantIncome   1   437.43 463.43\n",
      "- Gender            1   437.79 463.79\n",
      "- Education         1   438.79 464.79\n",
      "<none>                  437.14 465.14\n",
      "- LoanAmount        1   440.66 466.66\n",
      "- Married           1   441.04 467.04\n",
      "- Property_Area     2   450.06 474.06\n",
      "- Credit_History    1   563.46 589.46\n",
      "\n",
      "Step:  AIC=461.63\n",
      "Loan_Status ~ Gender + Married + Education + Self_Employed + \n",
      "    ApplicantIncome + LoanAmount + Loan_Amount_Term + Credit_History + \n",
      "    Property_Area\n",
      "\n",
      "                   Df Deviance    AIC\n",
      "- Loan_Amount_Term  1   439.75 459.75\n",
      "- Self_Employed     1   439.83 459.83\n",
      "- ApplicantIncome   1   439.89 459.89\n",
      "- Gender            1   440.63 460.63\n",
      "- Education         1   441.27 461.27\n",
      "<none>                  439.63 461.63\n",
      "- LoanAmount        1   443.17 463.17\n",
      "- Married           1   444.44 464.44\n",
      "+ Dependents        3   437.14 465.14\n",
      "- Property_Area     2   452.09 470.09\n",
      "- Credit_History    1   565.65 585.65\n",
      "\n",
      "Step:  AIC=459.75\n",
      "Loan_Status ~ Gender + Married + Education + Self_Employed + \n",
      "    ApplicantIncome + LoanAmount + Credit_History + Property_Area\n",
      "\n",
      "                   Df Deviance    AIC\n",
      "- Self_Employed     1   439.94 457.94\n",
      "- ApplicantIncome   1   440.03 458.03\n",
      "- Gender            1   440.80 458.80\n",
      "- Education         1   441.32 459.32\n",
      "<none>                  439.75 459.75\n",
      "- LoanAmount        1   443.40 461.40\n",
      "+ Loan_Amount_Term  1   439.63 461.63\n",
      "- Married           1   444.75 462.75\n",
      "+ Dependents        3   437.34 463.34\n",
      "- Property_Area     2   452.23 468.23\n",
      "- Credit_History    1   565.65 583.65\n",
      "\n",
      "Step:  AIC=457.94\n",
      "Loan_Status ~ Gender + Married + Education + ApplicantIncome + \n",
      "    LoanAmount + Credit_History + Property_Area\n",
      "\n",
      "                   Df Deviance    AIC\n",
      "- ApplicantIncome   1   440.16 456.16\n",
      "- Gender            1   441.00 457.00\n",
      "- Education         1   441.54 457.54\n",
      "<none>                  439.94 457.94\n",
      "- LoanAmount        1   443.62 459.62\n",
      "+ Self_Employed     1   439.75 459.75\n",
      "+ Loan_Amount_Term  1   439.83 459.83\n",
      "- Married           1   444.89 460.89\n",
      "+ Dependents        3   437.53 461.53\n",
      "- Property_Area     2   452.42 466.42\n",
      "- Credit_History    1   565.83 581.83\n",
      "\n",
      "Step:  AIC=456.16\n",
      "Loan_Status ~ Gender + Married + Education + LoanAmount + Credit_History + \n",
      "    Property_Area\n",
      "\n",
      "                   Df Deviance    AIC\n",
      "- Gender            1   441.20 455.20\n",
      "- Education         1   441.79 455.79\n",
      "<none>                  440.16 456.16\n",
      "+ ApplicantIncome   1   439.94 457.94\n",
      "- LoanAmount        1   444.02 458.02\n",
      "+ Self_Employed     1   440.03 458.03\n",
      "+ Loan_Amount_Term  1   440.03 458.03\n",
      "- Married           1   445.00 459.00\n",
      "+ Dependents        3   437.77 459.77\n",
      "- Property_Area     2   452.62 464.62\n",
      "- Credit_History    1   565.83 579.83\n",
      "\n",
      "Step:  AIC=455.2\n",
      "Loan_Status ~ Married + Education + LoanAmount + Credit_History + \n",
      "    Property_Area\n",
      "\n",
      "                   Df Deviance    AIC\n",
      "- Education         1   442.72 454.72\n",
      "<none>                  441.20 455.20\n",
      "+ Gender            1   440.16 456.16\n",
      "- LoanAmount        1   444.85 456.85\n",
      "+ ApplicantIncome   1   441.00 457.00\n",
      "+ Loan_Amount_Term  1   441.02 457.02\n",
      "+ Self_Employed     1   441.06 457.06\n",
      "+ Dependents        3   438.47 458.47\n",
      "- Married           1   448.72 460.72\n",
      "- Property_Area     2   453.01 463.01\n",
      "- Credit_History    1   567.39 579.39\n",
      "\n",
      "Step:  AIC=454.72\n",
      "Loan_Status ~ Married + LoanAmount + Credit_History + Property_Area\n",
      "\n",
      "                   Df Deviance    AIC\n",
      "<none>                  442.72 454.72\n",
      "+ Education         1   441.20 455.20\n",
      "- LoanAmount        1   445.58 455.58\n",
      "+ Gender            1   441.79 455.79\n",
      "+ ApplicantIncome   1   442.48 456.48\n",
      "+ Self_Employed     1   442.56 456.56\n",
      "+ Loan_Amount_Term  1   442.63 456.63\n",
      "+ Dependents        3   439.99 457.99\n",
      "- Married           1   449.91 459.91\n",
      "- Property_Area     2   454.75 462.75\n",
      "- Credit_History    1   570.59 580.59\n"
     ]
    }
   ],
   "source": [
    "stepAIC_both <- MASS::stepAIC(\n",
    "                              object = full_model,\n",
    "                              direction = \"both\"\n",
    "                             )"
   ]
  },
  {
   "cell_type": "markdown",
   "id": "276e85c2-287c-4f36-9fae-982e8b90a3b6",
   "metadata": {},
   "source": [
    "<font size = 5> Exhaustive Search <font>"
   ]
  },
  {
   "cell_type": "code",
   "execution_count": 7,
   "id": "39e17530-2579-4b4c-a39d-75ea4bbb9460",
   "metadata": {},
   "outputs": [],
   "source": [
    "#Create dummy variables for categorical columns\n",
    "df_dummy <- fastDummies::dummy_cols(df,\n",
    "                                    remove_first_dummy = TRUE,\n",
    "                                    remove_selected_columns = TRUE\n",
    "                                    )"
   ]
  },
  {
   "cell_type": "code",
   "execution_count": 8,
   "id": "26f033b4-8e73-48a1-9d6e-49147eea73d9",
   "metadata": {},
   "outputs": [
    {
     "name": "stderr",
     "output_type": "stream",
     "text": [
      "Morgan-Tatar search since family is non-gaussian.\n",
      "\n"
     ]
    },
    {
     "data": {
      "text/plain": [
       "AIC\n",
       "BICq equivalent for q in (0.813573114090236, 0.911608933189108)\n",
       "Best Model:\n",
       "                              Estimate   Std. Error     z value    Pr(>|z|)\n",
       "(Intercept)                0.667014880 2.955059e-01  2.25719682 0.023995779\n",
       "LoanAmount                -0.005389829 1.778832e-03 -3.02998141 0.002445688\n",
       "Dependents_1               1.096111203 3.575025e-01  3.06602397 0.002169259\n",
       "Dependents_2               0.650077272 3.216224e-01  2.02124354 0.043254561\n",
       "`Education_Not Graduate`  -0.539143936 3.016116e-01 -1.78754372 0.073849652\n",
       "Property_Area_Semiurban  -19.742776338 7.553300e+02 -0.02613795 0.979147308"
      ]
     },
     "metadata": {},
     "output_type": "display_data"
    }
   ],
   "source": [
    "bestglm::bestglm(\n",
    "  Xy = df_dummy %>% select(-Loan_Status),\n",
    "  family = binomial(),\n",
    "  IC = \"AIC\",\n",
    "  method = \"exhaustive\"\n",
    ")"
   ]
  },
  {
   "cell_type": "markdown",
   "id": "169351d2-2657-4e8e-991d-752dd35a02ce",
   "metadata": {},
   "source": [
    "**Full model:** <br>\n",
    "AIC = 465.14 <br>\n",
    "\n",
    "The full glm model selects Credit_History, Property_AreaSemiurban and MarriedYes as the most significant predictors. <br>\n",
    "\n",
    "\n",
    "**Forward Selection model:** <br>\n",
    "AIC = 465.14 <br>\n",
    "\n",
    "The forward selection model out of 13 predictors picked 10 of them: <br>\n",
    "Gender + Married + Dependents + Education + Self_Employed + ApplicantIncome + <br>\n",
    "LoanAmount + Loan_Amount_Term + Credit_History + Property_Area <br>\n",
    "and set other coefficients to zero. <br>\n",
    "\n",
    "\n",
    "**Backward Selection model:** <br>\n",
    "AIC = 454.72 <br>\n",
    "\n",
    "The backward selection model picked only 4 predictors and set other coefficients to zero. It is interesting that the backward selection model only picked the predictors that were significant in the full model. This means that the backward selection is more thorough in finding the best features compared to the forward selection model.\n",
    "\n",
    "\n",
    "**Forward_Backward selection:** <br>\n",
    "AIC = 454.72 <br>\n",
    "This model picked the same model as backward selection. This could be because there were not a high number of features so only going backward compared to going backward-forward would not make a difference. <br>\n",
    "\n",
    "\n",
    "**Exhaustive Serach Selection:** <br>\n",
    "Obviously this method took longer because it needed to go through all the possible combinations of the features. This model picked LoanAmount, Dependent categories, Education and Property_Area_Semiurban. Choice of Dependent categories and Education were unexpected for me. "
   ]
  },
  {
   "cell_type": "code",
   "execution_count": null,
   "id": "2d3e2a8d-8248-44d9-8026-fe186c19cf3b",
   "metadata": {},
   "outputs": [],
   "source": []
  }
 ],
 "metadata": {
  "kernelspec": {
   "display_name": "R",
   "language": "R",
   "name": "ir"
  },
  "language_info": {
   "codemirror_mode": "r",
   "file_extension": ".r",
   "mimetype": "text/x-r-source",
   "name": "R",
   "pygments_lexer": "r",
   "version": "4.3.2"
  }
 },
 "nbformat": 4,
 "nbformat_minor": 5
}
