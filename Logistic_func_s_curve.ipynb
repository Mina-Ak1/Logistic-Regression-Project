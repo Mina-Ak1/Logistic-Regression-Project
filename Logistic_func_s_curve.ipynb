{
 "cells": [
  {
   "cell_type": "markdown",
   "id": "8cce1441-9839-46e3-8044-aefb1c31172b",
   "metadata": {},
   "source": [
    "<font size=\"5\"> The Logistic Function and S-shaped Curves</font> <br>"
   ]
  },
  {
   "cell_type": "markdown",
   "id": "e557296a-33b0-4076-aa62-4448eebb9583",
   "metadata": {},
   "source": [
    "**Let's, use three different continous predictor variables. Fit three simple logistic regression models and plot the three fitted curves along with the base line logistic curve to analyze them.**"
   ]
  },
  {
   "cell_type": "code",
   "execution_count": 2,
   "id": "58ac29a6-fa26-44db-a7d7-1e5fb6af7158",
   "metadata": {},
   "outputs": [],
   "source": [
    "library(tidyverse)\n",
    "library(magrittr)\n",
    "library(dplyr)\n",
    "library(ggplot2)"
   ]
  },
  {
   "cell_type": "code",
   "execution_count": 3,
   "id": "21ddb1ff-c540-43ee-9163-46b27f95acbc",
   "metadata": {},
   "outputs": [],
   "source": [
    "#read in the data\n",
    "df <- read.csv(\"loan_dataset.csv\")"
   ]
  },
  {
   "cell_type": "code",
   "execution_count": 4,
   "id": "bf0b759c-3d0b-485d-bfe7-655afe792c10",
   "metadata": {},
   "outputs": [
    {
     "data": {
      "text/html": [
       "<table class=\"dataframe\">\n",
       "<caption>A data.frame: 6 × 11</caption>\n",
       "<thead>\n",
       "\t<tr><th></th><th scope=col>Gender</th><th scope=col>Married</th><th scope=col>Dependents</th><th scope=col>Education</th><th scope=col>Self_Employed</th><th scope=col>ApplicantIncome</th><th scope=col>LoanAmount</th><th scope=col>Loan_Amount_Term</th><th scope=col>Credit_History</th><th scope=col>Property_Area</th><th scope=col>Loan_Status</th></tr>\n",
       "\t<tr><th></th><th scope=col>&lt;chr&gt;</th><th scope=col>&lt;chr&gt;</th><th scope=col>&lt;chr&gt;</th><th scope=col>&lt;chr&gt;</th><th scope=col>&lt;chr&gt;</th><th scope=col>&lt;int&gt;</th><th scope=col>&lt;int&gt;</th><th scope=col>&lt;int&gt;</th><th scope=col>&lt;int&gt;</th><th scope=col>&lt;chr&gt;</th><th scope=col>&lt;fct&gt;</th></tr>\n",
       "</thead>\n",
       "<tbody>\n",
       "\t<tr><th scope=row>1</th><td>Male</td><td>Yes</td><td>1</td><td>Graduate    </td><td>No </td><td>4583</td><td>128</td><td>360</td><td>1</td><td>Rural</td><td>0</td></tr>\n",
       "\t<tr><th scope=row>2</th><td>Male</td><td>Yes</td><td>0</td><td>Graduate    </td><td>Yes</td><td>3000</td><td> 66</td><td>360</td><td>1</td><td>Urban</td><td>1</td></tr>\n",
       "\t<tr><th scope=row>3</th><td>Male</td><td>Yes</td><td>0</td><td>Not Graduate</td><td>No </td><td>2583</td><td>120</td><td>360</td><td>1</td><td>Urban</td><td>1</td></tr>\n",
       "\t<tr><th scope=row>4</th><td>Male</td><td>No </td><td>0</td><td>Graduate    </td><td>No </td><td>6000</td><td>141</td><td>360</td><td>1</td><td>Urban</td><td>1</td></tr>\n",
       "\t<tr><th scope=row>5</th><td>Male</td><td>Yes</td><td>2</td><td>Graduate    </td><td>Yes</td><td>5417</td><td>267</td><td>360</td><td>1</td><td>Urban</td><td>1</td></tr>\n",
       "\t<tr><th scope=row>6</th><td>Male</td><td>Yes</td><td>0</td><td>Not Graduate</td><td>No </td><td>2333</td><td> 95</td><td>360</td><td>1</td><td>Urban</td><td>1</td></tr>\n",
       "</tbody>\n",
       "</table>\n"
      ],
      "text/latex": [
       "A data.frame: 6 × 11\n",
       "\\begin{tabular}{r|lllllllllll}\n",
       "  & Gender & Married & Dependents & Education & Self\\_Employed & ApplicantIncome & LoanAmount & Loan\\_Amount\\_Term & Credit\\_History & Property\\_Area & Loan\\_Status\\\\\n",
       "  & <chr> & <chr> & <chr> & <chr> & <chr> & <int> & <int> & <int> & <int> & <chr> & <fct>\\\\\n",
       "\\hline\n",
       "\t1 & Male & Yes & 1 & Graduate     & No  & 4583 & 128 & 360 & 1 & Rural & 0\\\\\n",
       "\t2 & Male & Yes & 0 & Graduate     & Yes & 3000 &  66 & 360 & 1 & Urban & 1\\\\\n",
       "\t3 & Male & Yes & 0 & Not Graduate & No  & 2583 & 120 & 360 & 1 & Urban & 1\\\\\n",
       "\t4 & Male & No  & 0 & Graduate     & No  & 6000 & 141 & 360 & 1 & Urban & 1\\\\\n",
       "\t5 & Male & Yes & 2 & Graduate     & Yes & 5417 & 267 & 360 & 1 & Urban & 1\\\\\n",
       "\t6 & Male & Yes & 0 & Not Graduate & No  & 2333 &  95 & 360 & 1 & Urban & 1\\\\\n",
       "\\end{tabular}\n"
      ],
      "text/markdown": [
       "\n",
       "A data.frame: 6 × 11\n",
       "\n",
       "| <!--/--> | Gender &lt;chr&gt; | Married &lt;chr&gt; | Dependents &lt;chr&gt; | Education &lt;chr&gt; | Self_Employed &lt;chr&gt; | ApplicantIncome &lt;int&gt; | LoanAmount &lt;int&gt; | Loan_Amount_Term &lt;int&gt; | Credit_History &lt;int&gt; | Property_Area &lt;chr&gt; | Loan_Status &lt;fct&gt; |\n",
       "|---|---|---|---|---|---|---|---|---|---|---|---|\n",
       "| 1 | Male | Yes | 1 | Graduate     | No  | 4583 | 128 | 360 | 1 | Rural | 0 |\n",
       "| 2 | Male | Yes | 0 | Graduate     | Yes | 3000 |  66 | 360 | 1 | Urban | 1 |\n",
       "| 3 | Male | Yes | 0 | Not Graduate | No  | 2583 | 120 | 360 | 1 | Urban | 1 |\n",
       "| 4 | Male | No  | 0 | Graduate     | No  | 6000 | 141 | 360 | 1 | Urban | 1 |\n",
       "| 5 | Male | Yes | 2 | Graduate     | Yes | 5417 | 267 | 360 | 1 | Urban | 1 |\n",
       "| 6 | Male | Yes | 0 | Not Graduate | No  | 2333 |  95 | 360 | 1 | Urban | 1 |\n",
       "\n"
      ],
      "text/plain": [
       "  Gender Married Dependents Education    Self_Employed ApplicantIncome\n",
       "1 Male   Yes     1          Graduate     No            4583           \n",
       "2 Male   Yes     0          Graduate     Yes           3000           \n",
       "3 Male   Yes     0          Not Graduate No            2583           \n",
       "4 Male   No      0          Graduate     No            6000           \n",
       "5 Male   Yes     2          Graduate     Yes           5417           \n",
       "6 Male   Yes     0          Not Graduate No            2333           \n",
       "  LoanAmount Loan_Amount_Term Credit_History Property_Area Loan_Status\n",
       "1 128        360              1              Rural         0          \n",
       "2  66        360              1              Urban         1          \n",
       "3 120        360              1              Urban         1          \n",
       "4 141        360              1              Urban         1          \n",
       "5 267        360              1              Urban         1          \n",
       "6  95        360              1              Urban         1          "
      ]
     },
     "metadata": {},
     "output_type": "display_data"
    }
   ],
   "source": [
    "#Convert target column to factors\n",
    "df <- df %>% dplyr::mutate(Loan_Status = as.factor(Loan_Status))\n",
    "head(df)"
   ]
  },
  {
   "cell_type": "code",
   "execution_count": 5,
   "id": "3b564487-07c5-49e7-bb6a-92735654fda3",
   "metadata": {
    "scrolled": true
   },
   "outputs": [
    {
     "data": {
      "text/plain": [
       "\n",
       "Call:\n",
       "glm(formula = Loan_Status ~ ApplicantIncome, family = binomial(), \n",
       "    data = df)\n",
       "\n",
       "Coefficients:\n",
       "                  Estimate Std. Error z value Pr(>|z|)    \n",
       "(Intercept)      8.914e-01  1.347e-01   6.620 3.58e-11 ***\n",
       "ApplicantIncome -1.536e-05  1.664e-05  -0.923    0.356    \n",
       "---\n",
       "Signif. codes:  0 '***' 0.001 '**' 0.01 '*' 0.05 '.' 0.1 ' ' 1\n",
       "\n",
       "(Dispersion parameter for binomial family taken to be 1)\n",
       "\n",
       "    Null deviance: 593.05  on 479  degrees of freedom\n",
       "Residual deviance: 592.21  on 478  degrees of freedom\n",
       "AIC: 596.21\n",
       "\n",
       "Number of Fisher Scoring iterations: 4\n"
      ]
     },
     "metadata": {},
     "output_type": "display_data"
    }
   ],
   "source": [
    "#model1\n",
    "glm_model <- glm(\n",
    "                formula = Loan_Status ~ ApplicantIncome,\n",
    "                data = df,\n",
    "                family = binomial()\n",
    "                )\n",
    "summary(\n",
    "    object = glm_model\n",
    "    )\n",
    "coef.1 = coef(glm_model)"
   ]
  },
  {
   "cell_type": "code",
   "execution_count": 6,
   "id": "de272419-e7f3-484c-8ed7-626098426143",
   "metadata": {},
   "outputs": [
    {
     "data": {
      "text/plain": [
       "\n",
       "Call:\n",
       "glm(formula = Loan_Status ~ LoanAmount, family = binomial(), \n",
       "    data = df)\n",
       "\n",
       "Coefficients:\n",
       "             Estimate Std. Error z value Pr(>|z|)    \n",
       "(Intercept)  1.077944   0.201586   5.347 8.93e-08 ***\n",
       "LoanAmount  -0.001840   0.001182  -1.556     0.12    \n",
       "---\n",
       "Signif. codes:  0 '***' 0.001 '**' 0.01 '*' 0.05 '.' 0.1 ' ' 1\n",
       "\n",
       "(Dispersion parameter for binomial family taken to be 1)\n",
       "\n",
       "    Null deviance: 593.05  on 479  degrees of freedom\n",
       "Residual deviance: 590.67  on 478  degrees of freedom\n",
       "AIC: 594.67\n",
       "\n",
       "Number of Fisher Scoring iterations: 4\n"
      ]
     },
     "metadata": {},
     "output_type": "display_data"
    }
   ],
   "source": [
    "#model2\n",
    "glm_model <- glm(\n",
    "                formula = Loan_Status ~ LoanAmount,\n",
    "                data = df,\n",
    "                family = binomial()\n",
    "                )\n",
    "summary(\n",
    "    object = glm_model\n",
    "    )\n",
    "coef.2 = coef(glm_model)"
   ]
  },
  {
   "cell_type": "code",
   "execution_count": 7,
   "id": "40199cb3-06c9-4699-8867-8a561ea41a61",
   "metadata": {},
   "outputs": [
    {
     "data": {
      "text/plain": [
       "\n",
       "Call:\n",
       "glm(formula = Loan_Status ~ Loan_Amount_Term, family = binomial(), \n",
       "    data = df)\n",
       "\n",
       "Coefficients:\n",
       "                   Estimate Std. Error z value Pr(>|z|)  \n",
       "(Intercept)       0.8973268  0.5329592   1.684   0.0922 .\n",
       "Loan_Amount_Term -0.0002612  0.0015292  -0.171   0.8644  \n",
       "---\n",
       "Signif. codes:  0 '***' 0.001 '**' 0.01 '*' 0.05 '.' 0.1 ' ' 1\n",
       "\n",
       "(Dispersion parameter for binomial family taken to be 1)\n",
       "\n",
       "    Null deviance: 593.05  on 479  degrees of freedom\n",
       "Residual deviance: 593.02  on 478  degrees of freedom\n",
       "AIC: 597.02\n",
       "\n",
       "Number of Fisher Scoring iterations: 4\n"
      ]
     },
     "metadata": {},
     "output_type": "display_data"
    }
   ],
   "source": [
    "#model3\n",
    "glm_model <- glm(\n",
    "                formula = Loan_Status ~ Loan_Amount_Term,\n",
    "                data = df,\n",
    "                family = binomial()\n",
    "                )\n",
    "summary(\n",
    "    object = glm_model\n",
    "    )\n",
    "coef.3 = coef(glm_model)"
   ]
  },
  {
   "cell_type": "code",
   "execution_count": 8,
   "id": "43d5d2b0-a7ca-4c60-bf2e-cb37570265da",
   "metadata": {},
   "outputs": [
    {
     "data": {
      "text/html": [
       "<table class=\"dataframe\">\n",
       "<caption>A data.frame: 6 × 3</caption>\n",
       "<thead>\n",
       "\t<tr><th></th><th scope=col>z</th><th scope=col>slope</th><th scope=col>y</th></tr>\n",
       "\t<tr><th></th><th scope=col>&lt;dbl&gt;</th><th scope=col>&lt;chr&gt;</th><th scope=col>&lt;dbl&gt;</th></tr>\n",
       "</thead>\n",
       "<tbody>\n",
       "\t<tr><th scope=row>1</th><td>-100000</td><td>log.curve1</td><td>0.9188608</td></tr>\n",
       "\t<tr><th scope=row>2</th><td> -99999</td><td>log.curve1</td><td>0.9188597</td></tr>\n",
       "\t<tr><th scope=row>3</th><td> -99998</td><td>log.curve1</td><td>0.9188585</td></tr>\n",
       "\t<tr><th scope=row>4</th><td> -99997</td><td>log.curve1</td><td>0.9188574</td></tr>\n",
       "\t<tr><th scope=row>5</th><td> -99996</td><td>log.curve1</td><td>0.9188562</td></tr>\n",
       "\t<tr><th scope=row>6</th><td> -99995</td><td>log.curve1</td><td>0.9188551</td></tr>\n",
       "</tbody>\n",
       "</table>\n"
      ],
      "text/latex": [
       "A data.frame: 6 × 3\n",
       "\\begin{tabular}{r|lll}\n",
       "  & z & slope & y\\\\\n",
       "  & <dbl> & <chr> & <dbl>\\\\\n",
       "\\hline\n",
       "\t1 & -100000 & log.curve1 & 0.9188608\\\\\n",
       "\t2 &  -99999 & log.curve1 & 0.9188597\\\\\n",
       "\t3 &  -99998 & log.curve1 & 0.9188585\\\\\n",
       "\t4 &  -99997 & log.curve1 & 0.9188574\\\\\n",
       "\t5 &  -99996 & log.curve1 & 0.9188562\\\\\n",
       "\t6 &  -99995 & log.curve1 & 0.9188551\\\\\n",
       "\\end{tabular}\n"
      ],
      "text/markdown": [
       "\n",
       "A data.frame: 6 × 3\n",
       "\n",
       "| <!--/--> | z &lt;dbl&gt; | slope &lt;chr&gt; | y &lt;dbl&gt; |\n",
       "|---|---|---|---|\n",
       "| 1 | -100000 | log.curve1 | 0.9188608 |\n",
       "| 2 |  -99999 | log.curve1 | 0.9188597 |\n",
       "| 3 |  -99998 | log.curve1 | 0.9188585 |\n",
       "| 4 |  -99997 | log.curve1 | 0.9188574 |\n",
       "| 5 |  -99996 | log.curve1 | 0.9188562 |\n",
       "| 6 |  -99995 | log.curve1 | 0.9188551 |\n",
       "\n"
      ],
      "text/plain": [
       "  z       slope      y        \n",
       "1 -100000 log.curve1 0.9188608\n",
       "2  -99999 log.curve1 0.9188597\n",
       "3  -99998 log.curve1 0.9188585\n",
       "4  -99997 log.curve1 0.9188574\n",
       "5  -99996 log.curve1 0.9188562\n",
       "6  -99995 log.curve1 0.9188551"
      ]
     },
     "metadata": {},
     "output_type": "display_data"
    }
   ],
   "source": [
    "M <- data.frame(z = seq(from = -100000, to = 100000, by = 1)) %>%\n",
    "     mutate(\n",
    "         log.curve1 = 1/ (1 + exp(-(coef.1[1] + coef.1[2] * z)))\n",
    "     ) %>%\n",
    "     mutate(\n",
    "         log.curve2 = 1/ (1 + exp(-(coef.2[1] + coef.2[2] * z)))\n",
    "     ) %>%\n",
    "     mutate(\n",
    "         log.curve3 = 1/ (1 + exp(-(coef.3[1] + coef.3[2] * z)))\n",
    "     ) %>%\n",
    "     mutate(\n",
    "         log.curve.base = 1/ (1 + exp(-z))\n",
    "         ) %>%\n",
    "     tidyr::gather(\n",
    "         key = \"slope\",\n",
    "         value = \"y\",\n",
    "         -z\n",
    "         )\n",
    "         \n",
    "head(M)"
   ]
  },
  {
   "cell_type": "code",
   "execution_count": 9,
   "id": "3de72235-5583-48f1-9ef5-0d39e992adda",
   "metadata": {},
   "outputs": [
    {
     "data": {
      "image/png": "[encoded data removed]",
      "text/plain": [
       "plot without title"
      ]
     },
     "metadata": {
      "image/png": {
       "height": 420,
       "width": 420
      }
     },
     "output_type": "display_data"
    }
   ],
   "source": [
    "ggplot(M) +\n",
    "    aes(x=z, y=y, color = slope) +\n",
    "    geom_line() +\n",
    "    theme_bw() +\n",
    "    geom_hline(yintercept = 0:1, linetype = \"dashed\", color = \"darkblue\") +\n",
    "    labs(title = \"Graph of logistic curves with intercept 1.13 and different coefficients\")"
   ]
  },
  {
   "cell_type": "markdown",
   "id": "4371ae83-a051-453a-bf85-0b2cdb345499",
   "metadata": {},
   "source": [
    "**Comparison:**"
   ]
  },
  {
   "cell_type": "code",
   "execution_count": 9,
   "id": "02d41335-5ca2-4770-b99c-b78d411d6d95",
   "metadata": {},
   "outputs": [
    {
     "data": {
      "text/html": [
       "<style>\n",
       ".list-inline {list-style: none; margin:0; padding: 0}\n",
       ".list-inline>li {display: inline-block}\n",
       ".list-inline>li:not(:last-child)::after {content: \"\\00b7\"; padding: 0 .5ex}\n",
       "</style>\n",
       "<ol class=list-inline><li>0.891438662282756</li><li>0.897326805821087</li><li>1.07794387018112</li></ol>\n"
      ],
      "text/latex": [
       "\\begin{enumerate*}\n",
       "\\item 0.891438662282756\n",
       "\\item 0.897326805821087\n",
       "\\item 1.07794387018112\n",
       "\\end{enumerate*}\n"
      ],
      "text/markdown": [
       "1. 0.891438662282756\n",
       "2. 0.897326805821087\n",
       "3. 1.07794387018112\n",
       "\n",
       "\n"
      ],
      "text/plain": [
       "[1] 0.8914387 0.8973268 1.0779439"
      ]
     },
     "metadata": {},
     "output_type": "display_data"
    },
    {
     "data": {
      "text/html": [
       "<style>\n",
       ".list-inline {list-style: none; margin:0; padding: 0}\n",
       ".list-inline>li {display: inline-block}\n",
       ".list-inline>li:not(:last-child)::after {content: \"\\00b7\"; padding: 0 .5ex}\n",
       "</style>\n",
       "<ol class=list-inline><li>1</li><li>3</li><li>2</li></ol>\n"
      ],
      "text/latex": [
       "\\begin{enumerate*}\n",
       "\\item 1\n",
       "\\item 3\n",
       "\\item 2\n",
       "\\end{enumerate*}\n"
      ],
      "text/markdown": [
       "1. 1\n",
       "2. 3\n",
       "3. 2\n",
       "\n",
       "\n"
      ],
      "text/plain": [
       "[1] 1 3 2"
      ]
     },
     "metadata": {},
     "output_type": "display_data"
    }
   ],
   "source": [
    "#The smallest to the largest  intercepts\n",
    "dd = data.frame(coefs = c(coef.1[[1]], coef.2[[1]], coef.3[[1]]))\n",
    "dd[order(dd$coefs),]\n",
    "order(dd$coefs)"
   ]
  },
  {
   "cell_type": "code",
   "execution_count": 10,
   "id": "ac83918b-79b9-4208-b501-694f8c0d90ad",
   "metadata": {},
   "outputs": [
    {
     "data": {
      "text/html": [
       "<style>\n",
       ".list-inline {list-style: none; margin:0; padding: 0}\n",
       ".list-inline>li {display: inline-block}\n",
       ".list-inline>li:not(:last-child)::after {content: \"\\00b7\"; padding: 0 .5ex}\n",
       "</style>\n",
       "<ol class=list-inline><li>0.00183984484716669</li><li>0.000261213545264864</li><li>1.53552994309415e-05</li></ol>\n"
      ],
      "text/latex": [
       "\\begin{enumerate*}\n",
       "\\item 0.00183984484716669\n",
       "\\item 0.000261213545264864\n",
       "\\item 1.53552994309415e-05\n",
       "\\end{enumerate*}\n"
      ],
      "text/markdown": [
       "1. 0.00183984484716669\n",
       "2. 0.000261213545264864\n",
       "3. 1.53552994309415e-05\n",
       "\n",
       "\n"
      ],
      "text/plain": [
       "[1] 0.0018398448 0.0002612135 0.0000153553"
      ]
     },
     "metadata": {},
     "output_type": "display_data"
    },
    {
     "data": {
      "text/html": [
       "<style>\n",
       ".list-inline {list-style: none; margin:0; padding: 0}\n",
       ".list-inline>li {display: inline-block}\n",
       ".list-inline>li:not(:last-child)::after {content: \"\\00b7\"; padding: 0 .5ex}\n",
       "</style>\n",
       "<ol class=list-inline><li>1</li><li>3</li><li>2</li></ol>\n"
      ],
      "text/latex": [
       "\\begin{enumerate*}\n",
       "\\item 1\n",
       "\\item 3\n",
       "\\item 2\n",
       "\\end{enumerate*}\n"
      ],
      "text/markdown": [
       "1. 1\n",
       "2. 3\n",
       "3. 2\n",
       "\n",
       "\n"
      ],
      "text/plain": [
       "[1] 1 3 2"
      ]
     },
     "metadata": {},
     "output_type": "display_data"
    }
   ],
   "source": [
    "#The smallest to the largest absolute slopes\n",
    "dd = data.frame(coefs = c(coef.1[[2]], coef.2[[2]], coef.3[[2]]))\n",
    "abs(dd[order(dd$coefs),])\n",
    "order(abs(dd$coefs))"
   ]
  },
  {
   "cell_type": "markdown",
   "id": "24969cc6-17c9-4657-a1c9-07d4b4c5968b",
   "metadata": {},
   "source": [
    "**NOTE:** <br>\n",
    "We see that curve1, curve3 and curve2 approach to the probability 0 and 1 very slowly, resepctively. <br>\n",
    "However, the baseline curve which has the intercept of 0 and coefficient beta1 equal to 1, converges to 0 and 1 much faster. <br>\n",
    "That is because curve1, curve3 and curve2 have smaller slopes (flatter). also they are negative, so the slopes are negative. <br>\n",
    "Curve 1,2 and 3 intercepts are all positive so these curves are all on the left side of the base curve. <br>\n",
    "Based on the summary of logistic regressions above, we can see that none of the coefficients besides the intercept are significant."
   ]
  },
  {
   "cell_type": "markdown",
   "id": "4f31a241-5690-4950-acca-8eb8e5d89c66",
   "metadata": {},
   "source": [
    "**For each model, let's find the inflection point’s x and y coordinates. We would like to find the derivative at the inflection point.**"
   ]
  },
  {
   "cell_type": "markdown",
   "id": "058fb339-65dd-4577-9941-276004af504b",
   "metadata": {},
   "source": [
    "The inflection point happens at z = - (b_0/b_1). <br>\n",
    "and the derivative at the inflection point will be: -(b_1)/4 <br>\n",
    "Now let's calculate these values for our 3 different curves:"
   ]
  },
  {
   "cell_type": "code",
   "execution_count": 11,
   "id": "1eedbfd2-f4ab-46d0-a983-0d796572008c",
   "metadata": {},
   "outputs": [
    {
     "data": {
      "text/html": [
       "<table class=\"dataframe\">\n",
       "<caption>A data.frame: 3 × 5</caption>\n",
       "<thead>\n",
       "\t<tr><th scope=col>curves</th><th scope=col>b_0</th><th scope=col>b_1</th><th scope=col>inflection.point</th><th scope=col>derivative.infl.point</th></tr>\n",
       "\t<tr><th scope=col>&lt;dbl&gt;</th><th scope=col>&lt;dbl&gt;</th><th scope=col>&lt;dbl&gt;</th><th scope=col>&lt;dbl&gt;</th><th scope=col>&lt;dbl&gt;</th></tr>\n",
       "</thead>\n",
       "<tbody>\n",
       "\t<tr><td>1</td><td>0.8914387</td><td>-0.0000153553</td><td>58054.1374</td><td>3.838825e-06</td></tr>\n",
       "\t<tr><td>2</td><td>1.0779439</td><td>-0.0018398448</td><td>  585.8885</td><td>4.599612e-04</td></tr>\n",
       "\t<tr><td>3</td><td>0.8973268</td><td>-0.0002612135</td><td> 3435.2231</td><td>6.530339e-05</td></tr>\n",
       "</tbody>\n",
       "</table>\n"
      ],
      "text/latex": [
       "A data.frame: 3 × 5\n",
       "\\begin{tabular}{lllll}\n",
       " curves & b\\_0 & b\\_1 & inflection.point & derivative.infl.point\\\\\n",
       " <dbl> & <dbl> & <dbl> & <dbl> & <dbl>\\\\\n",
       "\\hline\n",
       "\t 1 & 0.8914387 & -0.0000153553 & 58054.1374 & 3.838825e-06\\\\\n",
       "\t 2 & 1.0779439 & -0.0018398448 &   585.8885 & 4.599612e-04\\\\\n",
       "\t 3 & 0.8973268 & -0.0002612135 &  3435.2231 & 6.530339e-05\\\\\n",
       "\\end{tabular}\n"
      ],
      "text/markdown": [
       "\n",
       "A data.frame: 3 × 5\n",
       "\n",
       "| curves &lt;dbl&gt; | b_0 &lt;dbl&gt; | b_1 &lt;dbl&gt; | inflection.point &lt;dbl&gt; | derivative.infl.point &lt;dbl&gt; |\n",
       "|---|---|---|---|---|\n",
       "| 1 | 0.8914387 | -0.0000153553 | 58054.1374 | 3.838825e-06 |\n",
       "| 2 | 1.0779439 | -0.0018398448 |   585.8885 | 4.599612e-04 |\n",
       "| 3 | 0.8973268 | -0.0002612135 |  3435.2231 | 6.530339e-05 |\n",
       "\n"
      ],
      "text/plain": [
       "  curves b_0       b_1           inflection.point derivative.infl.point\n",
       "1 1      0.8914387 -0.0000153553 58054.1374       3.838825e-06         \n",
       "2 2      1.0779439 -0.0018398448   585.8885       4.599612e-04         \n",
       "3 3      0.8973268 -0.0002612135  3435.2231       6.530339e-05         "
      ]
     },
     "metadata": {},
     "output_type": "display_data"
    }
   ],
   "source": [
    "df <- data.frame(curves = c(1, 2, 3),\n",
    "                 b_0 = c(coef.1[[1]], coef.2[[1]], coef.3[[1]]),\n",
    "                 b_1 = c(coef.1[[2]], coef.2[[2]], coef.3[[2]])\n",
    "                ) %>% \n",
    "                    dplyr::mutate(inflection.point = -b_0/b_1\n",
    "                ) %>% \n",
    "                    dplyr::mutate(derivative.infl.point = -b_1/4)\n",
    "                                  \n",
    "                \n",
    "df"
   ]
  },
  {
   "cell_type": "code",
   "execution_count": null,
   "id": "ed87de83-5ce6-46ec-8084-4df1a1291bb0",
   "metadata": {},
   "outputs": [],
   "source": []
  }
 ],
 "metadata": {
  "kernelspec": {
   "display_name": "R",
   "language": "R",
   "name": "ir"
  },
  "language_info": {
   "codemirror_mode": "r",
   "file_extension": ".r",
   "mimetype": "text/x-r-source",
   "name": "R",
   "pygments_lexer": "r",
   "version": "4.3.2"
  }
 },
 "nbformat": 4,
 "nbformat_minor": 5
}
