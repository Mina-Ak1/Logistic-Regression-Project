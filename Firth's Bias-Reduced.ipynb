{
 "cells": [
  {
   "cell_type": "markdown",
   "id": "4b6ee073-740e-4010-bab2-39c1d39e4781",
   "metadata": {},
   "source": [
    "<font size =5> Firth's Bias-Reduced Logistic <font> <br>\n"
   ]
  },
  {
   "cell_type": "code",
   "execution_count": 1,
   "id": "028075b3-7ae6-45ce-b772-fb92722ed81e",
   "metadata": {},
   "outputs": [
    {
     "name": "stderr",
     "output_type": "stream",
     "text": [
      "\n",
      "Attaching package: 'dplyr'\n",
      "\n",
      "\n",
      "The following objects are masked from 'package:stats':\n",
      "\n",
      "    filter, lag\n",
      "\n",
      "\n",
      "The following objects are masked from 'package:base':\n",
      "\n",
      "    intersect, setdiff, setequal, union\n",
      "\n",
      "\n"
     ]
    },
    {
     "data": {
      "text/html": [
       "<table class=\"dataframe\">\n",
       "<caption>A data.frame: 6 × 11</caption>\n",
       "<thead>\n",
       "\t<tr><th></th><th scope=col>Gender</th><th scope=col>Married</th><th scope=col>Dependents</th><th scope=col>Education</th><th scope=col>Self_Employed</th><th scope=col>ApplicantIncome</th><th scope=col>LoanAmount</th><th scope=col>Loan_Amount_Term</th><th scope=col>Credit_History</th><th scope=col>Property_Area</th><th scope=col>Loan_Status</th></tr>\n",
       "\t<tr><th></th><th scope=col>&lt;chr&gt;</th><th scope=col>&lt;chr&gt;</th><th scope=col>&lt;chr&gt;</th><th scope=col>&lt;chr&gt;</th><th scope=col>&lt;chr&gt;</th><th scope=col>&lt;int&gt;</th><th scope=col>&lt;int&gt;</th><th scope=col>&lt;int&gt;</th><th scope=col>&lt;int&gt;</th><th scope=col>&lt;chr&gt;</th><th scope=col>&lt;int&gt;</th></tr>\n",
       "</thead>\n",
       "<tbody>\n",
       "\t<tr><th scope=row>1</th><td>Male</td><td>Yes</td><td>1</td><td>Graduate    </td><td>No </td><td>4583</td><td>128</td><td>360</td><td>1</td><td>Rural</td><td>0</td></tr>\n",
       "\t<tr><th scope=row>2</th><td>Male</td><td>Yes</td><td>0</td><td>Graduate    </td><td>Yes</td><td>3000</td><td> 66</td><td>360</td><td>1</td><td>Urban</td><td>1</td></tr>\n",
       "\t<tr><th scope=row>3</th><td>Male</td><td>Yes</td><td>0</td><td>Not Graduate</td><td>No </td><td>2583</td><td>120</td><td>360</td><td>1</td><td>Urban</td><td>1</td></tr>\n",
       "\t<tr><th scope=row>4</th><td>Male</td><td>No </td><td>0</td><td>Graduate    </td><td>No </td><td>6000</td><td>141</td><td>360</td><td>1</td><td>Urban</td><td>1</td></tr>\n",
       "\t<tr><th scope=row>5</th><td>Male</td><td>Yes</td><td>2</td><td>Graduate    </td><td>Yes</td><td>5417</td><td>267</td><td>360</td><td>1</td><td>Urban</td><td>1</td></tr>\n",
       "\t<tr><th scope=row>6</th><td>Male</td><td>Yes</td><td>0</td><td>Not Graduate</td><td>No </td><td>2333</td><td> 95</td><td>360</td><td>1</td><td>Urban</td><td>1</td></tr>\n",
       "</tbody>\n",
       "</table>\n"
      ],
      "text/latex": [
       "A data.frame: 6 × 11\n",
       "\\begin{tabular}{r|lllllllllll}\n",
       "  & Gender & Married & Dependents & Education & Self\\_Employed & ApplicantIncome & LoanAmount & Loan\\_Amount\\_Term & Credit\\_History & Property\\_Area & Loan\\_Status\\\\\n",
       "  & <chr> & <chr> & <chr> & <chr> & <chr> & <int> & <int> & <int> & <int> & <chr> & <int>\\\\\n",
       "\\hline\n",
       "\t1 & Male & Yes & 1 & Graduate     & No  & 4583 & 128 & 360 & 1 & Rural & 0\\\\\n",
       "\t2 & Male & Yes & 0 & Graduate     & Yes & 3000 &  66 & 360 & 1 & Urban & 1\\\\\n",
       "\t3 & Male & Yes & 0 & Not Graduate & No  & 2583 & 120 & 360 & 1 & Urban & 1\\\\\n",
       "\t4 & Male & No  & 0 & Graduate     & No  & 6000 & 141 & 360 & 1 & Urban & 1\\\\\n",
       "\t5 & Male & Yes & 2 & Graduate     & Yes & 5417 & 267 & 360 & 1 & Urban & 1\\\\\n",
       "\t6 & Male & Yes & 0 & Not Graduate & No  & 2333 &  95 & 360 & 1 & Urban & 1\\\\\n",
       "\\end{tabular}\n"
      ],
      "text/markdown": [
       "\n",
       "A data.frame: 6 × 11\n",
       "\n",
       "| <!--/--> | Gender &lt;chr&gt; | Married &lt;chr&gt; | Dependents &lt;chr&gt; | Education &lt;chr&gt; | Self_Employed &lt;chr&gt; | ApplicantIncome &lt;int&gt; | LoanAmount &lt;int&gt; | Loan_Amount_Term &lt;int&gt; | Credit_History &lt;int&gt; | Property_Area &lt;chr&gt; | Loan_Status &lt;int&gt; |\n",
       "|---|---|---|---|---|---|---|---|---|---|---|---|\n",
       "| 1 | Male | Yes | 1 | Graduate     | No  | 4583 | 128 | 360 | 1 | Rural | 0 |\n",
       "| 2 | Male | Yes | 0 | Graduate     | Yes | 3000 |  66 | 360 | 1 | Urban | 1 |\n",
       "| 3 | Male | Yes | 0 | Not Graduate | No  | 2583 | 120 | 360 | 1 | Urban | 1 |\n",
       "| 4 | Male | No  | 0 | Graduate     | No  | 6000 | 141 | 360 | 1 | Urban | 1 |\n",
       "| 5 | Male | Yes | 2 | Graduate     | Yes | 5417 | 267 | 360 | 1 | Urban | 1 |\n",
       "| 6 | Male | Yes | 0 | Not Graduate | No  | 2333 |  95 | 360 | 1 | Urban | 1 |\n",
       "\n"
      ],
      "text/plain": [
       "  Gender Married Dependents Education    Self_Employed ApplicantIncome\n",
       "1 Male   Yes     1          Graduate     No            4583           \n",
       "2 Male   Yes     0          Graduate     Yes           3000           \n",
       "3 Male   Yes     0          Not Graduate No            2583           \n",
       "4 Male   No      0          Graduate     No            6000           \n",
       "5 Male   Yes     2          Graduate     Yes           5417           \n",
       "6 Male   Yes     0          Not Graduate No            2333           \n",
       "  LoanAmount Loan_Amount_Term Credit_History Property_Area Loan_Status\n",
       "1 128        360              1              Rural         0          \n",
       "2  66        360              1              Urban         1          \n",
       "3 120        360              1              Urban         1          \n",
       "4 141        360              1              Urban         1          \n",
       "5 267        360              1              Urban         1          \n",
       "6  95        360              1              Urban         1          "
      ]
     },
     "metadata": {},
     "output_type": "display_data"
    }
   ],
   "source": [
    "#Load data and packages\n",
    "library(dplyr)\n",
    "library(ggplot2)\n",
    "\n",
    "df <- read.csv(\"loan_dataset.csv\")\n",
    "head(df)\n",
    "\n",
    "options(\n",
    "  digits = 2,\n",
    "  scipen = 999\n",
    ")"
   ]
  },
  {
   "cell_type": "markdown",
   "id": "accdfdf6-7843-4c77-ba03-0ee26a9021bb",
   "metadata": {},
   "source": [
    "**Fit a model using standard maximum likelihood estimation**"
   ]
  },
  {
   "cell_type": "code",
   "execution_count": 2,
   "id": "8e9a93f5-0502-4d76-9f15-e16b61e3af97",
   "metadata": {},
   "outputs": [
    {
     "data": {
      "text/plain": [
       "\n",
       "Call:\n",
       "glm(formula = Loan_Status ~ ., family = binomial(), data = df)\n",
       "\n",
       "Coefficients:\n",
       "                         Estimate Std. Error z value            Pr(>|z|)    \n",
       "(Intercept)            -2.4532091  0.9280304   -2.64              0.0082 ** \n",
       "GenderMale              0.2638986  0.3264294    0.81              0.4188    \n",
       "MarriedYes              0.5753191  0.2923975    1.97              0.0491 *  \n",
       "Dependents1            -0.3533445  0.3454939   -1.02              0.3064    \n",
       "Dependents2             0.2752209  0.3776846    0.73              0.4662    \n",
       "Dependents3+            0.2099876  0.4840827    0.43              0.6644    \n",
       "EducationNot Graduate  -0.3913936  0.3018264   -1.30              0.1947    \n",
       "Self_EmployedYes       -0.1575952  0.3515472   -0.45              0.6539    \n",
       "ApplicantIncome         0.0000149  0.0000267    0.56              0.5786    \n",
       "LoanAmount             -0.0032332  0.0017104   -1.89              0.0587 .  \n",
       "Loan_Amount_Term       -0.0008775  0.0020236   -0.43              0.6646    \n",
       "Credit_History          3.6482858  0.4330886    8.42 <0.0000000000000002 ***\n",
       "Property_AreaSemiurban  0.9802284  0.3031813    3.23              0.0012 ** \n",
       "Property_AreaUrban      0.1385092  0.2997880    0.46              0.6441    \n",
       "---\n",
       "Signif. codes:  0 '***' 0.001 '**' 0.01 '*' 0.05 '.' 0.1 ' ' 1\n",
       "\n",
       "(Dispersion parameter for binomial family taken to be 1)\n",
       "\n",
       "    Null deviance: 593.05  on 479  degrees of freedom\n",
       "Residual deviance: 437.14  on 466  degrees of freedom\n",
       "AIC: 465.1\n",
       "\n",
       "Number of Fisher Scoring iterations: 5\n"
      ]
     },
     "metadata": {},
     "output_type": "display_data"
    }
   ],
   "source": [
    "glm_model <- glm(Loan_Status ~ .,\n",
    "                 data = df,\n",
    "                 family = binomial()\n",
    "                 )\n",
    "summary(glm_model)"
   ]
  },
  {
   "cell_type": "markdown",
   "id": "2acb4141-52e5-473d-940d-856c25ada0d7",
   "metadata": {},
   "source": [
    "**Fit your model again using bias reduction**\n"
   ]
  },
  {
   "cell_type": "code",
   "execution_count": 3,
   "id": "d14e7c68-2e99-4797-bac5-36165d489e93",
   "metadata": {},
   "outputs": [
    {
     "data": {
      "text/plain": [
       "\n",
       "Call:\n",
       "brglm::brglm(formula = Loan_Status ~ ., family = binomial(), \n",
       "    data = df, pl = TRUE)\n",
       "\n",
       "\n",
       "Coefficients:\n",
       "                        Estimate Std. Error z value            Pr(>|z|)    \n",
       "(Intercept)            -2.361394   0.899874   -2.62              0.0087 ** \n",
       "GenderMale              0.264721   0.321753    0.82              0.4107    \n",
       "MarriedYes              0.566189   0.287628    1.97              0.0490 *  \n",
       "Dependents1            -0.358977   0.340254   -1.06              0.2914    \n",
       "Dependents2             0.251149   0.369532    0.68              0.4967    \n",
       "Dependents3+            0.181604   0.473501    0.38              0.7013    \n",
       "EducationNot Graduate  -0.384638   0.296632   -1.30              0.1947    \n",
       "Self_EmployedYes       -0.181479   0.344784   -0.53              0.5986    \n",
       "ApplicantIncome         0.000019   0.000025    0.76              0.4484    \n",
       "LoanAmount             -0.003225   0.001677   -1.92              0.0545 .  \n",
       "Loan_Amount_Term       -0.000696   0.001965   -0.35              0.7233    \n",
       "Credit_History          3.453180   0.411816    8.39 <0.0000000000000002 ***\n",
       "Property_AreaSemiurban  0.941458   0.297153    3.17              0.0015 ** \n",
       "Property_AreaUrban      0.131388   0.295698    0.44              0.6568    \n",
       "---\n",
       "Signif. codes:  0 '***' 0.001 '**' 0.01 '*' 0.05 '.' 0.1 ' ' 1\n",
       "\n",
       "(Dispersion parameter for binomial family taken to be 1)\n",
       "\n",
       "    Null deviance: 544.17  on 479  degrees of freedom\n",
       "Residual deviance: 437.47  on 466  degrees of freedom\n",
       "Penalized deviance: 364 \n",
       "AIC:  465.5 \n"
      ]
     },
     "metadata": {},
     "output_type": "display_data"
    }
   ],
   "source": [
    "pl_model <- brglm::brglm(\n",
    "  formula = Loan_Status ~ .,\n",
    "  data = df,\n",
    "  family = binomial(),\n",
    "  pl = TRUE\n",
    ")\n",
    "\n",
    "summary(pl_model)"
   ]
  },
  {
   "cell_type": "code",
   "execution_count": 4,
   "id": "0e0b7eed-320f-4aeb-a96f-8cba5b96687d",
   "metadata": {},
   "outputs": [
    {
     "data": {
      "text/html": [
       "<table class=\"dataframe\">\n",
       "<caption>A data.frame: 14 × 3</caption>\n",
       "<thead>\n",
       "\t<tr><th scope=col>coefficients</th><th scope=col>glm_value</th><th scope=col>pl_value</th></tr>\n",
       "\t<tr><th scope=col>&lt;chr&gt;</th><th scope=col>&lt;dbl&gt;</th><th scope=col>&lt;dbl&gt;</th></tr>\n",
       "</thead>\n",
       "<tbody>\n",
       "\t<tr><td>(Intercept)           </td><td>-2.45321</td><td>-2.36139</td></tr>\n",
       "\t<tr><td>ApplicantIncome       </td><td> 0.00001</td><td> 0.00002</td></tr>\n",
       "\t<tr><td>Credit_History        </td><td> 3.64829</td><td> 3.45318</td></tr>\n",
       "\t<tr><td>Dependents1           </td><td>-0.35334</td><td>-0.35898</td></tr>\n",
       "\t<tr><td>Dependents2           </td><td> 0.27522</td><td> 0.25115</td></tr>\n",
       "\t<tr><td>Dependents3+          </td><td> 0.20999</td><td> 0.18160</td></tr>\n",
       "\t<tr><td>EducationNot Graduate </td><td>-0.39139</td><td>-0.38464</td></tr>\n",
       "\t<tr><td>GenderMale            </td><td> 0.26390</td><td> 0.26472</td></tr>\n",
       "\t<tr><td>Loan_Amount_Term      </td><td>-0.00088</td><td>-0.00070</td></tr>\n",
       "\t<tr><td>LoanAmount            </td><td>-0.00323</td><td>-0.00323</td></tr>\n",
       "\t<tr><td>MarriedYes            </td><td> 0.57532</td><td> 0.56619</td></tr>\n",
       "\t<tr><td>Property_AreaSemiurban</td><td> 0.98023</td><td> 0.94146</td></tr>\n",
       "\t<tr><td>Property_AreaUrban    </td><td> 0.13851</td><td> 0.13139</td></tr>\n",
       "\t<tr><td>Self_EmployedYes      </td><td>-0.15760</td><td>-0.18148</td></tr>\n",
       "</tbody>\n",
       "</table>\n"
      ],
      "text/latex": [
       "A data.frame: 14 × 3\n",
       "\\begin{tabular}{lll}\n",
       " coefficients & glm\\_value & pl\\_value\\\\\n",
       " <chr> & <dbl> & <dbl>\\\\\n",
       "\\hline\n",
       "\t (Intercept)            & -2.45321 & -2.36139\\\\\n",
       "\t ApplicantIncome        &  0.00001 &  0.00002\\\\\n",
       "\t Credit\\_History         &  3.64829 &  3.45318\\\\\n",
       "\t Dependents1            & -0.35334 & -0.35898\\\\\n",
       "\t Dependents2            &  0.27522 &  0.25115\\\\\n",
       "\t Dependents3+           &  0.20999 &  0.18160\\\\\n",
       "\t EducationNot Graduate  & -0.39139 & -0.38464\\\\\n",
       "\t GenderMale             &  0.26390 &  0.26472\\\\\n",
       "\t Loan\\_Amount\\_Term       & -0.00088 & -0.00070\\\\\n",
       "\t LoanAmount             & -0.00323 & -0.00323\\\\\n",
       "\t MarriedYes             &  0.57532 &  0.56619\\\\\n",
       "\t Property\\_AreaSemiurban &  0.98023 &  0.94146\\\\\n",
       "\t Property\\_AreaUrban     &  0.13851 &  0.13139\\\\\n",
       "\t Self\\_EmployedYes       & -0.15760 & -0.18148\\\\\n",
       "\\end{tabular}\n"
      ],
      "text/markdown": [
       "\n",
       "A data.frame: 14 × 3\n",
       "\n",
       "| coefficients &lt;chr&gt; | glm_value &lt;dbl&gt; | pl_value &lt;dbl&gt; |\n",
       "|---|---|---|\n",
       "| (Intercept)            | -2.45321 | -2.36139 |\n",
       "| ApplicantIncome        |  0.00001 |  0.00002 |\n",
       "| Credit_History         |  3.64829 |  3.45318 |\n",
       "| Dependents1            | -0.35334 | -0.35898 |\n",
       "| Dependents2            |  0.27522 |  0.25115 |\n",
       "| Dependents3+           |  0.20999 |  0.18160 |\n",
       "| EducationNot Graduate  | -0.39139 | -0.38464 |\n",
       "| GenderMale             |  0.26390 |  0.26472 |\n",
       "| Loan_Amount_Term       | -0.00088 | -0.00070 |\n",
       "| LoanAmount             | -0.00323 | -0.00323 |\n",
       "| MarriedYes             |  0.57532 |  0.56619 |\n",
       "| Property_AreaSemiurban |  0.98023 |  0.94146 |\n",
       "| Property_AreaUrban     |  0.13851 |  0.13139 |\n",
       "| Self_EmployedYes       | -0.15760 | -0.18148 |\n",
       "\n"
      ],
      "text/plain": [
       "   coefficients           glm_value pl_value\n",
       "1  (Intercept)            -2.45321  -2.36139\n",
       "2  ApplicantIncome         0.00001   0.00002\n",
       "3  Credit_History          3.64829   3.45318\n",
       "4  Dependents1            -0.35334  -0.35898\n",
       "5  Dependents2             0.27522   0.25115\n",
       "6  Dependents3+            0.20999   0.18160\n",
       "7  EducationNot Graduate  -0.39139  -0.38464\n",
       "8  GenderMale              0.26390   0.26472\n",
       "9  Loan_Amount_Term       -0.00088  -0.00070\n",
       "10 LoanAmount             -0.00323  -0.00323\n",
       "11 MarriedYes              0.57532   0.56619\n",
       "12 Property_AreaSemiurban  0.98023   0.94146\n",
       "13 Property_AreaUrban      0.13851   0.13139\n",
       "14 Self_EmployedYes       -0.15760  -0.18148"
      ]
     },
     "metadata": {},
     "output_type": "display_data"
    }
   ],
   "source": [
    "#Create a dataframe of the coefficients of both methods \n",
    "\n",
    "#regular glm model\n",
    "glm_coef <-    glm_model %>%\n",
    "               coef() %>%\n",
    "               round(5) %>%\n",
    "               data.frame() \n",
    "\n",
    "glm_coef$coefficients <- rownames(glm_coef)\n",
    "colnames(glm_coef) <-  c(\"glm_value\", \"coefficients\")\n",
    "rownames(glm_coef) <- NULL\n",
    "\n",
    "\n",
    "#using reduced_biased method\n",
    "pl_coef <-     pl_model %>%\n",
    "               coef() %>%\n",
    "               round(5) %>%\n",
    "               data.frame() \n",
    "\n",
    "pl_coef$coefficients <- rownames(pl_coef)\n",
    "colnames(pl_coef) <-  c(\"pl_value\", \"coefficients\")\n",
    "rownames(pl_coef) <- NULL\n",
    "\n",
    "coef_df <- merge(glm_coef, pl_coef)\n",
    "coef_df"
   ]
  },
  {
   "cell_type": "markdown",
   "id": "2ee53bfc-3bac-4e9b-b846-aadc5802c3fc",
   "metadata": {},
   "source": [
    "Looking at the table above,the coefficients do not change much after using bias-reduced method. <br>\n",
    "However in most of the coefficients there is a slight shrinkage after using the bias-reduced method. <br>\n",
    "\n",
    "The reason that we do not see any difference could be that our data does not have any of the issues such as collinearity, imbalanced data, large coefficients and small data size, therefore using bias-reduced would not have any effect on the model.<br>\n",
    "\n",
    "We can plot the coefficients to compare their size and direction too."
   ]
  },
  {
   "cell_type": "code",
   "execution_count": 5,
   "id": "93c245f3-493e-4036-bcc6-f541a1d920db",
   "metadata": {},
   "outputs": [
    {
     "data": {
      "image/png": "[encoded data removed]",
      "text/plain": [
       "plot without title"
      ]
     },
     "metadata": {
      "image/png": {
       "height": 600,
       "width": 600
      }
     },
     "output_type": "display_data"
    },
    {
     "data": {
      "image/png": "[encoded data removed]",
      "text/plain": [
       "plot without title"
      ]
     },
     "metadata": {
      "image/png": {
       "height": 600,
       "width": 600
      }
     },
     "output_type": "display_data"
    }
   ],
   "source": [
    "#Showing the coefficients \n",
    "options(repr.plot.width = 10, repr.plot.height = 10)\n",
    "ggplot(coef_df) +\n",
    "geom_bar(aes(x=coefficients, y=glm_value) , stat = \"identity\", fill=\"blue\") +\n",
    "theme_bw() + \n",
    "labs(x = \"coefficients\", y = \"value\", title = \"Coefficients of the model using regular glm\") +\n",
    "theme(axis.text.x = element_text(angle = 45, hjust = 1))\n",
    "\n",
    "\n",
    "ggplot(coef_df) +\n",
    "geom_bar(aes(x=coefficients, y=pl_value) , stat = \"identity\", fill=\"red\") +\n",
    "theme_bw() + \n",
    "labs(x = \"coefficients\", y = \"value\", title = \"Coefficients of the model using biased reduction method\") +\n",
    "theme(axis.text.x = element_text(angle = 45, hjust = 1))\n",
    "\n"
   ]
  },
  {
   "cell_type": "code",
   "execution_count": null,
   "id": "b3fe4b4b-f801-4971-90be-535cc0a6ae7f",
   "metadata": {},
   "outputs": [],
   "source": []
  }
 ],
 "metadata": {
  "kernelspec": {
   "display_name": "R",
   "language": "R",
   "name": "ir"
  },
  "language_info": {
   "codemirror_mode": "r",
   "file_extension": ".r",
   "mimetype": "text/x-r-source",
   "name": "R",
   "pygments_lexer": "r",
   "version": "4.3.2"
  }
 },
 "nbformat": 4,
 "nbformat_minor": 5
}
