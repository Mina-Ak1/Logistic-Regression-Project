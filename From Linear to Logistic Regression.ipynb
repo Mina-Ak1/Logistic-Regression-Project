{
 "cells": [
  {
   "cell_type": "markdown",
   "id": "be6744c3-6aa7-47fa-8748-7ddd924ce6e5",
   "metadata": {},
   "source": [
    "<font size=\"5\">  From Linear to Logistic Regression</font> <br>"
   ]
  },
  {
   "cell_type": "markdown",
   "id": "6bf810b1-bc06-44a7-88c7-697ad313a09c",
   "metadata": {},
   "source": [
    "**Let's fit a simple linear regression model an interpret the slope.**"
   ]
  },
  {
   "cell_type": "markdown",
   "id": "34a401e8-138c-454c-b56c-e58f472702ed",
   "metadata": {},
   "source": [
    "We would like to understand why simple linear regression is not a good substitute for logistic regression."
   ]
  },
  {
   "cell_type": "code",
   "execution_count": 8,
   "id": "63fb4ab2-3f3f-4a3d-8220-e5132fd440e0",
   "metadata": {},
   "outputs": [],
   "source": [
    "suppressWarnings(library(tidyverse))\n",
    "suppressWarnings(library(magrittr))\n",
    "suppressWarnings(library(dplyr))\n",
    "library(ggplot2)"
   ]
  },
  {
   "cell_type": "code",
   "execution_count": 2,
   "id": "9108e702-8fc7-4745-b058-5f6761cfbcb9",
   "metadata": {},
   "outputs": [
    {
     "data": {
      "text/html": [
       "<table class=\"dataframe\">\n",
       "<caption>A tibble: 6 × 11</caption>\n",
       "<thead>\n",
       "\t<tr><th scope=col>Gender</th><th scope=col>Married</th><th scope=col>Dependents</th><th scope=col>Education</th><th scope=col>Self_Employed</th><th scope=col>ApplicantIncome</th><th scope=col>LoanAmount</th><th scope=col>Loan_Amount_Term</th><th scope=col>Credit_History</th><th scope=col>Property_Area</th><th scope=col>Loan_Status</th></tr>\n",
       "\t<tr><th scope=col>&lt;chr&gt;</th><th scope=col>&lt;chr&gt;</th><th scope=col>&lt;chr&gt;</th><th scope=col>&lt;chr&gt;</th><th scope=col>&lt;chr&gt;</th><th scope=col>&lt;dbl&gt;</th><th scope=col>&lt;dbl&gt;</th><th scope=col>&lt;dbl&gt;</th><th scope=col>&lt;dbl&gt;</th><th scope=col>&lt;chr&gt;</th><th scope=col>&lt;dbl&gt;</th></tr>\n",
       "</thead>\n",
       "<tbody>\n",
       "\t<tr><td>Male</td><td>Yes</td><td>1</td><td>Graduate    </td><td>No </td><td>4583</td><td>128</td><td>360</td><td>1</td><td>Rural</td><td>0</td></tr>\n",
       "\t<tr><td>Male</td><td>Yes</td><td>0</td><td>Graduate    </td><td>Yes</td><td>3000</td><td> 66</td><td>360</td><td>1</td><td>Urban</td><td>1</td></tr>\n",
       "\t<tr><td>Male</td><td>Yes</td><td>0</td><td>Not Graduate</td><td>No </td><td>2583</td><td>120</td><td>360</td><td>1</td><td>Urban</td><td>1</td></tr>\n",
       "\t<tr><td>Male</td><td>No </td><td>0</td><td>Graduate    </td><td>No </td><td>6000</td><td>141</td><td>360</td><td>1</td><td>Urban</td><td>1</td></tr>\n",
       "\t<tr><td>Male</td><td>Yes</td><td>2</td><td>Graduate    </td><td>Yes</td><td>5417</td><td>267</td><td>360</td><td>1</td><td>Urban</td><td>1</td></tr>\n",
       "\t<tr><td>Male</td><td>Yes</td><td>0</td><td>Not Graduate</td><td>No </td><td>2333</td><td> 95</td><td>360</td><td>1</td><td>Urban</td><td>1</td></tr>\n",
       "</tbody>\n",
       "</table>\n"
      ],
      "text/latex": [
       "A tibble: 6 × 11\n",
       "\\begin{tabular}{lllllllllll}\n",
       " Gender & Married & Dependents & Education & Self\\_Employed & ApplicantIncome & LoanAmount & Loan\\_Amount\\_Term & Credit\\_History & Property\\_Area & Loan\\_Status\\\\\n",
       " <chr> & <chr> & <chr> & <chr> & <chr> & <dbl> & <dbl> & <dbl> & <dbl> & <chr> & <dbl>\\\\\n",
       "\\hline\n",
       "\t Male & Yes & 1 & Graduate     & No  & 4583 & 128 & 360 & 1 & Rural & 0\\\\\n",
       "\t Male & Yes & 0 & Graduate     & Yes & 3000 &  66 & 360 & 1 & Urban & 1\\\\\n",
       "\t Male & Yes & 0 & Not Graduate & No  & 2583 & 120 & 360 & 1 & Urban & 1\\\\\n",
       "\t Male & No  & 0 & Graduate     & No  & 6000 & 141 & 360 & 1 & Urban & 1\\\\\n",
       "\t Male & Yes & 2 & Graduate     & Yes & 5417 & 267 & 360 & 1 & Urban & 1\\\\\n",
       "\t Male & Yes & 0 & Not Graduate & No  & 2333 &  95 & 360 & 1 & Urban & 1\\\\\n",
       "\\end{tabular}\n"
      ],
      "text/markdown": [
       "\n",
       "A tibble: 6 × 11\n",
       "\n",
       "| Gender &lt;chr&gt; | Married &lt;chr&gt; | Dependents &lt;chr&gt; | Education &lt;chr&gt; | Self_Employed &lt;chr&gt; | ApplicantIncome &lt;dbl&gt; | LoanAmount &lt;dbl&gt; | Loan_Amount_Term &lt;dbl&gt; | Credit_History &lt;dbl&gt; | Property_Area &lt;chr&gt; | Loan_Status &lt;dbl&gt; |\n",
       "|---|---|---|---|---|---|---|---|---|---|---|\n",
       "| Male | Yes | 1 | Graduate     | No  | 4583 | 128 | 360 | 1 | Rural | 0 |\n",
       "| Male | Yes | 0 | Graduate     | Yes | 3000 |  66 | 360 | 1 | Urban | 1 |\n",
       "| Male | Yes | 0 | Not Graduate | No  | 2583 | 120 | 360 | 1 | Urban | 1 |\n",
       "| Male | No  | 0 | Graduate     | No  | 6000 | 141 | 360 | 1 | Urban | 1 |\n",
       "| Male | Yes | 2 | Graduate     | Yes | 5417 | 267 | 360 | 1 | Urban | 1 |\n",
       "| Male | Yes | 0 | Not Graduate | No  | 2333 |  95 | 360 | 1 | Urban | 1 |\n",
       "\n"
      ],
      "text/plain": [
       "  Gender Married Dependents Education    Self_Employed ApplicantIncome\n",
       "1 Male   Yes     1          Graduate     No            4583           \n",
       "2 Male   Yes     0          Graduate     Yes           3000           \n",
       "3 Male   Yes     0          Not Graduate No            2583           \n",
       "4 Male   No      0          Graduate     No            6000           \n",
       "5 Male   Yes     2          Graduate     Yes           5417           \n",
       "6 Male   Yes     0          Not Graduate No            2333           \n",
       "  LoanAmount Loan_Amount_Term Credit_History Property_Area Loan_Status\n",
       "1 128        360              1              Rural         0          \n",
       "2  66        360              1              Urban         1          \n",
       "3 120        360              1              Urban         1          \n",
       "4 141        360              1              Urban         1          \n",
       "5 267        360              1              Urban         1          \n",
       "6  95        360              1              Urban         1          "
      ]
     },
     "metadata": {},
     "output_type": "display_data"
    }
   ],
   "source": [
    "df = readr::read_csv(\"loan_dataset.csv\", show_col_types = FALSE)\n",
    "head(df)"
   ]
  },
  {
   "cell_type": "code",
   "execution_count": 3,
   "id": "d0072fef-e4d6-4522-8b58-e55824a95ab3",
   "metadata": {},
   "outputs": [
    {
     "data": {
      "text/plain": [
       "\n",
       "Call:\n",
       "lm(formula = Loan_Status ~ LoanAmount, data = df)\n",
       "\n",
       "Residuals:\n",
       "    Min      1Q  Median      3Q     Max \n",
       "-0.7476 -0.6716  0.2915  0.3068  0.4959 \n",
       "\n",
       "Coefficients:\n",
       "             Estimate Std. Error t value Pr(>|t|)    \n",
       "(Intercept)  0.751299   0.043375  17.321   <2e-16 ***\n",
       "LoanAmount  -0.000412   0.000262  -1.573    0.116    \n",
       "---\n",
       "Signif. codes:  0 '***' 0.001 '**' 0.01 '*' 0.05 '.' 0.1 ' ' 1\n",
       "\n",
       "Residual standard error: 0.4616 on 478 degrees of freedom\n",
       "Multiple R-squared:  0.005148,\tAdjusted R-squared:  0.003067 \n",
       "F-statistic: 2.474 on 1 and 478 DF,  p-value: 0.1164\n"
      ]
     },
     "metadata": {},
     "output_type": "display_data"
    }
   ],
   "source": [
    "lm_model <- lm(formula = Loan_Status ~ LoanAmount, data = df)\n",
    "summary(lm_model)"
   ]
  },
  {
   "cell_type": "markdown",
   "id": "65f2b513-3985-464e-bd59-40dc62366897",
   "metadata": {},
   "source": [
    "In the simple linear regression model for predicting Loan_Status based on the LoanAmount, the intercept is 0.751299 and the slope is -0.000412. <br>\n",
    "**This means for each unit increase in the LoanAmount, Loan_Status will be decreased by 0.000412.** <br>\n",
    "Linear Regression is not a suitable model for our binary target because we can see that the Loan_Status value can go above 1 or below 0 and we cannot interpret the output as a probability. <br>\n",
    "For example when LoanAmount is 0, the Loan_Status is 0.751299, and when the LoanAmount is $20,000, the Loan_Status will be -7.488701. We can see that this number does not mean anything as a Loan_Status."
   ]
  },
  {
   "cell_type": "markdown",
   "id": "66a7a401-a39b-4bd5-b130-b03df8c34d1a",
   "metadata": {},
   "source": [
    "**Fit a simple logistic regression model and interpret the slope.**"
   ]
  },
  {
   "cell_type": "code",
   "execution_count": 4,
   "id": "190c16cf-f03b-4a6e-ab32-77d74f8612b7",
   "metadata": {},
   "outputs": [],
   "source": [
    "#Convert target column to factors\n",
    "df <- df %>% mutate(Loan_Status = as.factor(Loan_Status))"
   ]
  },
  {
   "cell_type": "code",
   "execution_count": 5,
   "id": "d862d574-a30a-42b1-8b9b-aed4aa075277",
   "metadata": {},
   "outputs": [
    {
     "data": {
      "text/plain": [
       "\n",
       "Call:\n",
       "glm(formula = Loan_Status ~ LoanAmount, family = \"binomial\", \n",
       "    data = df)\n",
       "\n",
       "Coefficients:\n",
       "             Estimate Std. Error z value Pr(>|z|)    \n",
       "(Intercept)  1.077944   0.201586   5.347 8.93e-08 ***\n",
       "LoanAmount  -0.001840   0.001182  -1.556     0.12    \n",
       "---\n",
       "Signif. codes:  0 '***' 0.001 '**' 0.01 '*' 0.05 '.' 0.1 ' ' 1\n",
       "\n",
       "(Dispersion parameter for binomial family taken to be 1)\n",
       "\n",
       "    Null deviance: 593.05  on 479  degrees of freedom\n",
       "Residual deviance: 590.67  on 478  degrees of freedom\n",
       "AIC: 594.67\n",
       "\n",
       "Number of Fisher Scoring iterations: 4\n"
      ]
     },
     "metadata": {},
     "output_type": "display_data"
    }
   ],
   "source": [
    "glm_model <- glm(formula = Loan_Status ~ LoanAmount, data = df, family = \"binomial\")\n",
    "summary(glm_model)"
   ]
  },
  {
   "cell_type": "markdown",
   "id": "d0e7cd70-2714-4dfa-a566-d088f1da88e5",
   "metadata": {},
   "source": [
    "In the simple logistic regression model the intercept is 1.077944 and the slope is -0.001840. <br>\n",
    "**This means for 1 unit increase in the LoanAmount, the log odds of Loan_Status being 1 (approved) decreases about 0.001840.**<br>\n",
    "For example if LoanAmount is 0, the log odds of Loan_Status being 1 is 1.077944 and the probability of Loan_Status being 1 is about 0.0746.<br>\n",
    "If the LoanAmount is 20,000, the probability of Loan_Status being 1 decreases to about 3.062726e-16.<br>\n",
    "Intuitively having probability close to 0 for the LoanAmount as big as $20,000 does not make sense. This is because the only significant feature for my model is Credit_History and rest of the features are not very informative about the Loan_Status. I am researching to find a better dataset for my future assignments."
   ]
  },
  {
   "cell_type": "markdown",
   "id": "5436857e-91c7-425e-93b9-52e3b896793c",
   "metadata": {},
   "source": [
    "Visualizing the probability of LoanStatus being 1 using the coefficients from the glm model."
   ]
  },
  {
   "cell_type": "code",
   "execution_count": 6,
   "id": "32f0be6c-b02e-45ef-b34d-c1b153650f3e",
   "metadata": {},
   "outputs": [],
   "source": [
    "b_0 = 1.077944\n",
    "b_1 = -0.001840\n",
    "\n",
    "LoanStatus_prob = data.frame(LoanAmount = c(0, 1, 100, 300, 2000,  20000)) %>%\n",
    "                            mutate(prob = 1/(1+exp(-(b_0 + b_1 * LoanAmount))))"
   ]
  },
  {
   "cell_type": "code",
   "execution_count": 7,
   "id": "873f0cb3-1758-4b63-8abb-e4eb889f9492",
   "metadata": {},
   "outputs": [
    {
     "data": {
      "image/png": "[encoded data removed]",
      "text/plain": [
       "plot without title"
      ]
     },
     "metadata": {
      "image/png": {
       "height": 420,
       "width": 420
      }
     },
     "output_type": "display_data"
    }
   ],
   "source": [
    "ggplot(LoanStatus_prob) +\n",
    "aes(x = LoanAmount, y=prob) + \n",
    "geom_point()"
   ]
  }
 ],
 "metadata": {
  "kernelspec": {
   "display_name": "R",
   "language": "R",
   "name": "ir"
  },
  "language_info": {
   "codemirror_mode": "r",
   "file_extension": ".r",
   "mimetype": "text/x-r-source",
   "name": "R",
   "pygments_lexer": "r",
   "version": "4.3.2"
  }
 },
 "nbformat": 4,
 "nbformat_minor": 5
}
