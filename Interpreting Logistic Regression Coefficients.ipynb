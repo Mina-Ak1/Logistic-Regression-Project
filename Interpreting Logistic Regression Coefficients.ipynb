{
 "cells": [
  {
   "cell_type": "markdown",
   "id": "b1ae84c9-879c-4035-938a-5ea1e7d44329",
   "metadata": {},
   "source": [
    "<font size = \"5\"> Interpreting Logistic Regression Coefficients</font> <br>"
   ]
  },
  {
   "cell_type": "code",
   "execution_count": 1,
   "id": "9e1ab3e3-04d4-4ef2-985a-16c3264132b0",
   "metadata": {},
   "outputs": [
    {
     "name": "stderr",
     "output_type": "stream",
     "text": [
      "\n",
      "Attaching package: 'dplyr'\n",
      "\n",
      "\n",
      "The following objects are masked from 'package:stats':\n",
      "\n",
      "    filter, lag\n",
      "\n",
      "\n",
      "The following objects are masked from 'package:base':\n",
      "\n",
      "    intersect, setdiff, setequal, union\n",
      "\n",
      "\n"
     ]
    }
   ],
   "source": [
    "library(dplyr)"
   ]
  },
  {
   "cell_type": "code",
   "execution_count": 2,
   "id": "25f5d708-ae7c-41be-b34c-ae34952b46ae",
   "metadata": {},
   "outputs": [
    {
     "data": {
      "text/html": [
       "<table class=\"dataframe\">\n",
       "<caption>A tibble: 6 × 12</caption>\n",
       "<thead>\n",
       "\t<tr><th scope=col>id</th><th scope=col>gender</th><th scope=col>age</th><th scope=col>hypertension</th><th scope=col>heart_disease</th><th scope=col>ever_married</th><th scope=col>work_type</th><th scope=col>Residence_type</th><th scope=col>avg_glucose_level</th><th scope=col>bmi</th><th scope=col>smoking_status</th><th scope=col>stroke</th></tr>\n",
       "\t<tr><th scope=col>&lt;dbl&gt;</th><th scope=col>&lt;chr&gt;</th><th scope=col>&lt;dbl&gt;</th><th scope=col>&lt;dbl&gt;</th><th scope=col>&lt;dbl&gt;</th><th scope=col>&lt;chr&gt;</th><th scope=col>&lt;chr&gt;</th><th scope=col>&lt;chr&gt;</th><th scope=col>&lt;dbl&gt;</th><th scope=col>&lt;dbl&gt;</th><th scope=col>&lt;chr&gt;</th><th scope=col>&lt;dbl&gt;</th></tr>\n",
       "</thead>\n",
       "<tbody>\n",
       "\t<tr><td> 9046</td><td>Male  </td><td>67</td><td>0</td><td>1</td><td>Yes</td><td>Private      </td><td>Urban</td><td>228.69</td><td>36.6</td><td>formerly smoked</td><td>1</td></tr>\n",
       "\t<tr><td>31112</td><td>Male  </td><td>80</td><td>0</td><td>1</td><td>Yes</td><td>Private      </td><td>Rural</td><td>105.92</td><td>32.5</td><td>never smoked   </td><td>1</td></tr>\n",
       "\t<tr><td>60182</td><td>Female</td><td>49</td><td>0</td><td>0</td><td>Yes</td><td>Private      </td><td>Urban</td><td>171.23</td><td>34.4</td><td>smokes         </td><td>1</td></tr>\n",
       "\t<tr><td> 1665</td><td>Female</td><td>79</td><td>1</td><td>0</td><td>Yes</td><td>Self-employed</td><td>Rural</td><td>174.12</td><td>24.0</td><td>never smoked   </td><td>1</td></tr>\n",
       "\t<tr><td>56669</td><td>Male  </td><td>81</td><td>0</td><td>0</td><td>Yes</td><td>Private      </td><td>Urban</td><td>186.21</td><td>29.0</td><td>formerly smoked</td><td>1</td></tr>\n",
       "\t<tr><td>53882</td><td>Male  </td><td>74</td><td>1</td><td>1</td><td>Yes</td><td>Private      </td><td>Rural</td><td> 70.09</td><td>27.4</td><td>never smoked   </td><td>1</td></tr>\n",
       "</tbody>\n",
       "</table>\n"
      ],
      "text/latex": [
       "A tibble: 6 × 12\n",
       "\\begin{tabular}{llllllllllll}\n",
       " id & gender & age & hypertension & heart\\_disease & ever\\_married & work\\_type & Residence\\_type & avg\\_glucose\\_level & bmi & smoking\\_status & stroke\\\\\n",
       " <dbl> & <chr> & <dbl> & <dbl> & <dbl> & <chr> & <chr> & <chr> & <dbl> & <dbl> & <chr> & <dbl>\\\\\n",
       "\\hline\n",
       "\t  9046 & Male   & 67 & 0 & 1 & Yes & Private       & Urban & 228.69 & 36.6 & formerly smoked & 1\\\\\n",
       "\t 31112 & Male   & 80 & 0 & 1 & Yes & Private       & Rural & 105.92 & 32.5 & never smoked    & 1\\\\\n",
       "\t 60182 & Female & 49 & 0 & 0 & Yes & Private       & Urban & 171.23 & 34.4 & smokes          & 1\\\\\n",
       "\t  1665 & Female & 79 & 1 & 0 & Yes & Self-employed & Rural & 174.12 & 24.0 & never smoked    & 1\\\\\n",
       "\t 56669 & Male   & 81 & 0 & 0 & Yes & Private       & Urban & 186.21 & 29.0 & formerly smoked & 1\\\\\n",
       "\t 53882 & Male   & 74 & 1 & 1 & Yes & Private       & Rural &  70.09 & 27.4 & never smoked    & 1\\\\\n",
       "\\end{tabular}\n"
      ],
      "text/markdown": [
       "\n",
       "A tibble: 6 × 12\n",
       "\n",
       "| id &lt;dbl&gt; | gender &lt;chr&gt; | age &lt;dbl&gt; | hypertension &lt;dbl&gt; | heart_disease &lt;dbl&gt; | ever_married &lt;chr&gt; | work_type &lt;chr&gt; | Residence_type &lt;chr&gt; | avg_glucose_level &lt;dbl&gt; | bmi &lt;dbl&gt; | smoking_status &lt;chr&gt; | stroke &lt;dbl&gt; |\n",
       "|---|---|---|---|---|---|---|---|---|---|---|---|\n",
       "|  9046 | Male   | 67 | 0 | 1 | Yes | Private       | Urban | 228.69 | 36.6 | formerly smoked | 1 |\n",
       "| 31112 | Male   | 80 | 0 | 1 | Yes | Private       | Rural | 105.92 | 32.5 | never smoked    | 1 |\n",
       "| 60182 | Female | 49 | 0 | 0 | Yes | Private       | Urban | 171.23 | 34.4 | smokes          | 1 |\n",
       "|  1665 | Female | 79 | 1 | 0 | Yes | Self-employed | Rural | 174.12 | 24.0 | never smoked    | 1 |\n",
       "| 56669 | Male   | 81 | 0 | 0 | Yes | Private       | Urban | 186.21 | 29.0 | formerly smoked | 1 |\n",
       "| 53882 | Male   | 74 | 1 | 1 | Yes | Private       | Rural |  70.09 | 27.4 | never smoked    | 1 |\n",
       "\n"
      ],
      "text/plain": [
       "  id    gender age hypertension heart_disease ever_married work_type    \n",
       "1  9046 Male   67  0            1             Yes          Private      \n",
       "2 31112 Male   80  0            1             Yes          Private      \n",
       "3 60182 Female 49  0            0             Yes          Private      \n",
       "4  1665 Female 79  1            0             Yes          Self-employed\n",
       "5 56669 Male   81  0            0             Yes          Private      \n",
       "6 53882 Male   74  1            1             Yes          Private      \n",
       "  Residence_type avg_glucose_level bmi  smoking_status  stroke\n",
       "1 Urban          228.69            36.6 formerly smoked 1     \n",
       "2 Rural          105.92            32.5 never smoked    1     \n",
       "3 Urban          171.23            34.4 smokes          1     \n",
       "4 Rural          174.12            24.0 never smoked    1     \n",
       "5 Urban          186.21            29.0 formerly smoked 1     \n",
       "6 Rural           70.09            27.4 never smoked    1     "
      ]
     },
     "metadata": {},
     "output_type": "display_data"
    }
   ],
   "source": [
    "df = readr::read_csv(\"stroke_data.csv\", show_col_types = FALSE)\n",
    "\n",
    "head(df)                                    "
   ]
  },
  {
   "cell_type": "markdown",
   "id": "f29306de-a07a-45ec-9b5a-c8917ee71b23",
   "metadata": {},
   "source": [
    "Train a logistic regression model with a continuous independent variable, a binary independent variable, and an interaction term."
   ]
  },
  {
   "cell_type": "code",
   "execution_count": 3,
   "id": "fd674c7b-c601-44a8-a06c-8cc29f20963f",
   "metadata": {},
   "outputs": [
    {
     "data": {
      "text/plain": [
       "\n",
       "Call:\n",
       "glm(formula = stroke ~ heart_disease * age, family = binomial(), \n",
       "    data = df)\n",
       "\n",
       "Coefficients:\n",
       "                   Estimate Std. Error z value Pr(>|z|)    \n",
       "(Intercept)       -7.450753   0.385977 -19.304   <2e-16 ***\n",
       "heart_disease      3.092103   1.357222   2.278   0.0227 *  \n",
       "age                0.074957   0.005737  13.065   <2e-16 ***\n",
       "heart_disease:age -0.035850   0.018947  -1.892   0.0585 .  \n",
       "---\n",
       "Signif. codes:  0 '***' 0.001 '**' 0.01 '*' 0.05 '.' 0.1 ' ' 1\n",
       "\n",
       "(Dispersion parameter for binomial family taken to be 1)\n",
       "\n",
       "    Null deviance: 1728.4  on 4908  degrees of freedom\n",
       "Residual deviance: 1398.3  on 4905  degrees of freedom\n",
       "AIC: 1406.3\n",
       "\n",
       "Number of Fisher Scoring iterations: 7\n"
      ]
     },
     "metadata": {},
     "output_type": "display_data"
    }
   ],
   "source": [
    "#Running the glm model on age(a continous variable) and heart_disease(a binary variable) and their interaction\n",
    "log.model = glm(formula = stroke ~ heart_disease*age,\n",
    "                data = df,\n",
    "                family = binomial()\n",
    "                )\n",
    "summary(log.model)"
   ]
  },
  {
   "cell_type": "markdown",
   "id": "d8ed836b-7b17-431c-9005-e6bd98594717",
   "metadata": {},
   "source": [
    "Interpret each coefficient in relation to the log-odds. \n",
    "\n",
    "For the interaction term, plug in zero and one for the binary predictor and interpret the slope of the continuous predictor."
   ]
  },
  {
   "cell_type": "code",
   "execution_count": 4,
   "id": "2596230c-6dd2-4fe8-81cf-f3323ace7f1c",
   "metadata": {},
   "outputs": [
    {
     "data": {
      "text/html": [
       "<style>\n",
       ".dl-inline {width: auto; margin:0; padding: 0}\n",
       ".dl-inline>dt, .dl-inline>dd {float: none; width: auto; display: inline-block}\n",
       ".dl-inline>dt::after {content: \":\\0020\"; padding-right: .5ex}\n",
       ".dl-inline>dt:not(:first-of-type) {padding-left: .5ex}\n",
       "</style><dl class=dl-inline><dt>(Intercept)</dt><dd>-7.451</dd><dt>heart_disease</dt><dd>3.092</dd><dt>age</dt><dd>0.075</dd><dt>heart_disease:age</dt><dd>-0.036</dd></dl>\n"
      ],
      "text/latex": [
       "\\begin{description*}\n",
       "\\item[(Intercept)] -7.451\n",
       "\\item[heart\\textbackslash{}\\_disease] 3.092\n",
       "\\item[age] 0.075\n",
       "\\item[heart\\textbackslash{}\\_disease:age] -0.036\n",
       "\\end{description*}\n"
      ],
      "text/markdown": [
       "(Intercept)\n",
       ":   -7.451heart_disease\n",
       ":   3.092age\n",
       ":   0.075heart_disease:age\n",
       ":   -0.036\n",
       "\n"
      ],
      "text/plain": [
       "      (Intercept)     heart_disease               age heart_disease:age \n",
       "           -7.451             3.092             0.075            -0.036 "
      ]
     },
     "metadata": {},
     "output_type": "display_data"
    }
   ],
   "source": [
    "round(coef(log.model), 3)"
   ]
  },
  {
   "cell_type": "markdown",
   "id": "8970deab-da54-427c-9749-374ebbf818c4",
   "metadata": {},
   "source": [
    "**b-0:** The intercept coefficient between the heart_disease(binary) and age(continous) represents the log odds of the stroke(the dependent variable) when heart_disease and age are 0  which in our case is -7.45.\n",
    "\n",
    "**b_1:** When age(continous) is zero, the log odds of having a stroke when heart_disease = 1 is b_1 larger than the log odds of having a stroke when heart_disease = 0.\n",
    "\n",
    "**b_2:** When heart_disease is 0 (base line), the b_2 coefficient represents the slope of the log odds of having a stroke(the dependent variable). <br>\n",
    "So, if heart_disease is 0, each one unit change in the independent variable age would increase the log odds of having a stroke by 0.075.\n",
    "\n",
    "**b_3:** b_3 is the difference between the slopes of the log odds of having a stroke when heart_disease = 1 and when heart_disease = 0. <br>\n",
    "So, if heart_disease is 1, each one unit change in the independent variable age would increase the log odds of having a stroke 0.036 less than when heart_disease is 0.."
   ]
  },
  {
   "cell_type": "code",
   "execution_count": null,
   "id": "6f4f202b-baeb-4bc4-a486-f1ad59597b2c",
   "metadata": {},
   "outputs": [],
   "source": []
  }
 ],
 "metadata": {
  "kernelspec": {
   "display_name": "R",
   "language": "R",
   "name": "ir"
  },
  "language_info": {
   "codemirror_mode": "r",
   "file_extension": ".r",
   "mimetype": "text/x-r-source",
   "name": "R",
   "pygments_lexer": "r",
   "version": "4.3.2"
  }
 },
 "nbformat": 4,
 "nbformat_minor": 5
}
