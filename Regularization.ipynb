{
 "cells": [
  {
   "cell_type": "markdown",
   "id": "686de6e8-c906-4112-9d21-1bff18c27b97",
   "metadata": {},
   "source": [
    "<font size = 5> Regularization Techniques in Logistic Regression Models <font>"
   ]
  },
  {
   "cell_type": "markdown",
   "id": "72f15256-b866-4296-aa43-5c55f07ee4af",
   "metadata": {},
   "source": [
    "Let's center and scale our predictors, and fit both a lasso and a ridge model. <br>\n",
    "\n",
    "Do we have any multicollinear predictor variables or irrelevant predictors? What are their coefficients?"
   ]
  },
  {
   "cell_type": "code",
   "execution_count": 1,
   "id": "e4b6a600-392b-4c1c-8a35-faed77eedc8c",
   "metadata": {},
   "outputs": [
    {
     "name": "stderr",
     "output_type": "stream",
     "text": [
      "\n",
      "Attaching package: 'dplyr'\n",
      "\n",
      "\n",
      "The following objects are masked from 'package:stats':\n",
      "\n",
      "    filter, lag\n",
      "\n",
      "\n",
      "The following objects are masked from 'package:base':\n",
      "\n",
      "    intersect, setdiff, setequal, union\n",
      "\n",
      "\n",
      "Thank you for using fastDummies!\n",
      "\n",
      "To acknowledge our work, please cite the package:\n",
      "\n",
      "Kaplan, J. & Schlegel, B. (2023). fastDummies: Fast Creation of Dummy (Binary) Columns and Rows from Categorical Variables. Version 1.7.1. URL: https://github.com/jacobkap/fastDummies, https://jacobkap.github.io/fastDummies/.\n",
      "\n"
     ]
    }
   ],
   "source": [
    "#Load Libraries\n",
    "library(dplyr)\n",
    "library(fastDummies)"
   ]
  },
  {
   "cell_type": "code",
   "execution_count": 2,
   "id": "a51ffb19-3174-46f5-89ff-7c82be633576",
   "metadata": {},
   "outputs": [],
   "source": [
    "#load data\n",
    "df <- read.csv(\"stroke_data.csv\")"
   ]
  },
  {
   "cell_type": "code",
   "execution_count": 3,
   "id": "cb65f999-9b79-4a2d-844b-2f9689a652e9",
   "metadata": {},
   "outputs": [
    {
     "data": {
      "text/html": [
       "<table class=\"dataframe\">\n",
       "<caption>A data.frame: 6 × 12</caption>\n",
       "<thead>\n",
       "\t<tr><th></th><th scope=col>id</th><th scope=col>gender</th><th scope=col>age</th><th scope=col>hypertension</th><th scope=col>heart_disease</th><th scope=col>ever_married</th><th scope=col>work_type</th><th scope=col>Residence_type</th><th scope=col>avg_glucose_level</th><th scope=col>bmi</th><th scope=col>smoking_status</th><th scope=col>stroke</th></tr>\n",
       "\t<tr><th></th><th scope=col>&lt;int&gt;</th><th scope=col>&lt;chr&gt;</th><th scope=col>&lt;dbl&gt;</th><th scope=col>&lt;int&gt;</th><th scope=col>&lt;int&gt;</th><th scope=col>&lt;chr&gt;</th><th scope=col>&lt;chr&gt;</th><th scope=col>&lt;chr&gt;</th><th scope=col>&lt;dbl&gt;</th><th scope=col>&lt;dbl&gt;</th><th scope=col>&lt;chr&gt;</th><th scope=col>&lt;int&gt;</th></tr>\n",
       "</thead>\n",
       "<tbody>\n",
       "\t<tr><th scope=row>1</th><td> 9046</td><td>Male  </td><td>67</td><td>0</td><td>1</td><td>Yes</td><td>Private      </td><td>Urban</td><td>228.69</td><td>36.6</td><td>formerly smoked</td><td>1</td></tr>\n",
       "\t<tr><th scope=row>2</th><td>31112</td><td>Male  </td><td>80</td><td>0</td><td>1</td><td>Yes</td><td>Private      </td><td>Rural</td><td>105.92</td><td>32.5</td><td>never smoked   </td><td>1</td></tr>\n",
       "\t<tr><th scope=row>3</th><td>60182</td><td>Female</td><td>49</td><td>0</td><td>0</td><td>Yes</td><td>Private      </td><td>Urban</td><td>171.23</td><td>34.4</td><td>smokes         </td><td>1</td></tr>\n",
       "\t<tr><th scope=row>4</th><td> 1665</td><td>Female</td><td>79</td><td>1</td><td>0</td><td>Yes</td><td>Self-employed</td><td>Rural</td><td>174.12</td><td>24.0</td><td>never smoked   </td><td>1</td></tr>\n",
       "\t<tr><th scope=row>5</th><td>56669</td><td>Male  </td><td>81</td><td>0</td><td>0</td><td>Yes</td><td>Private      </td><td>Urban</td><td>186.21</td><td>29.0</td><td>formerly smoked</td><td>1</td></tr>\n",
       "\t<tr><th scope=row>6</th><td>53882</td><td>Male  </td><td>74</td><td>1</td><td>1</td><td>Yes</td><td>Private      </td><td>Rural</td><td> 70.09</td><td>27.4</td><td>never smoked   </td><td>1</td></tr>\n",
       "</tbody>\n",
       "</table>\n"
      ],
      "text/latex": [
       "A data.frame: 6 × 12\n",
       "\\begin{tabular}{r|llllllllllll}\n",
       "  & id & gender & age & hypertension & heart\\_disease & ever\\_married & work\\_type & Residence\\_type & avg\\_glucose\\_level & bmi & smoking\\_status & stroke\\\\\n",
       "  & <int> & <chr> & <dbl> & <int> & <int> & <chr> & <chr> & <chr> & <dbl> & <dbl> & <chr> & <int>\\\\\n",
       "\\hline\n",
       "\t1 &  9046 & Male   & 67 & 0 & 1 & Yes & Private       & Urban & 228.69 & 36.6 & formerly smoked & 1\\\\\n",
       "\t2 & 31112 & Male   & 80 & 0 & 1 & Yes & Private       & Rural & 105.92 & 32.5 & never smoked    & 1\\\\\n",
       "\t3 & 60182 & Female & 49 & 0 & 0 & Yes & Private       & Urban & 171.23 & 34.4 & smokes          & 1\\\\\n",
       "\t4 &  1665 & Female & 79 & 1 & 0 & Yes & Self-employed & Rural & 174.12 & 24.0 & never smoked    & 1\\\\\n",
       "\t5 & 56669 & Male   & 81 & 0 & 0 & Yes & Private       & Urban & 186.21 & 29.0 & formerly smoked & 1\\\\\n",
       "\t6 & 53882 & Male   & 74 & 1 & 1 & Yes & Private       & Rural &  70.09 & 27.4 & never smoked    & 1\\\\\n",
       "\\end{tabular}\n"
      ],
      "text/markdown": [
       "\n",
       "A data.frame: 6 × 12\n",
       "\n",
       "| <!--/--> | id &lt;int&gt; | gender &lt;chr&gt; | age &lt;dbl&gt; | hypertension &lt;int&gt; | heart_disease &lt;int&gt; | ever_married &lt;chr&gt; | work_type &lt;chr&gt; | Residence_type &lt;chr&gt; | avg_glucose_level &lt;dbl&gt; | bmi &lt;dbl&gt; | smoking_status &lt;chr&gt; | stroke &lt;int&gt; |\n",
       "|---|---|---|---|---|---|---|---|---|---|---|---|---|\n",
       "| 1 |  9046 | Male   | 67 | 0 | 1 | Yes | Private       | Urban | 228.69 | 36.6 | formerly smoked | 1 |\n",
       "| 2 | 31112 | Male   | 80 | 0 | 1 | Yes | Private       | Rural | 105.92 | 32.5 | never smoked    | 1 |\n",
       "| 3 | 60182 | Female | 49 | 0 | 0 | Yes | Private       | Urban | 171.23 | 34.4 | smokes          | 1 |\n",
       "| 4 |  1665 | Female | 79 | 1 | 0 | Yes | Self-employed | Rural | 174.12 | 24.0 | never smoked    | 1 |\n",
       "| 5 | 56669 | Male   | 81 | 0 | 0 | Yes | Private       | Urban | 186.21 | 29.0 | formerly smoked | 1 |\n",
       "| 6 | 53882 | Male   | 74 | 1 | 1 | Yes | Private       | Rural |  70.09 | 27.4 | never smoked    | 1 |\n",
       "\n"
      ],
      "text/plain": [
       "  id    gender age hypertension heart_disease ever_married work_type    \n",
       "1  9046 Male   67  0            1             Yes          Private      \n",
       "2 31112 Male   80  0            1             Yes          Private      \n",
       "3 60182 Female 49  0            0             Yes          Private      \n",
       "4  1665 Female 79  1            0             Yes          Self-employed\n",
       "5 56669 Male   81  0            0             Yes          Private      \n",
       "6 53882 Male   74  1            1             Yes          Private      \n",
       "  Residence_type avg_glucose_level bmi  smoking_status  stroke\n",
       "1 Urban          228.69            36.6 formerly smoked 1     \n",
       "2 Rural          105.92            32.5 never smoked    1     \n",
       "3 Urban          171.23            34.4 smokes          1     \n",
       "4 Rural          174.12            24.0 never smoked    1     \n",
       "5 Urban          186.21            29.0 formerly smoked 1     \n",
       "6 Rural           70.09            27.4 never smoked    1     "
      ]
     },
     "metadata": {},
     "output_type": "display_data"
    }
   ],
   "source": [
    "head(df)"
   ]
  },
  {
   "cell_type": "code",
   "execution_count": 4,
   "id": "1cb61648-5bc9-40d6-8c78-7cc000a64eed",
   "metadata": {},
   "outputs": [],
   "source": [
    "#Transform categorical values to dummy \n",
    "df_dummy <-   df %>% dummy_cols(remove_first_dummy = TRUE, remove_selected_columns = TRUE)"
   ]
  },
  {
   "cell_type": "code",
   "execution_count": 5,
   "id": "b965df75-b68e-40b9-8c70-94ce2c90cb2d",
   "metadata": {},
   "outputs": [
    {
     "data": {
      "text/plain": [
       "18 x 1 sparse Matrix of class \"dgCMatrix\"\n",
       "                                   s0\n",
       "(Intercept)                 -3.112984\n",
       "id                           .       \n",
       "age                          .       \n",
       "hypertension                 .       \n",
       "heart_disease                .       \n",
       "avg_glucose_level            .       \n",
       "bmi                          .       \n",
       "gender_Male                  .       \n",
       "gender_Other                 .       \n",
       "ever_married_Yes             .       \n",
       "work_type_Govt_job           .       \n",
       "work_type_Never_worked       .       \n",
       "work_type_Private            .       \n",
       "work_type_Self-employed      .       \n",
       "Residence_type_Urban         .       \n",
       "smoking_status_never smoked  .       \n",
       "smoking_status_smokes        .       \n",
       "smoking_status_Unknown       .       "
      ]
     },
     "metadata": {},
     "output_type": "display_data"
    }
   ],
   "source": [
    "#Lasso Regression\n",
    "lasso_glmnet <-     glmnet::glmnet(x = df_dummy %>% select(-stroke) %>% scale() %>% as.matrix(),\n",
    "                                   y = df_dummy %>% pull(stroke) %>% factor(),\n",
    "                                   family = binomial(),\n",
    "                                   lambda = 1   #lasso regression\n",
    "                                  )\n",
    "\n",
    "#coefficients of Lasso Regression\n",
    "coef(lasso_glmnet)"
   ]
  },
  {
   "cell_type": "markdown",
   "id": "39875ff9-869e-40ec-9be3-f01247ba2cd1",
   "metadata": {},
   "source": [
    "We see that Lasso has performed feature selection and determined that none of the predictors are contributing significantly to explaining the variation in the target variable (having a stroke)."
   ]
  },
  {
   "cell_type": "code",
   "execution_count": 6,
   "id": "382bba48-a535-4584-b8ee-ab00146ccf2c",
   "metadata": {},
   "outputs": [
    {
     "data": {
      "text/plain": [
       "18 x 1 sparse Matrix of class \"dgCMatrix\"\n",
       "                                      s0\n",
       "(Intercept)                 -4.224246607\n",
       "id                           0.008309876\n",
       "age                          1.665103530\n",
       "hypertension                 0.151321829\n",
       "heart_disease                0.075317558\n",
       "avg_glucose_level            0.206412835\n",
       "bmi                          0.034322675\n",
       "gender_Male                 -0.007469772\n",
       "gender_Other                -0.104028779\n",
       "ever_married_Yes            -0.051870391\n",
       "work_type_Govt_job          -0.284425117\n",
       "work_type_Never_worked      -0.338920857\n",
       "work_type_Private           -0.340214298\n",
       "work_type_Self-employed     -0.406077320\n",
       "Residence_type_Urban         0.002324600\n",
       "smoking_status_never smoked -0.032265833\n",
       "smoking_status_smokes        0.112745330\n",
       "smoking_status_Unknown      -0.127515370"
      ]
     },
     "metadata": {},
     "output_type": "display_data"
    }
   ],
   "source": [
    "#Ridge Regression\n",
    "ridge_glmnet <-     glmnet::glmnet(x = df_dummy %>% select(-stroke) %>% scale() %>% as.matrix(),\n",
    "                                   y = df_dummy %>% pull(stroke) %>% factor(),\n",
    "                                   family = binomial(),\n",
    "                                   lambda = 0    #ridge regression\n",
    "                                  )\n",
    "\n",
    "#coefficients of Lasso Regression\n",
    "coef(ridge_glmnet)"
   ]
  },
  {
   "cell_type": "markdown",
   "id": "fba3a6d1-b223-4de9-8cac-38397d77467b",
   "metadata": {},
   "source": [
    "Looking at the coefficients for Ridge regression, we observe that all of the coefficients are pretty small but none of them are set to zero. <br>\n",
    "Coefficient of predictor \"age\" has the largest value compared to the other ones."
   ]
  },
  {
   "cell_type": "markdown",
   "id": "a46b7fa2-4d55-4c1b-8964-004b472cdb21",
   "metadata": {},
   "source": [
    "Now let's use the elastic net regularization to find the optimal lambda and coefficients for our predictors."
   ]
  },
  {
   "cell_type": "code",
   "execution_count": 7,
   "id": "9a27392f-31be-4550-b62f-855c8cfb3fa2",
   "metadata": {},
   "outputs": [
    {
     "data": {
      "text/plain": [
       "\n",
       "Call:  glmnet::cv.glmnet(x = df_dummy %>% select(-stroke) %>% scale() %>%      as.matrix(), y = df_dummy %>% pull(stroke) %>% factor(),      family = binomial()) \n",
       "\n",
       "Measure: GLM Deviance \n",
       "\n",
       "      Lambda Index Measure      SE Nonzero\n",
       "min 0.001647    37  0.2834 0.01505       8\n",
       "1se 0.015360    13  0.2974 0.01508       4"
      ]
     },
     "metadata": {},
     "output_type": "display_data"
    }
   ],
   "source": [
    "#Using cross validation to find the optimal lambda value for regression\n",
    "glmnet::cv.glmnet(x = df_dummy %>% select(-stroke) %>% scale() %>% as.matrix(),\n",
    "                  y = df_dummy %>% pull(stroke) %>% factor(),\n",
    "                  family = binomial()\n",
    "                  )"
   ]
  },
  {
   "cell_type": "code",
   "execution_count": 8,
   "id": "2a5524c0-27de-4301-9bee-33c68301a730",
   "metadata": {},
   "outputs": [
    {
     "data": {
      "text/plain": [
       "18 x 1 sparse Matrix of class \"dgCMatrix\"\n",
       "                                     s0\n",
       "(Intercept)                 -3.35000478\n",
       "id                           .         \n",
       "age                          0.73418821\n",
       "hypertension                 0.01153639\n",
       "heart_disease                .         \n",
       "avg_glucose_level            0.02237766\n",
       "bmi                          .         \n",
       "gender_Male                  .         \n",
       "gender_Other                 .         \n",
       "ever_married_Yes             .         \n",
       "work_type_Govt_job           .         \n",
       "work_type_Never_worked       .         \n",
       "work_type_Private            .         \n",
       "work_type_Self-employed      .         \n",
       "Residence_type_Urban         .         \n",
       "smoking_status_never smoked  .         \n",
       "smoking_status_smokes        .         \n",
       "smoking_status_Unknown       .         "
      ]
     },
     "metadata": {},
     "output_type": "display_data"
    }
   ],
   "source": [
    "#Find the best lambda value for Elastic Net regularization\n",
    "elastic_glmnet <-   glmnet::glmnet(x = df_dummy %>% select(-stroke) %>% scale() %>% as.matrix(),\n",
    "                                  y = df_dummy %>% pull(stroke) %>% factor(),\n",
    "                                  family = binomial(),\n",
    "                                  lambda = 0.02\n",
    "                                  )\n",
    "#coefficients of elastic net Regression\n",
    "coef(elastic_glmnet)"
   ]
  },
  {
   "cell_type": "markdown",
   "id": "44e9f6d0-3870-4ff0-b3eb-a2fedb49abbd",
   "metadata": {},
   "source": [
    "We like the result for the elastic net regularization better because it is somewhat between ridge and lasso and it did not set all the coefficients to zero. <br>\n",
    "\n",
    "However it is worth to note that the none zero coefficients are still very small. Mabye because the model is penalizing the coefficients strongly and wants to shrink them towards zero. <br>\n",
    "\n",
    "Also, if there's multicollinearity among the predictors, the Elastic Net might shrink the coefficients of correlated predictors towards each other, resulting in smaller individual coefficients.\n",
    "\n",
    "It is also possible that the predictors of the model are not greatly associated with the target value. In that case elastic net (same as ridge) would shrink the coefficients toward zero."
   ]
  },
  {
   "cell_type": "code",
   "execution_count": null,
   "id": "7bfb77d6-deca-4c0d-a4d3-b7cf753c7d68",
   "metadata": {},
   "outputs": [],
   "source": []
  }
 ],
 "metadata": {
  "kernelspec": {
   "display_name": "R",
   "language": "R",
   "name": "ir"
  },
  "language_info": {
   "codemirror_mode": "r",
   "file_extension": ".r",
   "mimetype": "text/x-r-source",
   "name": "R",
   "pygments_lexer": "r",
   "version": "4.3.2"
  }
 },
 "nbformat": 4,
 "nbformat_minor": 5
}
