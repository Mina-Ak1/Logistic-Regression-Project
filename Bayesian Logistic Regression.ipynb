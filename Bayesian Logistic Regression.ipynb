{
 "cells": [
  {
   "cell_type": "markdown",
   "id": "b675c497-344d-40fd-9cd4-ccde5b43d9f6",
   "metadata": {},
   "source": [
    "<font size=5> Bayesian Logistic Regression <font> \n"
   ]
  },
  {
   "cell_type": "markdown",
   "id": "bec5b678-fab5-4ff6-99bd-a98430c33d76",
   "metadata": {},
   "source": [
    "Use your logistic regression data to fit a standard logistic regression model and a Bayesian logistic regression model. Use the same predictor variables. Compare the performance of the model."
   ]
  },
  {
   "cell_type": "code",
   "execution_count": 9,
   "id": "5f1895a9-bc3e-4464-92f4-7b354aaf370b",
   "metadata": {},
   "outputs": [
    {
     "name": "stderr",
     "output_type": "stream",
     "text": [
      "Type 'citation(\"pROC\")' for a citation.\n",
      "\n",
      "\n",
      "Attaching package: 'pROC'\n",
      "\n",
      "\n",
      "The following objects are masked from 'package:stats':\n",
      "\n",
      "    cov, smooth, var\n",
      "\n",
      "\n"
     ]
    }
   ],
   "source": [
    "#Load requiered libraries\n",
    "library(dplyr)\n",
    "library(pROC)"
   ]
  },
  {
   "cell_type": "code",
   "execution_count": 2,
   "id": "9877afab-f015-47f3-a13a-f4c10f02d027",
   "metadata": {},
   "outputs": [],
   "source": [
    "#load data\n",
    "df <- read.csv(\"loan_dataset.csv\", stringsAsFactors = TRUE)\n",
    "\n",
    "#convert target value to factor\n",
    "df <- df %>% mutate(Loan_Status = as.factor(Loan_Status))"
   ]
  },
  {
   "cell_type": "markdown",
   "id": "71cd8dc6-7b55-4112-8264-cccd15ac65e1",
   "metadata": {},
   "source": [
    "**Split data to train and test sets:**"
   ]
  },
  {
   "cell_type": "code",
   "execution_count": 3,
   "id": "9210f646-9689-4ee4-ac4c-627e69bad9a8",
   "metadata": {},
   "outputs": [],
   "source": [
    "idx <- caret::createDataPartition(df$Loan_Status, p = 0.7, list = FALSE)\n",
    "train_set <- df[idx, ]\n",
    "test_set <- df[-idx,]"
   ]
  },
  {
   "cell_type": "markdown",
   "id": "4c56d27c-af74-4f36-8f2f-7a99bcc4835c",
   "metadata": {},
   "source": [
    "**Fit regular logistic regression model**"
   ]
  },
  {
   "cell_type": "code",
   "execution_count": 4,
   "id": "9d1369c6-ac75-485b-85b8-2675271c869a",
   "metadata": {},
   "outputs": [
    {
     "data": {
      "text/plain": [
       "\n",
       "Call:\n",
       "glm(formula = Loan_Status ~ Gender + Married + Credit_History + \n",
       "    Property_Area + Dependents, family = binomial(), data = train_set)\n",
       "\n",
       "Coefficients:\n",
       "                       Estimate Std. Error z value Pr(>|z|)    \n",
       "(Intercept)            -3.19808    0.65043  -4.917 8.80e-07 ***\n",
       "GenderMale              0.35622    0.38021   0.937   0.3488    \n",
       "MarriedYes              0.48029    0.35131   1.367   0.1716    \n",
       "Credit_History          3.85954    0.54876   7.033 2.02e-12 ***\n",
       "Property_AreaSemiurban  0.78855    0.36319   2.171   0.0299 *  \n",
       "Property_AreaUrban     -0.03804    0.35844  -0.106   0.9155    \n",
       "Dependents1            -0.50150    0.41573  -1.206   0.2277    \n",
       "Dependents2            -0.04590    0.45085  -0.102   0.9189    \n",
       "Dependents3+           -0.40091    0.53228  -0.753   0.4513    \n",
       "---\n",
       "Signif. codes:  0 '***' 0.001 '**' 0.01 '*' 0.05 '.' 0.1 ' ' 1\n",
       "\n",
       "(Dispersion parameter for binomial family taken to be 1)\n",
       "\n",
       "    Null deviance: 416.52  on 336  degrees of freedom\n",
       "Residual deviance: 304.06  on 328  degrees of freedom\n",
       "AIC: 322.06\n",
       "\n",
       "Number of Fisher Scoring iterations: 5\n"
      ]
     },
     "metadata": {},
     "output_type": "display_data"
    }
   ],
   "source": [
    "glm_standard  <- glm(Loan_Status ~ Gender + Married + Credit_History + Property_Area + Dependents,\n",
    "                    data = train_set,\n",
    "                    family = binomial()\n",
    "                    )\n",
    "summary(glm_standard)"
   ]
  },
  {
   "cell_type": "markdown",
   "id": "0c06d9e7-cb31-4a9f-abc8-71749b2b746e",
   "metadata": {},
   "source": [
    "**Fit a Baysian logistic regression model with prior normal distribution**"
   ]
  },
  {
   "cell_type": "code",
   "execution_count": 5,
   "id": "86d31b68-3e6b-45f0-9608-61badac0c6fe",
   "metadata": {},
   "outputs": [
    {
     "name": "stdout",
     "output_type": "stream",
     "text": [
      "\n",
      "SAMPLING FOR MODEL 'bernoulli' NOW (CHAIN 1).\n",
      "Chain 1: \n",
      "Chain 1: Gradient evaluation took 0.000146 seconds\n",
      "Chain 1: 1000 transitions using 10 leapfrog steps per transition would take 1.46 seconds.\n",
      "Chain 1: Adjust your expectations accordingly!\n",
      "Chain 1: \n",
      "Chain 1: \n",
      "Chain 1: Iteration:    1 / 2000 [  0%]  (Warmup)\n",
      "Chain 1: Iteration:  200 / 2000 [ 10%]  (Warmup)\n",
      "Chain 1: Iteration:  400 / 2000 [ 20%]  (Warmup)\n",
      "Chain 1: Iteration:  600 / 2000 [ 30%]  (Warmup)\n",
      "Chain 1: Iteration:  800 / 2000 [ 40%]  (Warmup)\n",
      "Chain 1: Iteration: 1000 / 2000 [ 50%]  (Warmup)\n",
      "Chain 1: Iteration: 1001 / 2000 [ 50%]  (Sampling)\n",
      "Chain 1: Iteration: 1200 / 2000 [ 60%]  (Sampling)\n",
      "Chain 1: Iteration: 1400 / 2000 [ 70%]  (Sampling)\n",
      "Chain 1: Iteration: 1600 / 2000 [ 80%]  (Sampling)\n",
      "Chain 1: Iteration: 1800 / 2000 [ 90%]  (Sampling)\n",
      "Chain 1: Iteration: 2000 / 2000 [100%]  (Sampling)\n",
      "Chain 1: \n",
      "Chain 1:  Elapsed Time: 3.417 seconds (Warm-up)\n",
      "Chain 1:                2.96 seconds (Sampling)\n",
      "Chain 1:                6.377 seconds (Total)\n",
      "Chain 1: \n",
      "\n",
      "SAMPLING FOR MODEL 'bernoulli' NOW (CHAIN 2).\n",
      "Chain 2: \n",
      "Chain 2: Gradient evaluation took 5.4e-05 seconds\n",
      "Chain 2: 1000 transitions using 10 leapfrog steps per transition would take 0.54 seconds.\n",
      "Chain 2: Adjust your expectations accordingly!\n",
      "Chain 2: \n",
      "Chain 2: \n",
      "Chain 2: Iteration:    1 / 2000 [  0%]  (Warmup)\n",
      "Chain 2: Iteration:  200 / 2000 [ 10%]  (Warmup)\n",
      "Chain 2: Iteration:  400 / 2000 [ 20%]  (Warmup)\n",
      "Chain 2: Iteration:  600 / 2000 [ 30%]  (Warmup)\n",
      "Chain 2: Iteration:  800 / 2000 [ 40%]  (Warmup)\n",
      "Chain 2: Iteration: 1000 / 2000 [ 50%]  (Warmup)\n",
      "Chain 2: Iteration: 1001 / 2000 [ 50%]  (Sampling)\n",
      "Chain 2: Iteration: 1200 / 2000 [ 60%]  (Sampling)\n",
      "Chain 2: Iteration: 1400 / 2000 [ 70%]  (Sampling)\n",
      "Chain 2: Iteration: 1600 / 2000 [ 80%]  (Sampling)\n",
      "Chain 2: Iteration: 1800 / 2000 [ 90%]  (Sampling)\n",
      "Chain 2: Iteration: 2000 / 2000 [100%]  (Sampling)\n",
      "Chain 2: \n",
      "Chain 2:  Elapsed Time: 3.14 seconds (Warm-up)\n",
      "Chain 2:                2.813 seconds (Sampling)\n",
      "Chain 2:                5.953 seconds (Total)\n",
      "Chain 2: \n",
      "\n",
      "SAMPLING FOR MODEL 'bernoulli' NOW (CHAIN 3).\n",
      "Chain 3: \n",
      "Chain 3: Gradient evaluation took 5.3e-05 seconds\n",
      "Chain 3: 1000 transitions using 10 leapfrog steps per transition would take 0.53 seconds.\n",
      "Chain 3: Adjust your expectations accordingly!\n",
      "Chain 3: \n",
      "Chain 3: \n",
      "Chain 3: Iteration:    1 / 2000 [  0%]  (Warmup)\n",
      "Chain 3: Iteration:  200 / 2000 [ 10%]  (Warmup)\n",
      "Chain 3: Iteration:  400 / 2000 [ 20%]  (Warmup)\n",
      "Chain 3: Iteration:  600 / 2000 [ 30%]  (Warmup)\n",
      "Chain 3: Iteration:  800 / 2000 [ 40%]  (Warmup)\n",
      "Chain 3: Iteration: 1000 / 2000 [ 50%]  (Warmup)\n",
      "Chain 3: Iteration: 1001 / 2000 [ 50%]  (Sampling)\n",
      "Chain 3: Iteration: 1200 / 2000 [ 60%]  (Sampling)\n",
      "Chain 3: Iteration: 1400 / 2000 [ 70%]  (Sampling)\n",
      "Chain 3: Iteration: 1600 / 2000 [ 80%]  (Sampling)\n",
      "Chain 3: Iteration: 1800 / 2000 [ 90%]  (Sampling)\n",
      "Chain 3: Iteration: 2000 / 2000 [100%]  (Sampling)\n",
      "Chain 3: \n",
      "Chain 3:  Elapsed Time: 3.146 seconds (Warm-up)\n",
      "Chain 3:                2.657 seconds (Sampling)\n",
      "Chain 3:                5.803 seconds (Total)\n",
      "Chain 3: \n",
      "\n",
      "SAMPLING FOR MODEL 'bernoulli' NOW (CHAIN 4).\n",
      "Chain 4: \n",
      "Chain 4: Gradient evaluation took 5.4e-05 seconds\n",
      "Chain 4: 1000 transitions using 10 leapfrog steps per transition would take 0.54 seconds.\n",
      "Chain 4: Adjust your expectations accordingly!\n",
      "Chain 4: \n",
      "Chain 4: \n",
      "Chain 4: Iteration:    1 / 2000 [  0%]  (Warmup)\n",
      "Chain 4: Iteration:  200 / 2000 [ 10%]  (Warmup)\n",
      "Chain 4: Iteration:  400 / 2000 [ 20%]  (Warmup)\n",
      "Chain 4: Iteration:  600 / 2000 [ 30%]  (Warmup)\n",
      "Chain 4: Iteration:  800 / 2000 [ 40%]  (Warmup)\n",
      "Chain 4: Iteration: 1000 / 2000 [ 50%]  (Warmup)\n",
      "Chain 4: Iteration: 1001 / 2000 [ 50%]  (Sampling)\n",
      "Chain 4: Iteration: 1200 / 2000 [ 60%]  (Sampling)\n",
      "Chain 4: Iteration: 1400 / 2000 [ 70%]  (Sampling)\n",
      "Chain 4: Iteration: 1600 / 2000 [ 80%]  (Sampling)\n",
      "Chain 4: Iteration: 1800 / 2000 [ 90%]  (Sampling)\n",
      "Chain 4: Iteration: 2000 / 2000 [100%]  (Sampling)\n",
      "Chain 4: \n",
      "Chain 4:  Elapsed Time: 3.178 seconds (Warm-up)\n",
      "Chain 4:                2.956 seconds (Sampling)\n",
      "Chain 4:                6.134 seconds (Total)\n",
      "Chain 4: \n"
     ]
    }
   ],
   "source": [
    "stan_glm_product_normal <- rstanarm::stan_glm(Loan_Status ~ Gender + Married + Credit_History + Property_Area + Dependents,\n",
    "                                            data = train_set,\n",
    "                                            family = binomial(), \n",
    "                                            prior = rstanarm::product_normal()\n",
    "                                            )\n"
   ]
  },
  {
   "cell_type": "code",
   "execution_count": 6,
   "id": "d7d8666d-e2fe-4052-8d6f-01b48aa68a09",
   "metadata": {},
   "outputs": [
    {
     "data": {
      "text/html": [
       "<table class=\"dataframe\">\n",
       "<caption>A matrix: 2 × 9 of type dbl</caption>\n",
       "<thead>\n",
       "\t<tr><th></th><th scope=col>(Intercept)</th><th scope=col>GenderMale</th><th scope=col>MarriedYes</th><th scope=col>Credit_History</th><th scope=col>Property_AreaSemiurban</th><th scope=col>Property_AreaUrban</th><th scope=col>Dependents1</th><th scope=col>Dependents2</th><th scope=col>Dependents3+</th></tr>\n",
       "</thead>\n",
       "<tbody>\n",
       "\t<tr><th scope=row>coef_standard</th><td>-3.20</td><td>0.36</td><td>0.48</td><td>3.86</td><td>0.79</td><td>-0.04</td><td>-0.50</td><td>-0.05</td><td>-0.40</td></tr>\n",
       "\t<tr><th scope=row>coef_baysian</th><td>-2.83</td><td>0.19</td><td>0.27</td><td>3.66</td><td>0.60</td><td>-0.04</td><td>-0.18</td><td> 0.02</td><td>-0.06</td></tr>\n",
       "</tbody>\n",
       "</table>\n"
      ],
      "text/latex": [
       "A matrix: 2 × 9 of type dbl\n",
       "\\begin{tabular}{r|lllllllll}\n",
       "  & (Intercept) & GenderMale & MarriedYes & Credit\\_History & Property\\_AreaSemiurban & Property\\_AreaUrban & Dependents1 & Dependents2 & Dependents3+\\\\\n",
       "\\hline\n",
       "\tcoef\\_standard & -3.20 & 0.36 & 0.48 & 3.86 & 0.79 & -0.04 & -0.50 & -0.05 & -0.40\\\\\n",
       "\tcoef\\_baysian & -2.83 & 0.19 & 0.27 & 3.66 & 0.60 & -0.04 & -0.18 &  0.02 & -0.06\\\\\n",
       "\\end{tabular}\n"
      ],
      "text/markdown": [
       "\n",
       "A matrix: 2 × 9 of type dbl\n",
       "\n",
       "| <!--/--> | (Intercept) | GenderMale | MarriedYes | Credit_History | Property_AreaSemiurban | Property_AreaUrban | Dependents1 | Dependents2 | Dependents3+ |\n",
       "|---|---|---|---|---|---|---|---|---|---|\n",
       "| coef_standard | -3.20 | 0.36 | 0.48 | 3.86 | 0.79 | -0.04 | -0.50 | -0.05 | -0.40 |\n",
       "| coef_baysian | -2.83 | 0.19 | 0.27 | 3.66 | 0.60 | -0.04 | -0.18 |  0.02 | -0.06 |\n",
       "\n"
      ],
      "text/plain": [
       "              (Intercept) GenderMale MarriedYes Credit_History\n",
       "coef_standard -3.20       0.36       0.48       3.86          \n",
       "coef_baysian  -2.83       0.19       0.27       3.66          \n",
       "              Property_AreaSemiurban Property_AreaUrban Dependents1 Dependents2\n",
       "coef_standard 0.79                   -0.04              -0.50       -0.05      \n",
       "coef_baysian  0.60                   -0.04              -0.18        0.02      \n",
       "              Dependents3+\n",
       "coef_standard -0.40       \n",
       "coef_baysian  -0.06       "
      ]
     },
     "metadata": {},
     "output_type": "display_data"
    }
   ],
   "source": [
    "#Standard Logistic Regression Coefficients\n",
    "coef_standard <- coef(glm_standard) %>%\n",
    "                                        round(2)\n",
    "\n",
    "#Baysian Logistic regression with Normal Prior Distribution\n",
    "coef_baysian <- coef(stan_glm_product_normal) %>% \n",
    "                                                  round(2)\n",
    "\n",
    "rbind(coef_standard, coef_baysian)"
   ]
  },
  {
   "cell_type": "markdown",
   "id": "51a37ed2-5b2e-4850-851d-0d32073279d2",
   "metadata": {},
   "source": [
    "Interestingly the scale of the standard glm coefficients are larger, but they are close to their corresponding ones in Baysian model."
   ]
  },
  {
   "cell_type": "code",
   "execution_count": 7,
   "id": "eb05b080-64cc-491d-b48b-b70a8fc7e381",
   "metadata": {},
   "outputs": [],
   "source": [
    "#Standard Logistic Regression prediction\n",
    "glm_standard_prob <-    predict(glm_standard, \n",
    "                             newdata = test_set[,-11],\n",
    "                             type = \"response\"\n",
    "                                )\n",
    "\n",
    "\n",
    "#Baysian Logistic regression with Normal Prior Distribution prediction\n",
    "glm_product_normal_prob <-    predict(stan_glm_product_normal, \n",
    "                                newdata = test_set[,-11],\n",
    "                                type = \"response\"\n",
    "                                )"
   ]
  },
  {
   "cell_type": "markdown",
   "id": "8bada407-9a03-4a71-9c95-db8c6cd682f7",
   "metadata": {},
   "source": [
    "**Predictions and Performance:**"
   ]
  },
  {
   "cell_type": "code",
   "execution_count": 10,
   "id": "4fb4d335-ef31-49e3-be09-9543b67d8384",
   "metadata": {},
   "outputs": [
    {
     "name": "stderr",
     "output_type": "stream",
     "text": [
      "Setting levels: control = 0, case = 1\n",
      "\n",
      "Setting direction: controls < cases\n",
      "\n",
      "Setting levels: control = 0, case = 1\n",
      "\n",
      "Setting direction: controls < cases\n",
      "\n"
     ]
    },
    {
     "data": {
      "image/png": "[encoded data removed]",
      "text/plain": [
       "Plot with title \"ROC curves for Standard glm vs Baysian glm\""
      ]
     },
     "metadata": {
      "image/png": {
       "height": 420,
       "width": 420
      }
     },
     "output_type": "display_data"
    }
   ],
   "source": [
    "plot(roc(test_set$Loan_Status, glm_standard_prob), lwd = 3, col = \"green\", main = \"ROC curves for Standard glm vs Baysian glm\")\n",
    "plot(roc(test_set$Loan_Status, glm_product_normal_prob), lwd = 3, add =TRUE, col = \"red\")\n",
    "legend(\"bottomright\", \n",
    "       legend = c(\"Standard\", \"Baysian with Normal prior\"), \n",
    "       col = c(\"green\", \"red\"), \n",
    "       lty = 1, \n",
    "       cex = 1,\n",
    "      lwd = 6)"
   ]
  },
  {
   "cell_type": "code",
   "execution_count": 11,
   "id": "4d2756d9-cf44-43a7-8f27-b4d59c73fe31",
   "metadata": {},
   "outputs": [
    {
     "name": "stderr",
     "output_type": "stream",
     "text": [
      "Setting levels: control = 0, case = 1\n",
      "\n",
      "Setting direction: controls < cases\n",
      "\n"
     ]
    },
    {
     "data": {
      "text/html": [
       "0.757"
      ],
      "text/latex": [
       "0.757"
      ],
      "text/markdown": [
       "0.757"
      ],
      "text/plain": [
       "[1] 0.757"
      ]
     },
     "metadata": {},
     "output_type": "display_data"
    },
    {
     "name": "stderr",
     "output_type": "stream",
     "text": [
      "Setting levels: control = 0, case = 1\n",
      "\n",
      "Setting direction: controls < cases\n",
      "\n"
     ]
    },
    {
     "data": {
      "text/html": [
       "0.765"
      ],
      "text/latex": [
       "0.765"
      ],
      "text/markdown": [
       "0.765"
      ],
      "text/plain": [
       "[1] 0.765"
      ]
     },
     "metadata": {},
     "output_type": "display_data"
    }
   ],
   "source": [
    "auc(roc(test_set$Loan_Status, glm_standard_prob)) %>% round(3)\n",
    "auc(roc(test_set$Loan_Status, glm_product_normal_prob)) %>% round(3)"
   ]
  },
  {
   "cell_type": "markdown",
   "id": "f07d0b06-b1a1-421c-8eb2-5dd0ba1877aa",
   "metadata": {},
   "source": [
    "Performance of the models are pretty close, the auc of both are 0.76, however the Baysian glm with normal distribution prior is slightly better."
   ]
  },
  {
   "cell_type": "code",
   "execution_count": null,
   "id": "574d8f6d-b635-460f-a9b8-abde7eed29ad",
   "metadata": {},
   "outputs": [],
   "source": []
  }
 ],
 "metadata": {
  "kernelspec": {
   "display_name": "R",
   "language": "R",
   "name": "ir"
  },
  "language_info": {
   "codemirror_mode": "r",
   "file_extension": ".r",
   "mimetype": "text/x-r-source",
   "name": "R",
   "pygments_lexer": "r",
   "version": "4.3.2"
  }
 },
 "nbformat": 4,
 "nbformat_minor": 5
}
