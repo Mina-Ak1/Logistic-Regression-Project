{
 "cells": [
  {
   "cell_type": "markdown",
   "id": "5879f4f2-0ebd-4683-8d95-01aede624ba5",
   "metadata": {},
   "source": [
    "<font size = \"5\" > Model Specification in Logistic Regression </font> <br>"
   ]
  },
  {
   "cell_type": "markdown",
   "id": "af9feac7-4304-44e6-b248-ebf1d0a78e01",
   "metadata": {},
   "source": [
    "This dataset is used to predict whether a patient is likely to get stroke based on the input parameters like gender, age, various diseases, and smoking status. Each row in the data provides relavant information about the patient.\n",
    "\n",
    "https://www.kaggle.com/datasets/fedesoriano/stroke-prediction-dataset"
   ]
  },
  {
   "cell_type": "code",
   "execution_count": 13,
   "id": "4b6a06f8-eda4-490a-b760-9c1d1d987511",
   "metadata": {
    "scrolled": true
   },
   "outputs": [],
   "source": [
    "library(dplyr)"
   ]
  },
  {
   "cell_type": "code",
   "execution_count": 2,
   "id": "5612ee4f-5384-4c1b-aa68-a66dcb049353",
   "metadata": {},
   "outputs": [
    {
     "data": {
      "text/html": [
       "<table class=\"dataframe\">\n",
       "<caption>A tibble: 6 × 12</caption>\n",
       "<thead>\n",
       "\t<tr><th scope=col>id</th><th scope=col>gender</th><th scope=col>age</th><th scope=col>hypertension</th><th scope=col>heart_disease</th><th scope=col>ever_married</th><th scope=col>work_type</th><th scope=col>Residence_type</th><th scope=col>avg_glucose_level</th><th scope=col>bmi</th><th scope=col>smoking_status</th><th scope=col>stroke</th></tr>\n",
       "\t<tr><th scope=col>&lt;dbl&gt;</th><th scope=col>&lt;chr&gt;</th><th scope=col>&lt;dbl&gt;</th><th scope=col>&lt;dbl&gt;</th><th scope=col>&lt;dbl&gt;</th><th scope=col>&lt;chr&gt;</th><th scope=col>&lt;chr&gt;</th><th scope=col>&lt;chr&gt;</th><th scope=col>&lt;dbl&gt;</th><th scope=col>&lt;dbl&gt;</th><th scope=col>&lt;chr&gt;</th><th scope=col>&lt;dbl&gt;</th></tr>\n",
       "</thead>\n",
       "<tbody>\n",
       "\t<tr><td> 9046</td><td>Male  </td><td>67</td><td>0</td><td>1</td><td>Yes</td><td>Private      </td><td>Urban</td><td>228.69</td><td>36.6</td><td>formerly smoked</td><td>1</td></tr>\n",
       "\t<tr><td>31112</td><td>Male  </td><td>80</td><td>0</td><td>1</td><td>Yes</td><td>Private      </td><td>Rural</td><td>105.92</td><td>32.5</td><td>never smoked   </td><td>1</td></tr>\n",
       "\t<tr><td>60182</td><td>Female</td><td>49</td><td>0</td><td>0</td><td>Yes</td><td>Private      </td><td>Urban</td><td>171.23</td><td>34.4</td><td>smokes         </td><td>1</td></tr>\n",
       "\t<tr><td> 1665</td><td>Female</td><td>79</td><td>1</td><td>0</td><td>Yes</td><td>Self-employed</td><td>Rural</td><td>174.12</td><td>24.0</td><td>never smoked   </td><td>1</td></tr>\n",
       "\t<tr><td>56669</td><td>Male  </td><td>81</td><td>0</td><td>0</td><td>Yes</td><td>Private      </td><td>Urban</td><td>186.21</td><td>29.0</td><td>formerly smoked</td><td>1</td></tr>\n",
       "\t<tr><td>53882</td><td>Male  </td><td>74</td><td>1</td><td>1</td><td>Yes</td><td>Private      </td><td>Rural</td><td> 70.09</td><td>27.4</td><td>never smoked   </td><td>1</td></tr>\n",
       "</tbody>\n",
       "</table>\n"
      ],
      "text/latex": [
       "A tibble: 6 × 12\n",
       "\\begin{tabular}{llllllllllll}\n",
       " id & gender & age & hypertension & heart\\_disease & ever\\_married & work\\_type & Residence\\_type & avg\\_glucose\\_level & bmi & smoking\\_status & stroke\\\\\n",
       " <dbl> & <chr> & <dbl> & <dbl> & <dbl> & <chr> & <chr> & <chr> & <dbl> & <dbl> & <chr> & <dbl>\\\\\n",
       "\\hline\n",
       "\t  9046 & Male   & 67 & 0 & 1 & Yes & Private       & Urban & 228.69 & 36.6 & formerly smoked & 1\\\\\n",
       "\t 31112 & Male   & 80 & 0 & 1 & Yes & Private       & Rural & 105.92 & 32.5 & never smoked    & 1\\\\\n",
       "\t 60182 & Female & 49 & 0 & 0 & Yes & Private       & Urban & 171.23 & 34.4 & smokes          & 1\\\\\n",
       "\t  1665 & Female & 79 & 1 & 0 & Yes & Self-employed & Rural & 174.12 & 24.0 & never smoked    & 1\\\\\n",
       "\t 56669 & Male   & 81 & 0 & 0 & Yes & Private       & Urban & 186.21 & 29.0 & formerly smoked & 1\\\\\n",
       "\t 53882 & Male   & 74 & 1 & 1 & Yes & Private       & Rural &  70.09 & 27.4 & never smoked    & 1\\\\\n",
       "\\end{tabular}\n"
      ],
      "text/markdown": [
       "\n",
       "A tibble: 6 × 12\n",
       "\n",
       "| id &lt;dbl&gt; | gender &lt;chr&gt; | age &lt;dbl&gt; | hypertension &lt;dbl&gt; | heart_disease &lt;dbl&gt; | ever_married &lt;chr&gt; | work_type &lt;chr&gt; | Residence_type &lt;chr&gt; | avg_glucose_level &lt;dbl&gt; | bmi &lt;dbl&gt; | smoking_status &lt;chr&gt; | stroke &lt;dbl&gt; |\n",
       "|---|---|---|---|---|---|---|---|---|---|---|---|\n",
       "|  9046 | Male   | 67 | 0 | 1 | Yes | Private       | Urban | 228.69 | 36.6 | formerly smoked | 1 |\n",
       "| 31112 | Male   | 80 | 0 | 1 | Yes | Private       | Rural | 105.92 | 32.5 | never smoked    | 1 |\n",
       "| 60182 | Female | 49 | 0 | 0 | Yes | Private       | Urban | 171.23 | 34.4 | smokes          | 1 |\n",
       "|  1665 | Female | 79 | 1 | 0 | Yes | Self-employed | Rural | 174.12 | 24.0 | never smoked    | 1 |\n",
       "| 56669 | Male   | 81 | 0 | 0 | Yes | Private       | Urban | 186.21 | 29.0 | formerly smoked | 1 |\n",
       "| 53882 | Male   | 74 | 1 | 1 | Yes | Private       | Rural |  70.09 | 27.4 | never smoked    | 1 |\n",
       "\n"
      ],
      "text/plain": [
       "  id    gender age hypertension heart_disease ever_married work_type    \n",
       "1  9046 Male   67  0            1             Yes          Private      \n",
       "2 31112 Male   80  0            1             Yes          Private      \n",
       "3 60182 Female 49  0            0             Yes          Private      \n",
       "4  1665 Female 79  1            0             Yes          Self-employed\n",
       "5 56669 Male   81  0            0             Yes          Private      \n",
       "6 53882 Male   74  1            1             Yes          Private      \n",
       "  Residence_type avg_glucose_level bmi  smoking_status  stroke\n",
       "1 Urban          228.69            36.6 formerly smoked 1     \n",
       "2 Rural          105.92            32.5 never smoked    1     \n",
       "3 Urban          171.23            34.4 smokes          1     \n",
       "4 Rural          174.12            24.0 never smoked    1     \n",
       "5 Urban          186.21            29.0 formerly smoked 1     \n",
       "6 Rural           70.09            27.4 never smoked    1     "
      ]
     },
     "metadata": {},
     "output_type": "display_data"
    }
   ],
   "source": [
    "df = readr::read_csv(\"stroke_data.csv\", show_col_types = FALSE, na = c(\"N/A\", \"NA\"))\n",
    "head(df)"
   ]
  },
  {
   "cell_type": "code",
   "execution_count": 3,
   "id": "3c61f5af-7aa3-4808-8708-c8f4f4c12812",
   "metadata": {},
   "outputs": [
    {
     "data": {
      "text/html": [
       "<style>\n",
       ".dl-inline {width: auto; margin:0; padding: 0}\n",
       ".dl-inline>dt, .dl-inline>dd {float: none; width: auto; display: inline-block}\n",
       ".dl-inline>dt::after {content: \":\\0020\"; padding-right: .5ex}\n",
       ".dl-inline>dt:not(:first-of-type) {padding-left: .5ex}\n",
       "</style><dl class=dl-inline><dt>id</dt><dd>0</dd><dt>gender</dt><dd>0</dd><dt>age</dt><dd>0</dd><dt>hypertension</dt><dd>0</dd><dt>heart_disease</dt><dd>0</dd><dt>ever_married</dt><dd>0</dd><dt>work_type</dt><dd>0</dd><dt>Residence_type</dt><dd>0</dd><dt>avg_glucose_level</dt><dd>0</dd><dt>bmi</dt><dd>0</dd><dt>smoking_status</dt><dd>0</dd><dt>stroke</dt><dd>0</dd></dl>\n"
      ],
      "text/latex": [
       "\\begin{description*}\n",
       "\\item[id] 0\n",
       "\\item[gender] 0\n",
       "\\item[age] 0\n",
       "\\item[hypertension] 0\n",
       "\\item[heart\\textbackslash{}\\_disease] 0\n",
       "\\item[ever\\textbackslash{}\\_married] 0\n",
       "\\item[work\\textbackslash{}\\_type] 0\n",
       "\\item[Residence\\textbackslash{}\\_type] 0\n",
       "\\item[avg\\textbackslash{}\\_glucose\\textbackslash{}\\_level] 0\n",
       "\\item[bmi] 0\n",
       "\\item[smoking\\textbackslash{}\\_status] 0\n",
       "\\item[stroke] 0\n",
       "\\end{description*}\n"
      ],
      "text/markdown": [
       "id\n",
       ":   0gender\n",
       ":   0age\n",
       ":   0hypertension\n",
       ":   0heart_disease\n",
       ":   0ever_married\n",
       ":   0work_type\n",
       ":   0Residence_type\n",
       ":   0avg_glucose_level\n",
       ":   0bmi\n",
       ":   0smoking_status\n",
       ":   0stroke\n",
       ":   0\n",
       "\n"
      ],
      "text/plain": [
       "               id            gender               age      hypertension \n",
       "                0                 0                 0                 0 \n",
       "    heart_disease      ever_married         work_type    Residence_type \n",
       "                0                 0                 0                 0 \n",
       "avg_glucose_level               bmi    smoking_status            stroke \n",
       "                0                 0                 0                 0 "
      ]
     },
     "metadata": {},
     "output_type": "display_data"
    }
   ],
   "source": [
    "#Any null values?\n",
    "colSums(is.na(df))"
   ]
  },
  {
   "cell_type": "code",
   "execution_count": 4,
   "id": "2b07eed2-0b9a-460b-8fcf-9c0394c884d5",
   "metadata": {},
   "outputs": [],
   "source": [
    "#Remove data points with null values\n",
    " df = na.omit(df)\n",
    "\n",
    "#Convert target column to factors\n",
    "df <- df %>% mutate(stroke = as.factor(stroke))"
   ]
  },
  {
   "cell_type": "code",
   "execution_count": 5,
   "id": "c4c4070b-e48f-42c1-a2a8-ab881a6c4fda",
   "metadata": {},
   "outputs": [],
   "source": [
    "#Save the clean dataset for the future\n",
    "write.csv(df, file = \"stroke_data.csv\", row.names = FALSE)"
   ]
  },
  {
   "cell_type": "markdown",
   "id": "f5cdf340-f43f-49c2-9d42-90788d6ed48d",
   "metadata": {},
   "source": [
    "We will pick bmi and avg_glucose_level."
   ]
  },
  {
   "cell_type": "markdown",
   "id": "2475d53f-8cf3-4917-b673-7426a64fb5f1",
   "metadata": {},
   "source": [
    "**y ~ x1**"
   ]
  },
  {
   "cell_type": "code",
   "execution_count": 6,
   "id": "679cdd07-fe3e-4ce8-85fa-ba384c2a7aaa",
   "metadata": {},
   "outputs": [
    {
     "data": {
      "text/plain": [
       "\n",
       "Call:  glm(formula = stroke ~ bmi, family = binomial(), data = df)\n",
       "\n",
       "Coefficients:\n",
       "(Intercept)          bmi  \n",
       "   -3.82844      0.02416  \n",
       "\n",
       "Degrees of Freedom: 4908 Total (i.e. Null);  4907 Residual\n",
       "Null Deviance:\t    1728 \n",
       "Residual Deviance: 1720 \tAIC: 1724"
      ]
     },
     "metadata": {},
     "output_type": "display_data"
    }
   ],
   "source": [
    "model1 <- glm(formula = stroke ~ bmi,\n",
    "              data = df,\n",
    "              family = binomial()\n",
    "             )\n",
    "model1"
   ]
  },
  {
   "cell_type": "markdown",
   "id": "4d81bca7-8106-4b31-8791-522691c5b1bb",
   "metadata": {},
   "source": [
    "**y ~ x2**\n"
   ]
  },
  {
   "cell_type": "code",
   "execution_count": 7,
   "id": "fca78951-65a3-4454-83fe-7b21c21855bf",
   "metadata": {},
   "outputs": [
    {
     "data": {
      "text/plain": [
       "\n",
       "Call:  glm(formula = stroke ~ avg_glucose_level, family = binomial(), \n",
       "    data = df)\n",
       "\n",
       "Coefficients:\n",
       "      (Intercept)  avg_glucose_level  \n",
       "         -4.43638            0.01125  \n",
       "\n",
       "Degrees of Freedom: 4908 Total (i.e. Null);  4907 Residual\n",
       "Null Deviance:\t    1728 \n",
       "Residual Deviance: 1653 \tAIC: 1657"
      ]
     },
     "metadata": {},
     "output_type": "display_data"
    }
   ],
   "source": [
    "model2 <- glm(formula = stroke ~ avg_glucose_level,\n",
    "              data = df,\n",
    "              family = binomial()\n",
    "              )\n",
    "model2"
   ]
  },
  {
   "cell_type": "markdown",
   "id": "8342cf49-66b1-44d2-a72f-b33ebbd50f59",
   "metadata": {},
   "source": [
    "**y ~ poly(x1,2)**\n"
   ]
  },
  {
   "cell_type": "code",
   "execution_count": 8,
   "id": "3e99e601-f3e5-43a3-8d18-b6ce5b3efce6",
   "metadata": {},
   "outputs": [
    {
     "data": {
      "text/plain": [
       "\n",
       "Call:  glm(formula = stroke ~ poly(x = bmi, degree = 2), family = binomial(), \n",
       "    data = df)\n",
       "\n",
       "Coefficients:\n",
       "               (Intercept)  poly(x = bmi, degree = 2)1  \n",
       "                    -3.219                      12.193  \n",
       "poly(x = bmi, degree = 2)2  \n",
       "                   -42.465  \n",
       "\n",
       "Degrees of Freedom: 4908 Total (i.e. Null);  4906 Residual\n",
       "Null Deviance:\t    1728 \n",
       "Residual Deviance: 1695 \tAIC: 1701"
      ]
     },
     "metadata": {},
     "output_type": "display_data"
    }
   ],
   "source": [
    "model3 <- glm(formula = stroke ~ poly(x = bmi, degree = 2),\n",
    "              data = df,\n",
    "              family = binomial()\n",
    "              )\n",
    "model3"
   ]
  },
  {
   "cell_type": "markdown",
   "id": "2569f25f-62ab-4be8-895c-79e32dc22983",
   "metadata": {},
   "source": [
    "**y ~ poly(x2,2)**\n"
   ]
  },
  {
   "cell_type": "code",
   "execution_count": 9,
   "id": "814daaed-22c6-44a6-acd7-b4864d42ae14",
   "metadata": {},
   "outputs": [
    {
     "data": {
      "text/plain": [
       "\n",
       "Call:  glm(formula = stroke ~ poly(x = avg_glucose_level, degree = 2), \n",
       "    family = binomial(), data = df)\n",
       "\n",
       "Coefficients:\n",
       "                             (Intercept)  \n",
       "                                  -3.244  \n",
       "poly(x = avg_glucose_level, degree = 2)1  \n",
       "                                  31.759  \n",
       "poly(x = avg_glucose_level, degree = 2)2  \n",
       "                                   7.767  \n",
       "\n",
       "Degrees of Freedom: 4908 Total (i.e. Null);  4906 Residual\n",
       "Null Deviance:\t    1728 \n",
       "Residual Deviance: 1650 \tAIC: 1656"
      ]
     },
     "metadata": {},
     "output_type": "display_data"
    }
   ],
   "source": [
    "model4 <- glm(formula = stroke ~ poly(x = avg_glucose_level, degree = 2),\n",
    "              data = df,\n",
    "              family = binomial()\n",
    "              )\n",
    "model4"
   ]
  },
  {
   "cell_type": "markdown",
   "id": "d2a2b3bf-cd55-4a28-99c2-4adc33861236",
   "metadata": {},
   "source": [
    "**y ~ x1*x2**\n"
   ]
  },
  {
   "cell_type": "code",
   "execution_count": 10,
   "id": "fabc55b4-0352-4e70-b1b7-4416d5820b04",
   "metadata": {},
   "outputs": [
    {
     "data": {
      "text/plain": [
       "\n",
       "Call:  glm(formula = stroke ~ bmi * avg_glucose_level, family = binomial(), \n",
       "    data = df)\n",
       "\n",
       "Coefficients:\n",
       "          (Intercept)                    bmi      avg_glucose_level  \n",
       "           -4.636e+00              8.272e-03              1.050e-02  \n",
       "bmi:avg_glucose_level  \n",
       "            1.234e-05  \n",
       "\n",
       "Degrees of Freedom: 4908 Total (i.e. Null);  4905 Residual\n",
       "Null Deviance:\t    1728 \n",
       "Residual Deviance: 1652 \tAIC: 1660"
      ]
     },
     "metadata": {},
     "output_type": "display_data"
    }
   ],
   "source": [
    "model5 <- glm(formula = stroke ~ bmi * avg_glucose_level ,\n",
    "              data = df,\n",
    "              family = binomial()\n",
    "              )\n",
    "model5"
   ]
  },
  {
   "cell_type": "markdown",
   "id": "a31bcced-f2a6-48eb-995a-21bcdfb2a2b3",
   "metadata": {},
   "source": [
    "**y ~ poly(x1,2) + poly(x2,2) + x1:x2**\n"
   ]
  },
  {
   "cell_type": "code",
   "execution_count": 11,
   "id": "91028fdd-28e0-4ee2-af61-61c9ef142b49",
   "metadata": {},
   "outputs": [
    {
     "data": {
      "text/plain": [
       "\n",
       "Call:  glm(formula = stroke ~ poly(bmi, 2) + poly(avg_glucose_level, \n",
       "    2) + bmi:avg_glucose_level, family = binomial(), data = df)\n",
       "\n",
       "Coefficients:\n",
       "                (Intercept)                poly(bmi, 2)1  \n",
       "                 -4.484e+00                   -2.595e+01  \n",
       "              poly(bmi, 2)2  poly(avg_glucose_level, 2)1  \n",
       "                 -4.935e+01                   -5.906e+00  \n",
       "poly(avg_glucose_level, 2)2        bmi:avg_glucose_level  \n",
       "                  6.194e+00                    3.685e-04  \n",
       "\n",
       "Degrees of Freedom: 4908 Total (i.e. Null);  4903 Residual\n",
       "Null Deviance:\t    1728 \n",
       "Residual Deviance: 1625 \tAIC: 1637"
      ]
     },
     "metadata": {},
     "output_type": "display_data"
    }
   ],
   "source": [
    "model6 <- glm(formula = stroke ~ poly(bmi, 2) + poly(avg_glucose_level, 2) + bmi:avg_glucose_level ,\n",
    "              data = df,\n",
    "              family = binomial()\n",
    "              )\n",
    "model6"
   ]
  },
  {
   "cell_type": "markdown",
   "id": "3f5dcf11-af40-4e67-a4c1-18c0b17d69d9",
   "metadata": {},
   "source": [
    "Let's compare the aic scores."
   ]
  },
  {
   "cell_type": "code",
   "execution_count": 12,
   "id": "938be5f4-fd2a-4de3-8062-ce5859628c99",
   "metadata": {},
   "outputs": [
    {
     "data": {
      "text/html": [
       "<table class=\"dataframe\">\n",
       "<caption>A data.frame: 6 × 2</caption>\n",
       "<thead>\n",
       "\t<tr><th></th><th scope=col>model</th><th scope=col>aic</th></tr>\n",
       "\t<tr><th></th><th scope=col>&lt;chr&gt;</th><th scope=col>&lt;dbl&gt;</th></tr>\n",
       "</thead>\n",
       "<tbody>\n",
       "\t<tr><th scope=row>6</th><td>model6</td><td>1637</td></tr>\n",
       "\t<tr><th scope=row>4</th><td>model4</td><td>1656</td></tr>\n",
       "\t<tr><th scope=row>2</th><td>model2</td><td>1657</td></tr>\n",
       "\t<tr><th scope=row>5</th><td>model5</td><td>1660</td></tr>\n",
       "\t<tr><th scope=row>3</th><td>model3</td><td>1701</td></tr>\n",
       "\t<tr><th scope=row>1</th><td>model1</td><td>1724</td></tr>\n",
       "</tbody>\n",
       "</table>\n"
      ],
      "text/latex": [
       "A data.frame: 6 × 2\n",
       "\\begin{tabular}{r|ll}\n",
       "  & model & aic\\\\\n",
       "  & <chr> & <dbl>\\\\\n",
       "\\hline\n",
       "\t6 & model6 & 1637\\\\\n",
       "\t4 & model4 & 1656\\\\\n",
       "\t2 & model2 & 1657\\\\\n",
       "\t5 & model5 & 1660\\\\\n",
       "\t3 & model3 & 1701\\\\\n",
       "\t1 & model1 & 1724\\\\\n",
       "\\end{tabular}\n"
      ],
      "text/markdown": [
       "\n",
       "A data.frame: 6 × 2\n",
       "\n",
       "| <!--/--> | model &lt;chr&gt; | aic &lt;dbl&gt; |\n",
       "|---|---|---|\n",
       "| 6 | model6 | 1637 |\n",
       "| 4 | model4 | 1656 |\n",
       "| 2 | model2 | 1657 |\n",
       "| 5 | model5 | 1660 |\n",
       "| 3 | model3 | 1701 |\n",
       "| 1 | model1 | 1724 |\n",
       "\n"
      ],
      "text/plain": [
       "  model  aic \n",
       "6 model6 1637\n",
       "4 model4 1656\n",
       "2 model2 1657\n",
       "5 model5 1660\n",
       "3 model3 1701\n",
       "1 model1 1724"
      ]
     },
     "metadata": {},
     "output_type": "display_data"
    }
   ],
   "source": [
    "comparison = data.frame(model = c('model1', 'model2', 'model3', 'model4', 'model5', 'model6'), \n",
    "           aic = c(AIC(model1), AIC(model2), AIC(model3), AIC(model4), AIC(model5), AIC(model6))\n",
    "           )\n",
    "comparison$aic = round(comparison$aic)\n",
    "comparison[order(comparison$aic),]"
   ]
  },
  {
   "cell_type": "markdown",
   "id": "893bca9b-aa0e-40a1-b4dd-2095fc9df403",
   "metadata": {},
   "source": [
    "Model 6 has the lowest aic, which shows that use of orthogonal polynomials for both predictors along with their interaction explains the relationship between the two predictors and target variable the best. It is interesting to notice that the coefficient for bmi*avg_glucose_level is very small.<br>\n",
    "\n",
    "Model 2 has a higher AIC score but close to model 6, so we can say that just using avg_glucose_level can also be a good choice out of all 6 possible models because of its simplicity. <br>\n",
    "\n",
    "Model 1 which only uses bmi as the predictor is the worst model in terms of AIC score.\n"
   ]
  },
  {
   "cell_type": "code",
   "execution_count": null,
   "id": "481c0592-4a33-4ecf-bb1d-4d1a521d1593",
   "metadata": {},
   "outputs": [],
   "source": []
  }
 ],
 "metadata": {
  "kernelspec": {
   "display_name": "R",
   "language": "R",
   "name": "ir"
  },
  "language_info": {
   "codemirror_mode": "r",
   "file_extension": ".r",
   "mimetype": "text/x-r-source",
   "name": "R",
   "pygments_lexer": "r",
   "version": "4.3.2"
  }
 },
 "nbformat": 4,
 "nbformat_minor": 5
}
