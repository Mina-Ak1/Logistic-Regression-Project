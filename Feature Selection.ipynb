{
 "cells": [
  {
   "cell_type": "markdown",
   "id": "4a3501fe-475c-4b30-9ac0-6c1c0b8be621",
   "metadata": {},
   "source": [
    "<font size = 5> Feature Selection Methods in Logistic Regression <font> "
   ]
  },
  {
   "cell_type": "code",
   "execution_count": 13,
   "id": "5f455b56-5d15-4f12-916a-1d0b60ed458a",
   "metadata": {},
   "outputs": [],
   "source": [
    "library(dplyr)\n",
    "library(ggplot2)\n",
    "library(MASS)"
   ]
  },
  {
   "cell_type": "code",
   "execution_count": 2,
   "id": "c900b49c-a1d3-45ea-8220-c5dde6f39315",
   "metadata": {},
   "outputs": [
    {
     "data": {
      "text/html": [
       "<table class=\"dataframe\">\n",
       "<caption>A data.frame: 6 × 12</caption>\n",
       "<thead>\n",
       "\t<tr><th></th><th scope=col>id</th><th scope=col>gender</th><th scope=col>age</th><th scope=col>hypertension</th><th scope=col>heart_disease</th><th scope=col>ever_married</th><th scope=col>work_type</th><th scope=col>Residence_type</th><th scope=col>avg_glucose_level</th><th scope=col>bmi</th><th scope=col>smoking_status</th><th scope=col>stroke</th></tr>\n",
       "\t<tr><th></th><th scope=col>&lt;int&gt;</th><th scope=col>&lt;chr&gt;</th><th scope=col>&lt;dbl&gt;</th><th scope=col>&lt;int&gt;</th><th scope=col>&lt;int&gt;</th><th scope=col>&lt;chr&gt;</th><th scope=col>&lt;chr&gt;</th><th scope=col>&lt;chr&gt;</th><th scope=col>&lt;dbl&gt;</th><th scope=col>&lt;dbl&gt;</th><th scope=col>&lt;chr&gt;</th><th scope=col>&lt;int&gt;</th></tr>\n",
       "</thead>\n",
       "<tbody>\n",
       "\t<tr><th scope=row>1</th><td> 9046</td><td>Male  </td><td>67</td><td>0</td><td>1</td><td>Yes</td><td>Private      </td><td>Urban</td><td>228.69</td><td>36.6</td><td>formerly smoked</td><td>1</td></tr>\n",
       "\t<tr><th scope=row>2</th><td>31112</td><td>Male  </td><td>80</td><td>0</td><td>1</td><td>Yes</td><td>Private      </td><td>Rural</td><td>105.92</td><td>32.5</td><td>never smoked   </td><td>1</td></tr>\n",
       "\t<tr><th scope=row>3</th><td>60182</td><td>Female</td><td>49</td><td>0</td><td>0</td><td>Yes</td><td>Private      </td><td>Urban</td><td>171.23</td><td>34.4</td><td>smokes         </td><td>1</td></tr>\n",
       "\t<tr><th scope=row>4</th><td> 1665</td><td>Female</td><td>79</td><td>1</td><td>0</td><td>Yes</td><td>Self-employed</td><td>Rural</td><td>174.12</td><td>24.0</td><td>never smoked   </td><td>1</td></tr>\n",
       "\t<tr><th scope=row>5</th><td>56669</td><td>Male  </td><td>81</td><td>0</td><td>0</td><td>Yes</td><td>Private      </td><td>Urban</td><td>186.21</td><td>29.0</td><td>formerly smoked</td><td>1</td></tr>\n",
       "\t<tr><th scope=row>6</th><td>53882</td><td>Male  </td><td>74</td><td>1</td><td>1</td><td>Yes</td><td>Private      </td><td>Rural</td><td> 70.09</td><td>27.4</td><td>never smoked   </td><td>1</td></tr>\n",
       "</tbody>\n",
       "</table>\n"
      ],
      "text/latex": [
       "A data.frame: 6 × 12\n",
       "\\begin{tabular}{r|llllllllllll}\n",
       "  & id & gender & age & hypertension & heart\\_disease & ever\\_married & work\\_type & Residence\\_type & avg\\_glucose\\_level & bmi & smoking\\_status & stroke\\\\\n",
       "  & <int> & <chr> & <dbl> & <int> & <int> & <chr> & <chr> & <chr> & <dbl> & <dbl> & <chr> & <int>\\\\\n",
       "\\hline\n",
       "\t1 &  9046 & Male   & 67 & 0 & 1 & Yes & Private       & Urban & 228.69 & 36.6 & formerly smoked & 1\\\\\n",
       "\t2 & 31112 & Male   & 80 & 0 & 1 & Yes & Private       & Rural & 105.92 & 32.5 & never smoked    & 1\\\\\n",
       "\t3 & 60182 & Female & 49 & 0 & 0 & Yes & Private       & Urban & 171.23 & 34.4 & smokes          & 1\\\\\n",
       "\t4 &  1665 & Female & 79 & 1 & 0 & Yes & Self-employed & Rural & 174.12 & 24.0 & never smoked    & 1\\\\\n",
       "\t5 & 56669 & Male   & 81 & 0 & 0 & Yes & Private       & Urban & 186.21 & 29.0 & formerly smoked & 1\\\\\n",
       "\t6 & 53882 & Male   & 74 & 1 & 1 & Yes & Private       & Rural &  70.09 & 27.4 & never smoked    & 1\\\\\n",
       "\\end{tabular}\n"
      ],
      "text/markdown": [
       "\n",
       "A data.frame: 6 × 12\n",
       "\n",
       "| <!--/--> | id &lt;int&gt; | gender &lt;chr&gt; | age &lt;dbl&gt; | hypertension &lt;int&gt; | heart_disease &lt;int&gt; | ever_married &lt;chr&gt; | work_type &lt;chr&gt; | Residence_type &lt;chr&gt; | avg_glucose_level &lt;dbl&gt; | bmi &lt;dbl&gt; | smoking_status &lt;chr&gt; | stroke &lt;int&gt; |\n",
       "|---|---|---|---|---|---|---|---|---|---|---|---|---|\n",
       "| 1 |  9046 | Male   | 67 | 0 | 1 | Yes | Private       | Urban | 228.69 | 36.6 | formerly smoked | 1 |\n",
       "| 2 | 31112 | Male   | 80 | 0 | 1 | Yes | Private       | Rural | 105.92 | 32.5 | never smoked    | 1 |\n",
       "| 3 | 60182 | Female | 49 | 0 | 0 | Yes | Private       | Urban | 171.23 | 34.4 | smokes          | 1 |\n",
       "| 4 |  1665 | Female | 79 | 1 | 0 | Yes | Self-employed | Rural | 174.12 | 24.0 | never smoked    | 1 |\n",
       "| 5 | 56669 | Male   | 81 | 0 | 0 | Yes | Private       | Urban | 186.21 | 29.0 | formerly smoked | 1 |\n",
       "| 6 | 53882 | Male   | 74 | 1 | 1 | Yes | Private       | Rural |  70.09 | 27.4 | never smoked    | 1 |\n",
       "\n"
      ],
      "text/plain": [
       "  id    gender age hypertension heart_disease ever_married work_type    \n",
       "1  9046 Male   67  0            1             Yes          Private      \n",
       "2 31112 Male   80  0            1             Yes          Private      \n",
       "3 60182 Female 49  0            0             Yes          Private      \n",
       "4  1665 Female 79  1            0             Yes          Self-employed\n",
       "5 56669 Male   81  0            0             Yes          Private      \n",
       "6 53882 Male   74  1            1             Yes          Private      \n",
       "  Residence_type avg_glucose_level bmi  smoking_status  stroke\n",
       "1 Urban          228.69            36.6 formerly smoked 1     \n",
       "2 Rural          105.92            32.5 never smoked    1     \n",
       "3 Urban          171.23            34.4 smokes          1     \n",
       "4 Rural          174.12            24.0 never smoked    1     \n",
       "5 Urban          186.21            29.0 formerly smoked 1     \n",
       "6 Rural           70.09            27.4 never smoked    1     "
      ]
     },
     "metadata": {},
     "output_type": "display_data"
    }
   ],
   "source": [
    "df <- read.csv(\"stroke_data.csv\")\n",
    "head(df)"
   ]
  },
  {
   "cell_type": "markdown",
   "id": "f1d89ee5-2bc3-432c-a95f-6c5fc6af6133",
   "metadata": {},
   "source": [
    "**Checking out numerical columns**"
   ]
  },
  {
   "cell_type": "code",
   "execution_count": 3,
   "id": "7ff9ce35-a839-4016-ab63-0f39a8994b4e",
   "metadata": {},
   "outputs": [
    {
     "data": {
      "text/html": [
       "<style>\n",
       ".list-inline {list-style: none; margin:0; padding: 0}\n",
       ".list-inline>li {display: inline-block}\n",
       ".list-inline>li:not(:last-child)::after {content: \"\\00b7\"; padding: 0 .5ex}\n",
       "</style>\n",
       "<ol class=list-inline><li>'age'</li><li>'avg_glucose_level'</li><li>'bmi'</li></ol>\n"
      ],
      "text/latex": [
       "\\begin{enumerate*}\n",
       "\\item 'age'\n",
       "\\item 'avg\\_glucose\\_level'\n",
       "\\item 'bmi'\n",
       "\\end{enumerate*}\n"
      ],
      "text/markdown": [
       "1. 'age'\n",
       "2. 'avg_glucose_level'\n",
       "3. 'bmi'\n",
       "\n",
       "\n"
      ],
      "text/plain": [
       "[1] \"age\"               \"avg_glucose_level\" \"bmi\"              "
      ]
     },
     "metadata": {},
     "output_type": "display_data"
    }
   ],
   "source": [
    "numerical_cols <- df %>% \n",
    "                    dplyr::select(age, avg_glucose_level, bmi) %>%\n",
    "                    names()\n",
    "\n",
    "numerical_cols"
   ]
  },
  {
   "cell_type": "code",
   "execution_count": 4,
   "id": "d1d23a83-ac4e-40bb-85cd-57320b731c95",
   "metadata": {},
   "outputs": [
    {
     "name": "stderr",
     "output_type": "stream",
     "text": [
      "Warning message:\n",
      "\"\u001b[1m\u001b[22m`aes_string()` was deprecated in ggplot2 3.0.0.\n",
      "\u001b[36mℹ\u001b[39m Please use tidy evaluation idioms with `aes()`.\n",
      "\u001b[36mℹ\u001b[39m See also `vignette(\"ggplot2-in-packages\")` for more information.\"\n"
     ]
    },
    {
     "data": {
      "image/png": "[encoded data removed]",
      "text/plain": [
       "plot without title"
      ]
     },
     "metadata": {
      "image/png": {
       "height": 420,
       "width": 420
      }
     },
     "output_type": "display_data"
    },
    {
     "data": {
      "image/png": "[encoded data removed]",
      "text/plain": [
       "plot without title"
      ]
     },
     "metadata": {
      "image/png": {
       "height": 420,
       "width": 420
      }
     },
     "output_type": "display_data"
    },
    {
     "data": {
      "image/png": "[encoded data removed]",
      "text/plain": [
       "plot without title"
      ]
     },
     "metadata": {
      "image/png": {
       "height": 420,
       "width": 420
      }
     },
     "output_type": "display_data"
    }
   ],
   "source": [
    "for(j in numerical_cols) plot(df[,c(\"stroke\",j)] %>%\n",
    "  ggplot() +\n",
    "  aes_string(y = j) + \n",
    "  aes(x = stroke, fill = stroke,group = stroke) + \n",
    "  geom_boxplot() + \n",
    "  theme_bw() + \n",
    "  labs(\n",
    "    title = paste(\n",
    "      \"Box plot of \",j,\" by chronic heart disease\"\n",
    "    ),\n",
    "    caption = \"Data set: SAheart from the ElemStatLearn package.\"\n",
    "  ))"
   ]
  },
  {
   "cell_type": "markdown",
   "id": "e2b28a9e-6c85-4587-bf6f-7ed389b93a61",
   "metadata": {},
   "source": [
    "Looking at the box plots of the numerical values against the target value, age has different distributions for two categories of the target. <br>\n",
    "avg_glucose_level is worth keeping as well.\n",
    "Id is not an informative predictor and we can remove it."
   ]
  },
  {
   "cell_type": "markdown",
   "id": "796ae2e9-0850-4b8f-bd98-2fb089fe3c4b",
   "metadata": {},
   "source": [
    "**Checking out Categorical columns**"
   ]
  },
  {
   "cell_type": "code",
   "execution_count": 5,
   "id": "71c908bf-369a-477a-b47a-f528e978585f",
   "metadata": {},
   "outputs": [
    {
     "name": "stderr",
     "output_type": "stream",
     "text": [
      "\u001b[1m\u001b[22m`summarise()` has grouped output by 'hypertension'. You can override using the `.groups` argument.\n"
     ]
    },
    {
     "data": {
      "image/png": "[encoded data removed]",
      "text/plain": [
       "plot without title"
      ]
     },
     "metadata": {
      "image/png": {
       "height": 420,
       "width": 420
      }
     },
     "output_type": "display_data"
    }
   ],
   "source": [
    "df %>%\n",
    "    group_by(hypertension,stroke) %>%\n",
    "    summarise(count = dplyr::n()) %>%\n",
    "    ungroup() %>%\n",
    "    group_by(hypertension) %>%\n",
    "    mutate(percent = count* 100 / sum(count),\n",
    "          label = paste0(count, \"\\n\", round(percent), \"%\")\n",
    "           )%>%\n",
    "ggplot() +\n",
    "aes(x = hypertension, y = count, fill = stroke, label = label) +\n",
    "geom_col() "
   ]
  },
  {
   "cell_type": "code",
   "execution_count": 6,
   "id": "210c50bb-68e8-4c29-8a59-3c9104a44615",
   "metadata": {},
   "outputs": [
    {
     "name": "stderr",
     "output_type": "stream",
     "text": [
      "\u001b[1m\u001b[22m`summarise()` has grouped output by 'Residence_type'. You can override using the `.groups` argument.\n"
     ]
    },
    {
     "data": {
      "image/png": "[encoded data removed]",
      "text/plain": [
       "plot without title"
      ]
     },
     "metadata": {
      "image/png": {
       "height": 420,
       "width": 420
      }
     },
     "output_type": "display_data"
    }
   ],
   "source": [
    "df %>%\n",
    "    group_by(Residence_type,stroke) %>%\n",
    "    summarise(count = dplyr::n()) %>%\n",
    "    ungroup() %>%\n",
    "    group_by(Residence_type) %>%\n",
    "    mutate(percent = count* 100 / sum(count),\n",
    "          label = paste0(count, \"\\n\", round(percent), \"%\")\n",
    "           )%>%\n",
    "ggplot() +\n",
    "aes(x = Residence_type, y = count, fill = stroke, label = label) +\n",
    "geom_col() "
   ]
  },
  {
   "cell_type": "code",
   "execution_count": 7,
   "id": "855e9920-f8b4-414c-af79-ff6d8debdeb1",
   "metadata": {},
   "outputs": [
    {
     "name": "stderr",
     "output_type": "stream",
     "text": [
      "\u001b[1m\u001b[22m`summarise()` has grouped output by 'ever_married'. You can override using the `.groups` argument.\n"
     ]
    },
    {
     "data": {
      "image/png": "[encoded data removed]",
      "text/plain": [
       "plot without title"
      ]
     },
     "metadata": {
      "image/png": {
       "height": 420,
       "width": 420
      }
     },
     "output_type": "display_data"
    }
   ],
   "source": [
    "df %>%\n",
    "    mutate(ever_married = ifelse(ever_married == \"Yes\", 1, 0)) %>%\n",
    "    group_by(ever_married,stroke) %>%\n",
    "    summarise(count = dplyr::n()) %>%\n",
    "    ungroup() %>%\n",
    "    group_by(ever_married) %>%\n",
    "    mutate(percent = count* 100 / sum(count),\n",
    "          label = paste0(count, \"\\n\", round(percent), \"%\")\n",
    "           )%>%\n",
    "ggplot() +\n",
    "aes(x = ever_married, y = count, fill = stroke, label = label) +\n",
    "geom_col() "
   ]
  },
  {
   "cell_type": "markdown",
   "id": "5dbf7172-dcd4-4aa6-9f96-4723d3d1406b",
   "metadata": {},
   "source": [
    "ever_married and hypertension are also proper columns to include in our model."
   ]
  },
  {
   "cell_type": "code",
   "execution_count": 8,
   "id": "a0c67a48-a3c3-4c2f-a7fa-4bc066b4d935",
   "metadata": {},
   "outputs": [
    {
     "data": {
      "text/plain": [
       "\n",
       "Call:  glm(formula = stroke ~ age + avg_glucose_level + ever_married + \n",
       "    hypertension, family = binomial(), data = df)\n",
       "\n",
       "Coefficients:\n",
       "      (Intercept)                age  avg_glucose_level    ever_marriedYes  \n",
       "        -7.697703           0.069958           0.005074          -0.110130  \n",
       "     hypertension  \n",
       "         0.546451  \n",
       "\n",
       "Degrees of Freedom: 4908 Total (i.e. Null);  4904 Residual\n",
       "Null Deviance:\t    1728 \n",
       "Residual Deviance: 1378 \tAIC: 1388"
      ]
     },
     "metadata": {},
     "output_type": "display_data"
    }
   ],
   "source": [
    "#create model with selected features\n",
    "fs_model <- glm(formula = stroke ~ age + avg_glucose_level + ever_married + hypertension,\n",
    "                                data = df,\n",
    "                                family = binomial()\n",
    "                                )\n",
    "fs_model"
   ]
  },
  {
   "cell_type": "markdown",
   "id": "307c3460-e423-4847-bb43-96ab8d22b400",
   "metadata": {},
   "source": [
    "*Train a forward selection model with all possible predictors being considered in the model.*"
   ]
  },
  {
   "cell_type": "code",
   "execution_count": 9,
   "id": "0391ad0b-0d26-4f9b-be5f-68eb0a763eff",
   "metadata": {},
   "outputs": [
    {
     "data": {
      "text/plain": [
       "\n",
       "Call:\n",
       "glm(formula = stroke ~ . - id, family = binomial(), data = df)\n",
       "\n",
       "Coefficients:\n",
       "                             Estimate Std. Error z value Pr(>|z|)    \n",
       "(Intercept)                -7.360e+00  1.067e+00  -6.895 5.37e-12 ***\n",
       "genderMale                 -1.463e-02  1.544e-01  -0.095 0.924525    \n",
       "genderOther                -1.135e+01  2.400e+03  -0.005 0.996225    \n",
       "age                         7.348e-02  6.347e-03  11.578  < 2e-16 ***\n",
       "hypertension                5.249e-01  1.750e-01   2.999 0.002711 ** \n",
       "heart_disease               3.488e-01  2.072e-01   1.683 0.092381 .  \n",
       "ever_marriedYes            -1.152e-01  2.473e-01  -0.466 0.641394    \n",
       "work_typeGovt_job          -6.817e-01  1.114e+00  -0.612 0.540660    \n",
       "work_typeNever_worked      -1.082e+01  5.090e+02  -0.021 0.983036    \n",
       "work_typePrivate           -5.208e-01  1.100e+00  -0.473 0.635943    \n",
       "work_typeSelf-employed     -9.459e-01  1.119e+00  -0.845 0.397906    \n",
       "Residence_typeUrban         4.514e-03  1.500e-01   0.030 0.975990    \n",
       "avg_glucose_level           4.652e-03  1.294e-03   3.595 0.000324 ***\n",
       "bmi                         4.062e-03  1.188e-02   0.342 0.732387    \n",
       "smoking_statusnever smoked -6.722e-02  1.886e-01  -0.356 0.721556    \n",
       "smoking_statussmokes        3.139e-01  2.295e-01   1.368 0.171310    \n",
       "smoking_statusUnknown      -2.753e-01  2.471e-01  -1.114 0.265193    \n",
       "---\n",
       "Signif. codes:  0 '***' 0.001 '**' 0.01 '*' 0.05 '.' 0.1 ' ' 1\n",
       "\n",
       "(Dispersion parameter for binomial family taken to be 1)\n",
       "\n",
       "    Null deviance: 1728.4  on 4908  degrees of freedom\n",
       "Residual deviance: 1363.2  on 4892  degrees of freedom\n",
       "AIC: 1397.2\n",
       "\n",
       "Number of Fisher Scoring iterations: 15\n"
      ]
     },
     "metadata": {},
     "output_type": "display_data"
    }
   ],
   "source": [
    "#create full model\n",
    "full_model <- glm(\n",
    "                formula = stroke ~ . -id,\n",
    "                data = df,\n",
    "                family = binomial()\n",
    "                )   \n",
    "summary(full_model)"
   ]
  },
  {
   "cell_type": "code",
   "execution_count": 10,
   "id": "0259800d-914d-494c-9cb5-da9facfde51a",
   "metadata": {},
   "outputs": [
    {
     "data": {
      "text/plain": [
       "\n",
       "Call:  glm(formula = stroke ~ (id + gender + age + hypertension + heart_disease + \n",
       "    ever_married + work_type + Residence_type + avg_glucose_level + \n",
       "    bmi + smoking_status) - id, family = binomial(), data = df)\n",
       "\n",
       "Coefficients:\n",
       "               (Intercept)                  genderMale  \n",
       "                 -7.359650                   -0.014625  \n",
       "               genderOther                         age  \n",
       "                -11.353772                    0.073481  \n",
       "              hypertension               heart_disease  \n",
       "                  0.524857                    0.348763  \n",
       "           ever_marriedYes           work_typeGovt_job  \n",
       "                 -0.115175                   -0.681655  \n",
       "     work_typeNever_worked            work_typePrivate  \n",
       "                -10.823495                   -0.520849  \n",
       "    work_typeSelf-employed         Residence_typeUrban  \n",
       "                 -0.945890                    0.004514  \n",
       "         avg_glucose_level                         bmi  \n",
       "                  0.004652                    0.004062  \n",
       "smoking_statusnever smoked        smoking_statussmokes  \n",
       "                 -0.067224                    0.313918  \n",
       "     smoking_statusUnknown  \n",
       "                 -0.275333  \n",
       "\n",
       "Degrees of Freedom: 4908 Total (i.e. Null);  4892 Residual\n",
       "Null Deviance:\t    1728 \n",
       "Residual Deviance: 1363 \tAIC: 1397"
      ]
     },
     "metadata": {},
     "output_type": "display_data"
    }
   ],
   "source": [
    "#model with forward elimination\n",
    "forward_model <-   full_model %>%\n",
    "                            MASS::stepAIC(\n",
    "                            direction = \"forward\",\n",
    "                            k = log(nrow(df)),\n",
    "                            trace = 0\n",
    "                            )\n",
    "forward_model"
   ]
  },
  {
   "cell_type": "code",
   "execution_count": 11,
   "id": "44055a1c-29ab-4b7e-acfc-3f7f61247f5d",
   "metadata": {},
   "outputs": [
    {
     "data": {
      "text/plain": [
       "\n",
       "Call:  glm(formula = stroke ~ age + hypertension + avg_glucose_level, \n",
       "    family = binomial(), data = df)\n",
       "\n",
       "Coefficients:\n",
       "      (Intercept)                age       hypertension  avg_glucose_level  \n",
       "        -7.766874           0.069571           0.547026           0.005047  \n",
       "\n",
       "Degrees of Freedom: 4908 Total (i.e. Null);  4905 Residual\n",
       "Null Deviance:\t    1728 \n",
       "Residual Deviance: 1378 \tAIC: 1386"
      ]
     },
     "metadata": {},
     "output_type": "display_data"
    }
   ],
   "source": [
    "#model with backward elimination\n",
    "backward_model <-   full_model %>%\n",
    "                            MASS::stepAIC(\n",
    "                            direction = \"backward\",\n",
    "                            k = log(nrow(df)),\n",
    "                            trace = 0\n",
    "                            )\n",
    "backward_model"
   ]
  },
  {
   "cell_type": "code",
   "execution_count": 12,
   "id": "9161c55b-ab1f-4fe2-821b-76fd1004748b",
   "metadata": {},
   "outputs": [
    {
     "data": {
      "text/html": [
       "<table class=\"dataframe\">\n",
       "<caption>A data.frame: 4 × 2</caption>\n",
       "<thead>\n",
       "\t<tr><th scope=col>model</th><th scope=col>AIC</th></tr>\n",
       "\t<tr><th scope=col>&lt;chr&gt;</th><th scope=col>&lt;dbl&gt;</th></tr>\n",
       "</thead>\n",
       "<tbody>\n",
       "\t<tr><td>backward_model</td><td>1386</td></tr>\n",
       "\t<tr><td>fs_model      </td><td>1388</td></tr>\n",
       "\t<tr><td>forward_model </td><td>1397</td></tr>\n",
       "\t<tr><td>full_model    </td><td>1397</td></tr>\n",
       "</tbody>\n",
       "</table>\n"
      ],
      "text/latex": [
       "A data.frame: 4 × 2\n",
       "\\begin{tabular}{ll}\n",
       " model & AIC\\\\\n",
       " <chr> & <dbl>\\\\\n",
       "\\hline\n",
       "\t backward\\_model & 1386\\\\\n",
       "\t fs\\_model       & 1388\\\\\n",
       "\t forward\\_model  & 1397\\\\\n",
       "\t full\\_model     & 1397\\\\\n",
       "\\end{tabular}\n"
      ],
      "text/markdown": [
       "\n",
       "A data.frame: 4 × 2\n",
       "\n",
       "| model &lt;chr&gt; | AIC &lt;dbl&gt; |\n",
       "|---|---|\n",
       "| backward_model | 1386 |\n",
       "| fs_model       | 1388 |\n",
       "| forward_model  | 1397 |\n",
       "| full_model     | 1397 |\n",
       "\n"
      ],
      "text/plain": [
       "  model          AIC \n",
       "1 backward_model 1386\n",
       "2 fs_model       1388\n",
       "3 forward_model  1397\n",
       "4 full_model     1397"
      ]
     },
     "metadata": {},
     "output_type": "display_data"
    }
   ],
   "source": [
    "data.frame(\n",
    "    model = c(\"fs_model\", \"forward_model\", \"full_model\", \"backward_model\"),\n",
    "    AIC = c(round(AIC(fs_model)), round(AIC(forward_model)), round(AIC(full_model)), round(AIC(backward_model)))\n",
    "          ) %>% \n",
    "    arrange(AIC)\n"
   ]
  },
  {
   "cell_type": "markdown",
   "id": "a217a655-60d4-4fc7-bb2a-db3580b59848",
   "metadata": {},
   "source": [
    "We see that the lowest AIC is from the backward selection model, and after that the model from our feature selection. forward selection and full model both have the highest AIC which indicates that forward selection was not usefull for our model."
   ]
  },
  {
   "cell_type": "code",
   "execution_count": null,
   "id": "c6d3f0f7-38ca-4e1f-a29f-06514ea4ee57",
   "metadata": {},
   "outputs": [],
   "source": []
  },
  {
   "cell_type": "code",
   "execution_count": null,
   "id": "7ac57e50-a689-4bb9-811a-be20d234594f",
   "metadata": {},
   "outputs": [],
   "source": []
  }
 ],
 "metadata": {
  "kernelspec": {
   "display_name": "R",
   "language": "R",
   "name": "ir"
  },
  "language_info": {
   "codemirror_mode": "r",
   "file_extension": ".r",
   "mimetype": "text/x-r-source",
   "name": "R",
   "pygments_lexer": "r",
   "version": "4.3.2"
  }
 },
 "nbformat": 4,
 "nbformat_minor": 5
}
