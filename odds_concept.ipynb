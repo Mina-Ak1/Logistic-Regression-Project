{
 "cells": [
  {
   "cell_type": "markdown",
   "id": "ad245c83-01a3-45b7-a041-ccfceb0a0cfa",
   "metadata": {},
   "source": [
    "<font size=\"5\"> The Concept of Odds and Probabilities</font>"
   ]
  },
  {
   "cell_type": "code",
   "execution_count": 1,
   "id": "f47dc570-1e61-4194-8912-f807fb7c5426",
   "metadata": {},
   "outputs": [
    {
     "name": "stderr",
     "output_type": "stream",
     "text": [
      "\n",
      "Attaching package: 'dplyr'\n",
      "\n",
      "\n",
      "The following objects are masked from 'package:stats':\n",
      "\n",
      "    filter, lag\n",
      "\n",
      "\n",
      "The following objects are masked from 'package:base':\n",
      "\n",
      "    intersect, setdiff, setequal, union\n",
      "\n",
      "\n"
     ]
    }
   ],
   "source": [
    "library(dplyr)"
   ]
  },
  {
   "cell_type": "code",
   "execution_count": 2,
   "id": "98c8e8f8-0de1-4460-b72e-6650d13d700d",
   "metadata": {},
   "outputs": [
    {
     "data": {
      "text/html": [
       "<table class=\"dataframe\">\n",
       "<caption>A data.frame: 6 × 11</caption>\n",
       "<thead>\n",
       "\t<tr><th></th><th scope=col>Gender</th><th scope=col>Married</th><th scope=col>Dependents</th><th scope=col>Education</th><th scope=col>Self_Employed</th><th scope=col>ApplicantIncome</th><th scope=col>LoanAmount</th><th scope=col>Loan_Amount_Term</th><th scope=col>Credit_History</th><th scope=col>Property_Area</th><th scope=col>Loan_Status</th></tr>\n",
       "\t<tr><th></th><th scope=col>&lt;chr&gt;</th><th scope=col>&lt;chr&gt;</th><th scope=col>&lt;chr&gt;</th><th scope=col>&lt;chr&gt;</th><th scope=col>&lt;chr&gt;</th><th scope=col>&lt;int&gt;</th><th scope=col>&lt;int&gt;</th><th scope=col>&lt;int&gt;</th><th scope=col>&lt;int&gt;</th><th scope=col>&lt;chr&gt;</th><th scope=col>&lt;fct&gt;</th></tr>\n",
       "</thead>\n",
       "<tbody>\n",
       "\t<tr><th scope=row>1</th><td>Male</td><td>Yes</td><td>1</td><td>Graduate    </td><td>No </td><td>4583</td><td>128</td><td>360</td><td>1</td><td>Rural</td><td>0</td></tr>\n",
       "\t<tr><th scope=row>2</th><td>Male</td><td>Yes</td><td>0</td><td>Graduate    </td><td>Yes</td><td>3000</td><td> 66</td><td>360</td><td>1</td><td>Urban</td><td>1</td></tr>\n",
       "\t<tr><th scope=row>3</th><td>Male</td><td>Yes</td><td>0</td><td>Not Graduate</td><td>No </td><td>2583</td><td>120</td><td>360</td><td>1</td><td>Urban</td><td>1</td></tr>\n",
       "\t<tr><th scope=row>4</th><td>Male</td><td>No </td><td>0</td><td>Graduate    </td><td>No </td><td>6000</td><td>141</td><td>360</td><td>1</td><td>Urban</td><td>1</td></tr>\n",
       "\t<tr><th scope=row>5</th><td>Male</td><td>Yes</td><td>2</td><td>Graduate    </td><td>Yes</td><td>5417</td><td>267</td><td>360</td><td>1</td><td>Urban</td><td>1</td></tr>\n",
       "\t<tr><th scope=row>6</th><td>Male</td><td>Yes</td><td>0</td><td>Not Graduate</td><td>No </td><td>2333</td><td> 95</td><td>360</td><td>1</td><td>Urban</td><td>1</td></tr>\n",
       "</tbody>\n",
       "</table>\n"
      ],
      "text/latex": [
       "A data.frame: 6 × 11\n",
       "\\begin{tabular}{r|lllllllllll}\n",
       "  & Gender & Married & Dependents & Education & Self\\_Employed & ApplicantIncome & LoanAmount & Loan\\_Amount\\_Term & Credit\\_History & Property\\_Area & Loan\\_Status\\\\\n",
       "  & <chr> & <chr> & <chr> & <chr> & <chr> & <int> & <int> & <int> & <int> & <chr> & <fct>\\\\\n",
       "\\hline\n",
       "\t1 & Male & Yes & 1 & Graduate     & No  & 4583 & 128 & 360 & 1 & Rural & 0\\\\\n",
       "\t2 & Male & Yes & 0 & Graduate     & Yes & 3000 &  66 & 360 & 1 & Urban & 1\\\\\n",
       "\t3 & Male & Yes & 0 & Not Graduate & No  & 2583 & 120 & 360 & 1 & Urban & 1\\\\\n",
       "\t4 & Male & No  & 0 & Graduate     & No  & 6000 & 141 & 360 & 1 & Urban & 1\\\\\n",
       "\t5 & Male & Yes & 2 & Graduate     & Yes & 5417 & 267 & 360 & 1 & Urban & 1\\\\\n",
       "\t6 & Male & Yes & 0 & Not Graduate & No  & 2333 &  95 & 360 & 1 & Urban & 1\\\\\n",
       "\\end{tabular}\n"
      ],
      "text/markdown": [
       "\n",
       "A data.frame: 6 × 11\n",
       "\n",
       "| <!--/--> | Gender &lt;chr&gt; | Married &lt;chr&gt; | Dependents &lt;chr&gt; | Education &lt;chr&gt; | Self_Employed &lt;chr&gt; | ApplicantIncome &lt;int&gt; | LoanAmount &lt;int&gt; | Loan_Amount_Term &lt;int&gt; | Credit_History &lt;int&gt; | Property_Area &lt;chr&gt; | Loan_Status &lt;fct&gt; |\n",
       "|---|---|---|---|---|---|---|---|---|---|---|---|\n",
       "| 1 | Male | Yes | 1 | Graduate     | No  | 4583 | 128 | 360 | 1 | Rural | 0 |\n",
       "| 2 | Male | Yes | 0 | Graduate     | Yes | 3000 |  66 | 360 | 1 | Urban | 1 |\n",
       "| 3 | Male | Yes | 0 | Not Graduate | No  | 2583 | 120 | 360 | 1 | Urban | 1 |\n",
       "| 4 | Male | No  | 0 | Graduate     | No  | 6000 | 141 | 360 | 1 | Urban | 1 |\n",
       "| 5 | Male | Yes | 2 | Graduate     | Yes | 5417 | 267 | 360 | 1 | Urban | 1 |\n",
       "| 6 | Male | Yes | 0 | Not Graduate | No  | 2333 |  95 | 360 | 1 | Urban | 1 |\n",
       "\n"
      ],
      "text/plain": [
       "  Gender Married Dependents Education    Self_Employed ApplicantIncome\n",
       "1 Male   Yes     1          Graduate     No            4583           \n",
       "2 Male   Yes     0          Graduate     Yes           3000           \n",
       "3 Male   Yes     0          Not Graduate No            2583           \n",
       "4 Male   No      0          Graduate     No            6000           \n",
       "5 Male   Yes     2          Graduate     Yes           5417           \n",
       "6 Male   Yes     0          Not Graduate No            2333           \n",
       "  LoanAmount Loan_Amount_Term Credit_History Property_Area Loan_Status\n",
       "1 128        360              1              Rural         0          \n",
       "2  66        360              1              Urban         1          \n",
       "3 120        360              1              Urban         1          \n",
       "4 141        360              1              Urban         1          \n",
       "5 267        360              1              Urban         1          \n",
       "6  95        360              1              Urban         1          "
      ]
     },
     "metadata": {},
     "output_type": "display_data"
    }
   ],
   "source": [
    "#Read in data\n",
    "df <- read.csv(\"loan_dataset.csv\")\n",
    "df$Loan_Status = as.factor(df$Loan_Status)\n",
    "head(df)"
   ]
  },
  {
   "cell_type": "markdown",
   "id": "1ecd630c-7338-4c0a-bcfa-8b3e4d643f1e",
   "metadata": {},
   "source": [
    "**Logistic Regression Model on selected features**"
   ]
  },
  {
   "cell_type": "code",
   "execution_count": 3,
   "id": "8ac945e1-9198-4ed0-9768-3d1ff9e75452",
   "metadata": {},
   "outputs": [],
   "source": [
    "glm_loan = glm(\n",
    "        formula = Loan_Status ~ Credit_History + Property_Area + Education, \n",
    "        data = df,\n",
    "        family = binomial()\n",
    ")"
   ]
  },
  {
   "cell_type": "code",
   "execution_count": 4,
   "id": "c02d5a9c-8c6e-49fa-adb9-2e441164f133",
   "metadata": {},
   "outputs": [],
   "source": [
    "#Create columns for predicted probability and predicted class\n",
    "df <- df %>% mutate(\n",
    "            predicted_loan = predict(\n",
    "                glm_loan,\n",
    "                type = \"response\"\n",
    "            ),\n",
    "            predicted_class = if_else(\n",
    "                condition = predicted_loan > 0.5,\n",
    "                true = 1,\n",
    "                false = 0\n",
    "            ),\n",
    "            predicted_class = as.factor(predicted_class)\n",
    "        )"
   ]
  },
  {
   "cell_type": "markdown",
   "id": "aaf2c3f9-26a3-43ba-ae5e-1bffdf3488d6",
   "metadata": {},
   "source": [
    "**Confusion Matrix**"
   ]
  },
  {
   "cell_type": "code",
   "execution_count": 5,
   "id": "3505714b-d558-4d86-b4ba-b5faf5790e6c",
   "metadata": {},
   "outputs": [
    {
     "data": {
      "text/plain": [
       "Confusion Matrix and Statistics\n",
       "\n",
       "          Reference\n",
       "Prediction   0   1\n",
       "         0  63   7\n",
       "         1  85 325\n",
       "                                          \n",
       "               Accuracy : 0.8083          \n",
       "                 95% CI : (0.7702, 0.8426)\n",
       "    No Information Rate : 0.6917          \n",
       "    P-Value [Acc > NIR] : 5.209e-09       \n",
       "                                          \n",
       "                  Kappa : 0.4738          \n",
       "                                          \n",
       " Mcnemar's Test P-Value : 9.923e-16       \n",
       "                                          \n",
       "            Sensitivity : 0.4257          \n",
       "            Specificity : 0.9789          \n",
       "         Pos Pred Value : 0.9000          \n",
       "         Neg Pred Value : 0.7927          \n",
       "             Prevalence : 0.3083          \n",
       "         Detection Rate : 0.1313          \n",
       "   Detection Prevalence : 0.1458          \n",
       "      Balanced Accuracy : 0.7023          \n",
       "                                          \n",
       "       'Positive' Class : 0               \n",
       "                                          "
      ]
     },
     "metadata": {},
     "output_type": "display_data"
    }
   ],
   "source": [
    "caret::confusionMatrix(\n",
    "            data = df$predicted_class, \n",
    "            reference = df$Loan_Status\n",
    "        )"
   ]
  },
  {
   "cell_type": "markdown",
   "id": "8de0c9b5-4eaf-4ea1-9f6f-714ecf740fec",
   "metadata": {},
   "source": [
    "**Model Diagnostics: checking multicolinearity**"
   ]
  },
  {
   "cell_type": "code",
   "execution_count": 6,
   "id": "582cfb6c-aeec-442f-b4cf-b70cf1e47956",
   "metadata": {},
   "outputs": [
    {
     "data": {
      "text/html": [
       "<table class=\"dataframe\">\n",
       "<caption>A matrix: 3 × 3 of type dbl</caption>\n",
       "<thead>\n",
       "\t<tr><th></th><th scope=col>GVIF</th><th scope=col>Df</th><th scope=col>GVIF^(1/(2*Df))</th></tr>\n",
       "</thead>\n",
       "<tbody>\n",
       "\t<tr><th scope=row>Credit_History</th><td>1.019024</td><td>1</td><td>1.009467</td></tr>\n",
       "\t<tr><th scope=row>Property_Area</th><td>1.026862</td><td>2</td><td>1.006649</td></tr>\n",
       "\t<tr><th scope=row>Education</th><td>1.007761</td><td>1</td><td>1.003873</td></tr>\n",
       "</tbody>\n",
       "</table>\n"
      ],
      "text/latex": [
       "A matrix: 3 × 3 of type dbl\n",
       "\\begin{tabular}{r|lll}\n",
       "  & GVIF & Df & GVIF\\textasciicircum{}(1/(2*Df))\\\\\n",
       "\\hline\n",
       "\tCredit\\_History & 1.019024 & 1 & 1.009467\\\\\n",
       "\tProperty\\_Area & 1.026862 & 2 & 1.006649\\\\\n",
       "\tEducation & 1.007761 & 1 & 1.003873\\\\\n",
       "\\end{tabular}\n"
      ],
      "text/markdown": [
       "\n",
       "A matrix: 3 × 3 of type dbl\n",
       "\n",
       "| <!--/--> | GVIF | Df | GVIF^(1/(2*Df)) |\n",
       "|---|---|---|---|\n",
       "| Credit_History | 1.019024 | 1 | 1.009467 |\n",
       "| Property_Area | 1.026862 | 2 | 1.006649 |\n",
       "| Education | 1.007761 | 1 | 1.003873 |\n",
       "\n"
      ],
      "text/plain": [
       "               GVIF     Df GVIF^(1/(2*Df))\n",
       "Credit_History 1.019024 1  1.009467       \n",
       "Property_Area  1.026862 2  1.006649       \n",
       "Education      1.007761 1  1.003873       "
      ]
     },
     "metadata": {},
     "output_type": "display_data"
    }
   ],
   "source": [
    "car::vif(\n",
    "        mod = glm_loan\n",
    "    )"
   ]
  },
  {
   "cell_type": "markdown",
   "id": "4e2e8e7c-f2cd-40d1-bc1a-85f476fc70f7",
   "metadata": {},
   "source": [
    "**Compute the overall probability and odds of the target variable without considering any predictor variables**"
   ]
  },
  {
   "cell_type": "code",
   "execution_count": 7,
   "id": "9192b7cd-e915-46ac-9e7f-8a88cdd9db61",
   "metadata": {},
   "outputs": [
    {
     "name": "stdout",
     "output_type": "stream",
     "text": [
      "Target values proability =  0.6916667"
     ]
    }
   ],
   "source": [
    "target_probability <- mean(as.numeric(df$Loan_Status)-1)\n",
    "cat(\"Target values proability = \", target_probability)"
   ]
  },
  {
   "cell_type": "code",
   "execution_count": 8,
   "id": "a186d419-651d-4047-90e9-50bda223bc5d",
   "metadata": {},
   "outputs": [
    {
     "data": {
      "text/plain": [
       "\n",
       "  0   1 \n",
       "148 332 "
      ]
     },
     "metadata": {},
     "output_type": "display_data"
    }
   ],
   "source": [
    "table(df$Loan_Status)"
   ]
  },
  {
   "cell_type": "code",
   "execution_count": 9,
   "id": "9a4a90c7-c006-4262-9043-e072a41958b8",
   "metadata": {},
   "outputs": [
    {
     "name": "stdout",
     "output_type": "stream",
     "text": [
      "Target values odds =  2.243243"
     ]
    }
   ],
   "source": [
    "target_odds <- table(df$Loan_Status)[[2]]/table(df$Loan_Status)[[1]]\n",
    "cat(\"Target values odds = \", target_odds)"
   ]
  },
  {
   "cell_type": "markdown",
   "id": "00989898-114d-4d7c-b856-d37b5438d45a",
   "metadata": {},
   "source": [
    "**Computing the conditional probability and odds of the target variable for two levels of predictor Gender.**"
   ]
  },
  {
   "cell_type": "code",
   "execution_count": 10,
   "id": "303ee9ef-9ae8-4332-8af2-af3b3665a55e",
   "metadata": {},
   "outputs": [
    {
     "data": {
      "text/html": [
       "<table class=\"dataframe\">\n",
       "<caption>A tibble: 2 × 3</caption>\n",
       "<thead>\n",
       "\t<tr><th scope=col>Gender</th><th scope=col>Approval_Probability</th><th scope=col>Approval_Odds</th></tr>\n",
       "\t<tr><th scope=col>&lt;chr&gt;</th><th scope=col>&lt;dbl&gt;</th><th scope=col>&lt;dbl&gt;</th></tr>\n",
       "</thead>\n",
       "<tbody>\n",
       "\t<tr><td>Female</td><td>0.6279070</td><td>1.687500</td></tr>\n",
       "\t<tr><td>Male  </td><td>0.7055838</td><td>2.396552</td></tr>\n",
       "</tbody>\n",
       "</table>\n"
      ],
      "text/latex": [
       "A tibble: 2 × 3\n",
       "\\begin{tabular}{lll}\n",
       " Gender & Approval\\_Probability & Approval\\_Odds\\\\\n",
       " <chr> & <dbl> & <dbl>\\\\\n",
       "\\hline\n",
       "\t Female & 0.6279070 & 1.687500\\\\\n",
       "\t Male   & 0.7055838 & 2.396552\\\\\n",
       "\\end{tabular}\n"
      ],
      "text/markdown": [
       "\n",
       "A tibble: 2 × 3\n",
       "\n",
       "| Gender &lt;chr&gt; | Approval_Probability &lt;dbl&gt; | Approval_Odds &lt;dbl&gt; |\n",
       "|---|---|---|\n",
       "| Female | 0.6279070 | 1.687500 |\n",
       "| Male   | 0.7055838 | 2.396552 |\n",
       "\n"
      ],
      "text/plain": [
       "  Gender Approval_Probability Approval_Odds\n",
       "1 Female 0.6279070            1.687500     \n",
       "2 Male   0.7055838            2.396552     "
      ]
     },
     "metadata": {},
     "output_type": "display_data"
    }
   ],
   "source": [
    "gender_odds = df %>% dplyr::group_by(\n",
    "       Gender\n",
    "       ) %>% \n",
    "       dplyr::summarise(\n",
    "       Approval_Probability = mean(x = Loan_Status == 1, na.rm = TRUE)\n",
    "       ) %>%\n",
    "       dplyr::mutate(\n",
    "           Approval_Odds = Approval_Probability / (1 - Approval_Probability)\n",
    "       )\n",
    "gender_odds"
   ]
  },
  {
   "cell_type": "markdown",
   "id": "4e51dc95-173e-4dd1-90cc-b97e6ea6698d",
   "metadata": {},
   "source": [
    "**Compute the odds ratio using the previous odds.**"
   ]
  },
  {
   "cell_type": "code",
   "execution_count": 11,
   "id": "7916d482-ec22-4b2b-a1ab-10b56b4a440f",
   "metadata": {},
   "outputs": [
    {
     "name": "stdout",
     "output_type": "stream",
     "text": [
      "Odds ratio of loan approval for female to male =  0.7041367"
     ]
    }
   ],
   "source": [
    "d_ratio = gender_odds$Approval_Odds[1]/gender_odds$Approval_Odds[2]\n",
    "cat(\"Odds ratio of loan approval for female to male = \", d_ratio)"
   ]
  },
  {
   "cell_type": "code",
   "execution_count": null,
   "id": "3370293b-d589-49b6-95d2-7bbb763ad7db",
   "metadata": {},
   "outputs": [],
   "source": []
  }
 ],
 "metadata": {
  "kernelspec": {
   "display_name": "R",
   "language": "R",
   "name": "ir"
  },
  "language_info": {
   "codemirror_mode": "r",
   "file_extension": ".r",
   "mimetype": "text/x-r-source",
   "name": "R",
   "pygments_lexer": "r",
   "version": "4.3.2"
  }
 },
 "nbformat": 4,
 "nbformat_minor": 5
}
