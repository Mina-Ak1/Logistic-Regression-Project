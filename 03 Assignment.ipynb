{
 "cells": [
  {
   "cell_type": "markdown",
   "id": "3eb57523-81bf-4975-b2c2-dcf5ffd9d147",
   "metadata": {},
   "source": [
    "<font size=\"5\"> 03 Introduction to Logistic Regression STA 6238</font> <br>\\\n",
    "<font size=\"5\"> Mina Akhondzadeh</font>"
   ]
  },
  {
   "cell_type": "markdown",
   "id": "6d00ee9e-6763-49f9-b50b-234e2d1fd02e",
   "metadata": {},
   "source": [
    "The dataset is about loan eligibility prediction. I downloaded it from Kaggle: <br>\n",
    "https://www.kaggle.com/datasets/vikasukani/loan-eligible-dataset?resource=download"
   ]
  },
  {
   "cell_type": "code",
   "execution_count": 1,
   "id": "83ad8f0d-49b3-43a7-93ff-3cb0349391d4",
   "metadata": {},
   "outputs": [
    {
     "name": "stderr",
     "output_type": "stream",
     "text": [
      "── \u001b[1mAttaching core tidyverse packages\u001b[22m ──────────────────────────────────────────────────────────────── tidyverse 2.0.0 ──\n",
      "\u001b[32m✔\u001b[39m \u001b[34mdplyr    \u001b[39m 1.1.3     \u001b[32m✔\u001b[39m \u001b[34mreadr    \u001b[39m 2.1.4\n",
      "\u001b[32m✔\u001b[39m \u001b[34mforcats  \u001b[39m 1.0.0     \u001b[32m✔\u001b[39m \u001b[34mstringr  \u001b[39m 1.5.0\n",
      "\u001b[32m✔\u001b[39m \u001b[34mggplot2  \u001b[39m 3.4.4     \u001b[32m✔\u001b[39m \u001b[34mtibble   \u001b[39m 3.2.1\n",
      "\u001b[32m✔\u001b[39m \u001b[34mlubridate\u001b[39m 1.9.3     \u001b[32m✔\u001b[39m \u001b[34mtidyr    \u001b[39m 1.3.0\n",
      "\u001b[32m✔\u001b[39m \u001b[34mpurrr    \u001b[39m 1.0.2     \n",
      "── \u001b[1mConflicts\u001b[22m ────────────────────────────────────────────────────────────────────────────────── tidyverse_conflicts() ──\n",
      "\u001b[31m✖\u001b[39m \u001b[34mdplyr\u001b[39m::\u001b[32mfilter()\u001b[39m masks \u001b[34mstats\u001b[39m::filter()\n",
      "\u001b[31m✖\u001b[39m \u001b[34mdplyr\u001b[39m::\u001b[32mlag()\u001b[39m    masks \u001b[34mstats\u001b[39m::lag()\n",
      "\u001b[36mℹ\u001b[39m Use the conflicted package (\u001b[3m\u001b[34m<http://conflicted.r-lib.org/>\u001b[39m\u001b[23m) to force all conflicts to become errors\n"
     ]
    }
   ],
   "source": [
    "library(tidyverse)"
   ]
  },
  {
   "cell_type": "markdown",
   "id": "f2e51645-de9b-4edc-b236-07a82f2f97df",
   "metadata": {},
   "source": [
    "**Read in data**"
   ]
  },
  {
   "cell_type": "code",
   "execution_count": 2,
   "id": "ccd69f8d-0b0a-4fe3-9d0a-c52d64a71291",
   "metadata": {},
   "outputs": [
    {
     "name": "stderr",
     "output_type": "stream",
     "text": [
      "\u001b[1mRows: \u001b[22m\u001b[34m480\u001b[39m \u001b[1mColumns: \u001b[22m\u001b[34m11\u001b[39m\n",
      "\u001b[36m──\u001b[39m \u001b[1mColumn specification\u001b[22m \u001b[36m────────────────────────────────────────────────────────────────────────────────────────────────\u001b[39m\n",
      "\u001b[1mDelimiter:\u001b[22m \",\"\n",
      "\u001b[31mchr\u001b[39m (6): Gender, Married, Dependents, Education, Self_Employed, Property_Area\n",
      "\u001b[32mdbl\u001b[39m (5): ApplicantIncome, LoanAmount, Loan_Amount_Term, Credit_History, Loan...\n",
      "\n",
      "\u001b[36mℹ\u001b[39m Use `spec()` to retrieve the full column specification for this data.\n",
      "\u001b[36mℹ\u001b[39m Specify the column types or set `show_col_types = FALSE` to quiet this message.\n"
     ]
    },
    {
     "data": {
      "text/html": [
       "<table class=\"dataframe\">\n",
       "<caption>A tibble: 6 × 11</caption>\n",
       "<thead>\n",
       "\t<tr><th scope=col>Gender</th><th scope=col>Married</th><th scope=col>Dependents</th><th scope=col>Education</th><th scope=col>Self_Employed</th><th scope=col>ApplicantIncome</th><th scope=col>LoanAmount</th><th scope=col>Loan_Amount_Term</th><th scope=col>Credit_History</th><th scope=col>Property_Area</th><th scope=col>Loan_Status</th></tr>\n",
       "\t<tr><th scope=col>&lt;chr&gt;</th><th scope=col>&lt;chr&gt;</th><th scope=col>&lt;chr&gt;</th><th scope=col>&lt;chr&gt;</th><th scope=col>&lt;chr&gt;</th><th scope=col>&lt;dbl&gt;</th><th scope=col>&lt;dbl&gt;</th><th scope=col>&lt;dbl&gt;</th><th scope=col>&lt;dbl&gt;</th><th scope=col>&lt;chr&gt;</th><th scope=col>&lt;fct&gt;</th></tr>\n",
       "</thead>\n",
       "<tbody>\n",
       "\t<tr><td>Male</td><td>Yes</td><td>1</td><td>Graduate    </td><td>No </td><td>4583</td><td>128</td><td>360</td><td>1</td><td>Rural</td><td>0</td></tr>\n",
       "\t<tr><td>Male</td><td>Yes</td><td>0</td><td>Graduate    </td><td>Yes</td><td>3000</td><td> 66</td><td>360</td><td>1</td><td>Urban</td><td>1</td></tr>\n",
       "\t<tr><td>Male</td><td>Yes</td><td>0</td><td>Not Graduate</td><td>No </td><td>2583</td><td>120</td><td>360</td><td>1</td><td>Urban</td><td>1</td></tr>\n",
       "\t<tr><td>Male</td><td>No </td><td>0</td><td>Graduate    </td><td>No </td><td>6000</td><td>141</td><td>360</td><td>1</td><td>Urban</td><td>1</td></tr>\n",
       "\t<tr><td>Male</td><td>Yes</td><td>2</td><td>Graduate    </td><td>Yes</td><td>5417</td><td>267</td><td>360</td><td>1</td><td>Urban</td><td>1</td></tr>\n",
       "\t<tr><td>Male</td><td>Yes</td><td>0</td><td>Not Graduate</td><td>No </td><td>2333</td><td> 95</td><td>360</td><td>1</td><td>Urban</td><td>1</td></tr>\n",
       "</tbody>\n",
       "</table>\n"
      ],
      "text/latex": [
       "A tibble: 6 × 11\n",
       "\\begin{tabular}{lllllllllll}\n",
       " Gender & Married & Dependents & Education & Self\\_Employed & ApplicantIncome & LoanAmount & Loan\\_Amount\\_Term & Credit\\_History & Property\\_Area & Loan\\_Status\\\\\n",
       " <chr> & <chr> & <chr> & <chr> & <chr> & <dbl> & <dbl> & <dbl> & <dbl> & <chr> & <fct>\\\\\n",
       "\\hline\n",
       "\t Male & Yes & 1 & Graduate     & No  & 4583 & 128 & 360 & 1 & Rural & 0\\\\\n",
       "\t Male & Yes & 0 & Graduate     & Yes & 3000 &  66 & 360 & 1 & Urban & 1\\\\\n",
       "\t Male & Yes & 0 & Not Graduate & No  & 2583 & 120 & 360 & 1 & Urban & 1\\\\\n",
       "\t Male & No  & 0 & Graduate     & No  & 6000 & 141 & 360 & 1 & Urban & 1\\\\\n",
       "\t Male & Yes & 2 & Graduate     & Yes & 5417 & 267 & 360 & 1 & Urban & 1\\\\\n",
       "\t Male & Yes & 0 & Not Graduate & No  & 2333 &  95 & 360 & 1 & Urban & 1\\\\\n",
       "\\end{tabular}\n"
      ],
      "text/markdown": [
       "\n",
       "A tibble: 6 × 11\n",
       "\n",
       "| Gender &lt;chr&gt; | Married &lt;chr&gt; | Dependents &lt;chr&gt; | Education &lt;chr&gt; | Self_Employed &lt;chr&gt; | ApplicantIncome &lt;dbl&gt; | LoanAmount &lt;dbl&gt; | Loan_Amount_Term &lt;dbl&gt; | Credit_History &lt;dbl&gt; | Property_Area &lt;chr&gt; | Loan_Status &lt;fct&gt; |\n",
       "|---|---|---|---|---|---|---|---|---|---|---|\n",
       "| Male | Yes | 1 | Graduate     | No  | 4583 | 128 | 360 | 1 | Rural | 0 |\n",
       "| Male | Yes | 0 | Graduate     | Yes | 3000 |  66 | 360 | 1 | Urban | 1 |\n",
       "| Male | Yes | 0 | Not Graduate | No  | 2583 | 120 | 360 | 1 | Urban | 1 |\n",
       "| Male | No  | 0 | Graduate     | No  | 6000 | 141 | 360 | 1 | Urban | 1 |\n",
       "| Male | Yes | 2 | Graduate     | Yes | 5417 | 267 | 360 | 1 | Urban | 1 |\n",
       "| Male | Yes | 0 | Not Graduate | No  | 2333 |  95 | 360 | 1 | Urban | 1 |\n",
       "\n"
      ],
      "text/plain": [
       "  Gender Married Dependents Education    Self_Employed ApplicantIncome\n",
       "1 Male   Yes     1          Graduate     No            4583           \n",
       "2 Male   Yes     0          Graduate     Yes           3000           \n",
       "3 Male   Yes     0          Not Graduate No            2583           \n",
       "4 Male   No      0          Graduate     No            6000           \n",
       "5 Male   Yes     2          Graduate     Yes           5417           \n",
       "6 Male   Yes     0          Not Graduate No            2333           \n",
       "  LoanAmount Loan_Amount_Term Credit_History Property_Area Loan_Status\n",
       "1 128        360              1              Rural         0          \n",
       "2  66        360              1              Urban         1          \n",
       "3 120        360              1              Urban         1          \n",
       "4 141        360              1              Urban         1          \n",
       "5 267        360              1              Urban         1          \n",
       "6  95        360              1              Urban         1          "
      ]
     },
     "metadata": {},
     "output_type": "display_data"
    }
   ],
   "source": [
    "df = read_csv(\"loan_dataset.csv\")\n",
    "df$Loan_Status = as.factor(df$Loan_Status)\n",
    "head(df)"
   ]
  },
  {
   "cell_type": "markdown",
   "id": "99dc834b-e89c-413a-a292-4772c39c04cd",
   "metadata": {},
   "source": [
    "**Logistic Regression Model on selected features**"
   ]
  },
  {
   "cell_type": "code",
   "execution_count": 3,
   "id": "ce93ce1d-4bfe-46d6-aacd-2b1285c58504",
   "metadata": {},
   "outputs": [],
   "source": [
    "glm_loan = glm(\n",
    "        formula = Loan_Status ~ Credit_History + Property_Area + Education, \n",
    "        data = df,\n",
    "        family = binomial()\n",
    ")"
   ]
  },
  {
   "cell_type": "code",
   "execution_count": 4,
   "id": "db596af6-5691-4e0a-90df-a04807510aaf",
   "metadata": {},
   "outputs": [
    {
     "data": {
      "text/plain": [
       "\n",
       "Call:\n",
       "glm(formula = Loan_Status ~ Credit_History + Property_Area + \n",
       "    Education, family = binomial(), data = df)\n",
       "\n",
       "Coefficients:\n",
       "                       Estimate Std. Error z value Pr(>|z|)    \n",
       "(Intercept)             -2.6246     0.4552  -5.766  8.1e-09 ***\n",
       "Credit_History           3.6037     0.4247   8.485  < 2e-16 ***\n",
       "Property_AreaSemiurban   0.9692     0.2948   3.287  0.00101 ** \n",
       "Property_AreaUrban       0.2290     0.2851   0.803  0.42197    \n",
       "EducationNot Graduate   -0.2424     0.2884  -0.840  0.40075    \n",
       "---\n",
       "Signif. codes:  0 '***' 0.001 '**' 0.01 '*' 0.05 '.' 0.1 ' ' 1\n",
       "\n",
       "(Dispersion parameter for binomial family taken to be 1)\n",
       "\n",
       "    Null deviance: 593.05  on 479  degrees of freedom\n",
       "Residual deviance: 450.69  on 475  degrees of freedom\n",
       "AIC: 460.69\n",
       "\n",
       "Number of Fisher Scoring iterations: 4\n"
      ]
     },
     "metadata": {},
     "output_type": "display_data"
    }
   ],
   "source": [
    "summary(glm_loan)"
   ]
  },
  {
   "cell_type": "code",
   "execution_count": 5,
   "id": "7ba505f6-04a1-4458-974b-43c298b439fb",
   "metadata": {},
   "outputs": [],
   "source": [
    "#Create columns for predicted probability and predicted class\n",
    "df <- df %>% mutate(\n",
    "            predicted_loan = predict(\n",
    "                glm_loan,\n",
    "                type = \"response\"\n",
    "            ),\n",
    "            predicted_class = if_else(\n",
    "                condition = predicted_loan > 0.5,\n",
    "                true = 1,\n",
    "                false = 0\n",
    "            ),\n",
    "            predicted_class = as.factor(predicted_class)\n",
    "        )"
   ]
  },
  {
   "cell_type": "markdown",
   "id": "b1d6b034-eed1-4681-a956-ee044a7ae2f4",
   "metadata": {},
   "source": [
    "**Confusion Matrix**"
   ]
  },
  {
   "cell_type": "code",
   "execution_count": 6,
   "id": "60e7f369-6e32-4fe3-bdbc-6addf39173b0",
   "metadata": {},
   "outputs": [
    {
     "data": {
      "text/plain": [
       "Confusion Matrix and Statistics\n",
       "\n",
       "          Reference\n",
       "Prediction   0   1\n",
       "         0  63   7\n",
       "         1  85 325\n",
       "                                          \n",
       "               Accuracy : 0.8083          \n",
       "                 95% CI : (0.7702, 0.8426)\n",
       "    No Information Rate : 0.6917          \n",
       "    P-Value [Acc > NIR] : 5.209e-09       \n",
       "                                          \n",
       "                  Kappa : 0.4738          \n",
       "                                          \n",
       " Mcnemar's Test P-Value : 9.923e-16       \n",
       "                                          \n",
       "            Sensitivity : 0.4257          \n",
       "            Specificity : 0.9789          \n",
       "         Pos Pred Value : 0.9000          \n",
       "         Neg Pred Value : 0.7927          \n",
       "             Prevalence : 0.3083          \n",
       "         Detection Rate : 0.1313          \n",
       "   Detection Prevalence : 0.1458          \n",
       "      Balanced Accuracy : 0.7023          \n",
       "                                          \n",
       "       'Positive' Class : 0               \n",
       "                                          "
      ]
     },
     "metadata": {},
     "output_type": "display_data"
    }
   ],
   "source": [
    "caret::confusionMatrix(\n",
    "            data = df$predicted_class, \n",
    "            reference = df$Loan_Status\n",
    "        )"
   ]
  },
  {
   "cell_type": "markdown",
   "id": "7e959343-2794-4fdd-9198-b93934ce49a3",
   "metadata": {},
   "source": [
    "**Model Diagnostics: checking multicolinearity**"
   ]
  },
  {
   "cell_type": "code",
   "execution_count": 7,
   "id": "fc1fe808-9585-4df7-8781-91995c1a0fc7",
   "metadata": {},
   "outputs": [
    {
     "data": {
      "text/html": [
       "<table class=\"dataframe\">\n",
       "<caption>A matrix: 3 × 3 of type dbl</caption>\n",
       "<thead>\n",
       "\t<tr><th></th><th scope=col>GVIF</th><th scope=col>Df</th><th scope=col>GVIF^(1/(2*Df))</th></tr>\n",
       "</thead>\n",
       "<tbody>\n",
       "\t<tr><th scope=row>Credit_History</th><td>1.019024</td><td>1</td><td>1.009467</td></tr>\n",
       "\t<tr><th scope=row>Property_Area</th><td>1.026862</td><td>2</td><td>1.006649</td></tr>\n",
       "\t<tr><th scope=row>Education</th><td>1.007761</td><td>1</td><td>1.003873</td></tr>\n",
       "</tbody>\n",
       "</table>\n"
      ],
      "text/latex": [
       "A matrix: 3 × 3 of type dbl\n",
       "\\begin{tabular}{r|lll}\n",
       "  & GVIF & Df & GVIF\\textasciicircum{}(1/(2*Df))\\\\\n",
       "\\hline\n",
       "\tCredit\\_History & 1.019024 & 1 & 1.009467\\\\\n",
       "\tProperty\\_Area & 1.026862 & 2 & 1.006649\\\\\n",
       "\tEducation & 1.007761 & 1 & 1.003873\\\\\n",
       "\\end{tabular}\n"
      ],
      "text/markdown": [
       "\n",
       "A matrix: 3 × 3 of type dbl\n",
       "\n",
       "| <!--/--> | GVIF | Df | GVIF^(1/(2*Df)) |\n",
       "|---|---|---|---|\n",
       "| Credit_History | 1.019024 | 1 | 1.009467 |\n",
       "| Property_Area | 1.026862 | 2 | 1.006649 |\n",
       "| Education | 1.007761 | 1 | 1.003873 |\n",
       "\n"
      ],
      "text/plain": [
       "               GVIF     Df GVIF^(1/(2*Df))\n",
       "Credit_History 1.019024 1  1.009467       \n",
       "Property_Area  1.026862 2  1.006649       \n",
       "Education      1.007761 1  1.003873       "
      ]
     },
     "metadata": {},
     "output_type": "display_data"
    }
   ],
   "source": [
    "car::vif(\n",
    "        mod = glm_loan\n",
    "    )"
   ]
  },
  {
   "cell_type": "code",
   "execution_count": null,
   "id": "86865d04-46f1-4df2-b5af-c5aa05faffe2",
   "metadata": {},
   "outputs": [],
   "source": []
  }
 ],
 "metadata": {
  "kernelspec": {
   "display_name": "R",
   "language": "R",
   "name": "ir"
  },
  "language_info": {
   "codemirror_mode": "r",
   "file_extension": ".r",
   "mimetype": "text/x-r-source",
   "name": "R",
   "pygments_lexer": "r",
   "version": "4.3.2"
  }
 },
 "nbformat": 4,
 "nbformat_minor": 5
}
