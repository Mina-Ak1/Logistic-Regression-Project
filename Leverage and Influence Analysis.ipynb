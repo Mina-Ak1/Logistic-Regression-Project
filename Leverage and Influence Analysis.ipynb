{
 "cells": [
  {
   "cell_type": "markdown",
   "id": "8b5830c8-3549-486f-bc5f-485deb024a6e",
   "metadata": {},
   "source": [
    "<font size = 5> Logistic Regression Residual, Leverage and Influence Analysis<font> <br>"
   ]
  },
  {
   "cell_type": "markdown",
   "id": "97fe632d-5c52-485b-8f27-944643fe31bd",
   "metadata": {},
   "source": [
    "*Fit a logistic regression model, visualize plots 4 and 6, then interpret the plots.*"
   ]
  },
  {
   "cell_type": "code",
   "execution_count": 1,
   "id": "c90e6a08-d681-498f-bc5f-b93ad23fb39a",
   "metadata": {},
   "outputs": [
    {
     "data": {
      "text/html": [
       "<table class=\"dataframe\">\n",
       "<caption>A data.frame: 6 × 11</caption>\n",
       "<thead>\n",
       "\t<tr><th></th><th scope=col>Gender</th><th scope=col>Married</th><th scope=col>Dependents</th><th scope=col>Education</th><th scope=col>Self_Employed</th><th scope=col>ApplicantIncome</th><th scope=col>LoanAmount</th><th scope=col>Loan_Amount_Term</th><th scope=col>Credit_History</th><th scope=col>Property_Area</th><th scope=col>Loan_Status</th></tr>\n",
       "\t<tr><th></th><th scope=col>&lt;chr&gt;</th><th scope=col>&lt;chr&gt;</th><th scope=col>&lt;chr&gt;</th><th scope=col>&lt;chr&gt;</th><th scope=col>&lt;chr&gt;</th><th scope=col>&lt;int&gt;</th><th scope=col>&lt;int&gt;</th><th scope=col>&lt;int&gt;</th><th scope=col>&lt;int&gt;</th><th scope=col>&lt;chr&gt;</th><th scope=col>&lt;int&gt;</th></tr>\n",
       "</thead>\n",
       "<tbody>\n",
       "\t<tr><th scope=row>1</th><td>Male</td><td>Yes</td><td>1</td><td>Graduate    </td><td>No </td><td>4583</td><td>128</td><td>360</td><td>1</td><td>Rural</td><td>0</td></tr>\n",
       "\t<tr><th scope=row>2</th><td>Male</td><td>Yes</td><td>0</td><td>Graduate    </td><td>Yes</td><td>3000</td><td> 66</td><td>360</td><td>1</td><td>Urban</td><td>1</td></tr>\n",
       "\t<tr><th scope=row>3</th><td>Male</td><td>Yes</td><td>0</td><td>Not Graduate</td><td>No </td><td>2583</td><td>120</td><td>360</td><td>1</td><td>Urban</td><td>1</td></tr>\n",
       "\t<tr><th scope=row>4</th><td>Male</td><td>No </td><td>0</td><td>Graduate    </td><td>No </td><td>6000</td><td>141</td><td>360</td><td>1</td><td>Urban</td><td>1</td></tr>\n",
       "\t<tr><th scope=row>5</th><td>Male</td><td>Yes</td><td>2</td><td>Graduate    </td><td>Yes</td><td>5417</td><td>267</td><td>360</td><td>1</td><td>Urban</td><td>1</td></tr>\n",
       "\t<tr><th scope=row>6</th><td>Male</td><td>Yes</td><td>0</td><td>Not Graduate</td><td>No </td><td>2333</td><td> 95</td><td>360</td><td>1</td><td>Urban</td><td>1</td></tr>\n",
       "</tbody>\n",
       "</table>\n"
      ],
      "text/latex": [
       "A data.frame: 6 × 11\n",
       "\\begin{tabular}{r|lllllllllll}\n",
       "  & Gender & Married & Dependents & Education & Self\\_Employed & ApplicantIncome & LoanAmount & Loan\\_Amount\\_Term & Credit\\_History & Property\\_Area & Loan\\_Status\\\\\n",
       "  & <chr> & <chr> & <chr> & <chr> & <chr> & <int> & <int> & <int> & <int> & <chr> & <int>\\\\\n",
       "\\hline\n",
       "\t1 & Male & Yes & 1 & Graduate     & No  & 4583 & 128 & 360 & 1 & Rural & 0\\\\\n",
       "\t2 & Male & Yes & 0 & Graduate     & Yes & 3000 &  66 & 360 & 1 & Urban & 1\\\\\n",
       "\t3 & Male & Yes & 0 & Not Graduate & No  & 2583 & 120 & 360 & 1 & Urban & 1\\\\\n",
       "\t4 & Male & No  & 0 & Graduate     & No  & 6000 & 141 & 360 & 1 & Urban & 1\\\\\n",
       "\t5 & Male & Yes & 2 & Graduate     & Yes & 5417 & 267 & 360 & 1 & Urban & 1\\\\\n",
       "\t6 & Male & Yes & 0 & Not Graduate & No  & 2333 &  95 & 360 & 1 & Urban & 1\\\\\n",
       "\\end{tabular}\n"
      ],
      "text/markdown": [
       "\n",
       "A data.frame: 6 × 11\n",
       "\n",
       "| <!--/--> | Gender &lt;chr&gt; | Married &lt;chr&gt; | Dependents &lt;chr&gt; | Education &lt;chr&gt; | Self_Employed &lt;chr&gt; | ApplicantIncome &lt;int&gt; | LoanAmount &lt;int&gt; | Loan_Amount_Term &lt;int&gt; | Credit_History &lt;int&gt; | Property_Area &lt;chr&gt; | Loan_Status &lt;int&gt; |\n",
       "|---|---|---|---|---|---|---|---|---|---|---|---|\n",
       "| 1 | Male | Yes | 1 | Graduate     | No  | 4583 | 128 | 360 | 1 | Rural | 0 |\n",
       "| 2 | Male | Yes | 0 | Graduate     | Yes | 3000 |  66 | 360 | 1 | Urban | 1 |\n",
       "| 3 | Male | Yes | 0 | Not Graduate | No  | 2583 | 120 | 360 | 1 | Urban | 1 |\n",
       "| 4 | Male | No  | 0 | Graduate     | No  | 6000 | 141 | 360 | 1 | Urban | 1 |\n",
       "| 5 | Male | Yes | 2 | Graduate     | Yes | 5417 | 267 | 360 | 1 | Urban | 1 |\n",
       "| 6 | Male | Yes | 0 | Not Graduate | No  | 2333 |  95 | 360 | 1 | Urban | 1 |\n",
       "\n"
      ],
      "text/plain": [
       "  Gender Married Dependents Education    Self_Employed ApplicantIncome\n",
       "1 Male   Yes     1          Graduate     No            4583           \n",
       "2 Male   Yes     0          Graduate     Yes           3000           \n",
       "3 Male   Yes     0          Not Graduate No            2583           \n",
       "4 Male   No      0          Graduate     No            6000           \n",
       "5 Male   Yes     2          Graduate     Yes           5417           \n",
       "6 Male   Yes     0          Not Graduate No            2333           \n",
       "  LoanAmount Loan_Amount_Term Credit_History Property_Area Loan_Status\n",
       "1 128        360              1              Rural         0          \n",
       "2  66        360              1              Urban         1          \n",
       "3 120        360              1              Urban         1          \n",
       "4 141        360              1              Urban         1          \n",
       "5 267        360              1              Urban         1          \n",
       "6  95        360              1              Urban         1          "
      ]
     },
     "metadata": {},
     "output_type": "display_data"
    }
   ],
   "source": [
    "df <- read.csv(\"loan_dataset.csv\")\n",
    "head(df)"
   ]
  },
  {
   "cell_type": "code",
   "execution_count": 2,
   "id": "4ad3a5ab-5887-4296-9063-15a022409b4e",
   "metadata": {},
   "outputs": [
    {
     "data": {
      "text/plain": [
       "\n",
       "Call:\n",
       "glm(formula = Loan_Status ~ ., family = binomial(), data = df)\n",
       "\n",
       "Coefficients:\n",
       "                         Estimate Std. Error z value Pr(>|z|)    \n",
       "(Intercept)            -2.453e+00  9.280e-01  -2.643  0.00821 ** \n",
       "GenderMale              2.639e-01  3.264e-01   0.808  0.41884    \n",
       "MarriedYes              5.753e-01  2.924e-01   1.968  0.04911 *  \n",
       "Dependents1            -3.533e-01  3.455e-01  -1.023  0.30644    \n",
       "Dependents2             2.752e-01  3.777e-01   0.729  0.46618    \n",
       "Dependents3+            2.100e-01  4.841e-01   0.434  0.66444    \n",
       "EducationNot Graduate  -3.914e-01  3.018e-01  -1.297  0.19472    \n",
       "Self_EmployedYes       -1.576e-01  3.515e-01  -0.448  0.65394    \n",
       "ApplicantIncome         1.485e-05  2.674e-05   0.555  0.57861    \n",
       "LoanAmount             -3.233e-03  1.710e-03  -1.890  0.05871 .  \n",
       "Loan_Amount_Term       -8.775e-04  2.024e-03  -0.434  0.66457    \n",
       "Credit_History          3.648e+00  4.331e-01   8.424  < 2e-16 ***\n",
       "Property_AreaSemiurban  9.802e-01  3.032e-01   3.233  0.00122 ** \n",
       "Property_AreaUrban      1.385e-01  2.998e-01   0.462  0.64406    \n",
       "---\n",
       "Signif. codes:  0 '***' 0.001 '**' 0.01 '*' 0.05 '.' 0.1 ' ' 1\n",
       "\n",
       "(Dispersion parameter for binomial family taken to be 1)\n",
       "\n",
       "    Null deviance: 593.05  on 479  degrees of freedom\n",
       "Residual deviance: 437.14  on 466  degrees of freedom\n",
       "AIC: 465.14\n",
       "\n",
       "Number of Fisher Scoring iterations: 5\n"
      ]
     },
     "metadata": {},
     "output_type": "display_data"
    }
   ],
   "source": [
    "#Fit logistic regression model\n",
    "log_model <- glm(formula = Loan_Status ~. ,\n",
    "                 data = df,\n",
    "                 family = binomial()\n",
    "                 )\n",
    "\n",
    "summary(log_model)"
   ]
  },
  {
   "cell_type": "code",
   "execution_count": 3,
   "id": "93d3ae46-762a-411a-8576-2c7374a31dfd",
   "metadata": {},
   "outputs": [
    {
     "data": {
      "text/html": [
       "<table class=\"dataframe\">\n",
       "<caption>A data.frame: 1 × 11</caption>\n",
       "<thead>\n",
       "\t<tr><th></th><th scope=col>Gender</th><th scope=col>Married</th><th scope=col>Dependents</th><th scope=col>Education</th><th scope=col>Self_Employed</th><th scope=col>ApplicantIncome</th><th scope=col>LoanAmount</th><th scope=col>Loan_Amount_Term</th><th scope=col>Credit_History</th><th scope=col>Property_Area</th><th scope=col>Loan_Status</th></tr>\n",
       "\t<tr><th></th><th scope=col>&lt;chr&gt;</th><th scope=col>&lt;chr&gt;</th><th scope=col>&lt;chr&gt;</th><th scope=col>&lt;chr&gt;</th><th scope=col>&lt;chr&gt;</th><th scope=col>&lt;int&gt;</th><th scope=col>&lt;int&gt;</th><th scope=col>&lt;int&gt;</th><th scope=col>&lt;int&gt;</th><th scope=col>&lt;chr&gt;</th><th scope=col>&lt;int&gt;</th></tr>\n",
       "</thead>\n",
       "<tbody>\n",
       "\t<tr><th scope=row>143</th><td>Male</td><td>Yes</td><td>1</td><td>Graduate</td><td>No</td><td>33846</td><td>260</td><td>360</td><td>1</td><td>Semiurban</td><td>0</td></tr>\n",
       "</tbody>\n",
       "</table>\n"
      ],
      "text/latex": [
       "A data.frame: 1 × 11\n",
       "\\begin{tabular}{r|lllllllllll}\n",
       "  & Gender & Married & Dependents & Education & Self\\_Employed & ApplicantIncome & LoanAmount & Loan\\_Amount\\_Term & Credit\\_History & Property\\_Area & Loan\\_Status\\\\\n",
       "  & <chr> & <chr> & <chr> & <chr> & <chr> & <int> & <int> & <int> & <int> & <chr> & <int>\\\\\n",
       "\\hline\n",
       "\t143 & Male & Yes & 1 & Graduate & No & 33846 & 260 & 360 & 1 & Semiurban & 0\\\\\n",
       "\\end{tabular}\n"
      ],
      "text/markdown": [
       "\n",
       "A data.frame: 1 × 11\n",
       "\n",
       "| <!--/--> | Gender &lt;chr&gt; | Married &lt;chr&gt; | Dependents &lt;chr&gt; | Education &lt;chr&gt; | Self_Employed &lt;chr&gt; | ApplicantIncome &lt;int&gt; | LoanAmount &lt;int&gt; | Loan_Amount_Term &lt;int&gt; | Credit_History &lt;int&gt; | Property_Area &lt;chr&gt; | Loan_Status &lt;int&gt; |\n",
       "|---|---|---|---|---|---|---|---|---|---|---|---|\n",
       "| 143 | Male | Yes | 1 | Graduate | No | 33846 | 260 | 360 | 1 | Semiurban | 0 |\n",
       "\n"
      ],
      "text/plain": [
       "    Gender Married Dependents Education Self_Employed ApplicantIncome\n",
       "143 Male   Yes     1          Graduate  No            33846          \n",
       "    LoanAmount Loan_Amount_Term Credit_History Property_Area Loan_Status\n",
       "143 260        360              1              Semiurban     0          "
      ]
     },
     "metadata": {},
     "output_type": "display_data"
    }
   ],
   "source": [
    "df[143,]"
   ]
  },
  {
   "cell_type": "code",
   "execution_count": 4,
   "id": "79f91e96-4734-4ad0-8ba9-6849ffa79a2b",
   "metadata": {},
   "outputs": [
    {
     "data": {
      "image/png": "[encoded data removed]",
      "text/plain": [
       "Plot with title \"\""
      ]
     },
     "metadata": {
      "image/png": {
       "height": 420,
       "width": 420
      }
     },
     "output_type": "display_data"
    }
   ],
   "source": [
    "# red: stroke = 1\n",
    "# black: stroke = 0\n",
    "\n",
    "plot(x = log_model,\n",
    "     which = 4,\n",
    "     col = df$Loan_Status + 1,\n",
    "     pch = df$Loan_Status + 1)"
   ]
  },
  {
   "cell_type": "markdown",
   "id": "02c208b0-521e-4d0f-9b10-1d1f37b4243b",
   "metadata": {},
   "source": [
    "The plot shows 3 most extreme influential observations. Number 121 (stroke = 1), 143 and 206 (stroke = 0)."
   ]
  },
  {
   "cell_type": "code",
   "execution_count": 5,
   "id": "a859d515-79b7-4bad-bed4-b065eae397b1",
   "metadata": {},
   "outputs": [
    {
     "data": {
      "image/png": "[encoded data removed]",
      "text/plain": [
       "Plot with title \"\""
      ]
     },
     "metadata": {
      "image/png": {
       "height": 420,
       "width": 420
      }
     },
     "output_type": "display_data"
    }
   ],
   "source": [
    "plot(x = log_model,\n",
    "     which = 6,\n",
    "     col = df$Loan_Status + 1,\n",
    "     pch = df$Loan_Status + 1)"
   ]
  },
  {
   "cell_type": "markdown",
   "id": "e81dabf2-726f-4a0c-86a4-18315bdb6fe7",
   "metadata": {},
   "source": [
    "Looking at the plot above, there is no point in the top right corner to concern us. \n",
    "The extreme values of the Cook's distance (121, 143 and 206) do not have large leverage so they are not that influential.\n",
    "Althouhg there is one observation on the right far from the rest of the cluster, which does not have a high Cook's distance but has a large leverage.\n",
    "Let's look at other plots to investigate more."
   ]
  },
  {
   "cell_type": "code",
   "execution_count": 6,
   "id": "942d1114-e422-4335-8fa6-9141cb9619fe",
   "metadata": {},
   "outputs": [
    {
     "data": {
      "image/png": "[encoded data removed]",
      "text/plain": [
       "Plot with title \"\""
      ]
     },
     "metadata": {
      "image/png": {
       "height": 420,
       "width": 420
      }
     },
     "output_type": "display_data"
    }
   ],
   "source": [
    "plot(x = log_model,\n",
    "     which = 3,\n",
    "     col = df$Loan_Status + 1,\n",
    "     pch = df$Loan_Status + 1)     "
   ]
  },
  {
   "cell_type": "markdown",
   "id": "597fd481-e9e3-42e4-9002-e331364947cb",
   "metadata": {},
   "source": [
    "Point 256 stands out in the Scale-Location plot. It is stroke = 1, so it could be the suspicious point in the Cook's-Leverage plot.\n",
    "Also points 401 and 450 are worth to investigate more."
   ]
  },
  {
   "cell_type": "code",
   "execution_count": 7,
   "id": "1ebea8b9-9f05-4f74-85d4-cb62890d2923",
   "metadata": {},
   "outputs": [
    {
     "data": {
      "image/png": "[encoded data removed]",
      "text/plain": [
       "Plot with title \"\""
      ]
     },
     "metadata": {
      "image/png": {
       "height": 420,
       "width": 420
      }
     },
     "output_type": "display_data"
    }
   ],
   "source": [
    "plot(x = log_model,\n",
    "     which = 1,\n",
    "     col = df$Loan_Status + 1,\n",
    "     pch = df$Loan_Status + 1)  "
   ]
  },
  {
   "cell_type": "markdown",
   "id": "7265d92f-7a59-4507-ac89-78c05c2c9251",
   "metadata": {},
   "source": [
    "Point 256 has extreme residual in this plot too. Same for points 450 and 401."
   ]
  },
  {
   "cell_type": "code",
   "execution_count": 8,
   "id": "e525a742-a314-4d4f-8c0c-1d12cf577a0f",
   "metadata": {},
   "outputs": [
    {
     "data": {
      "text/html": [
       "<table class=\"dataframe\">\n",
       "<caption>A data.frame: 3 × 11</caption>\n",
       "<thead>\n",
       "\t<tr><th></th><th scope=col>Gender</th><th scope=col>Married</th><th scope=col>Dependents</th><th scope=col>Education</th><th scope=col>Self_Employed</th><th scope=col>ApplicantIncome</th><th scope=col>LoanAmount</th><th scope=col>Loan_Amount_Term</th><th scope=col>Credit_History</th><th scope=col>Property_Area</th><th scope=col>Loan_Status</th></tr>\n",
       "\t<tr><th></th><th scope=col>&lt;chr&gt;</th><th scope=col>&lt;chr&gt;</th><th scope=col>&lt;chr&gt;</th><th scope=col>&lt;chr&gt;</th><th scope=col>&lt;chr&gt;</th><th scope=col>&lt;int&gt;</th><th scope=col>&lt;int&gt;</th><th scope=col>&lt;int&gt;</th><th scope=col>&lt;int&gt;</th><th scope=col>&lt;chr&gt;</th><th scope=col>&lt;int&gt;</th></tr>\n",
       "</thead>\n",
       "<tbody>\n",
       "\t<tr><th scope=row>256</th><td>Male</td><td>No </td><td>0 </td><td>Graduate</td><td>No</td><td>4917</td><td>130</td><td>360</td><td>0</td><td>Rural    </td><td>1</td></tr>\n",
       "\t<tr><th scope=row>450</th><td>Male</td><td>Yes</td><td>3+</td><td>Graduate</td><td>No</td><td>6406</td><td>150</td><td>360</td><td>1</td><td>Semiurban</td><td>0</td></tr>\n",
       "\t<tr><th scope=row>401</th><td>Male</td><td>Yes</td><td>0 </td><td>Graduate</td><td>No</td><td>2130</td><td> 70</td><td>180</td><td>1</td><td>Semiurban</td><td>0</td></tr>\n",
       "</tbody>\n",
       "</table>\n"
      ],
      "text/latex": [
       "A data.frame: 3 × 11\n",
       "\\begin{tabular}{r|lllllllllll}\n",
       "  & Gender & Married & Dependents & Education & Self\\_Employed & ApplicantIncome & LoanAmount & Loan\\_Amount\\_Term & Credit\\_History & Property\\_Area & Loan\\_Status\\\\\n",
       "  & <chr> & <chr> & <chr> & <chr> & <chr> & <int> & <int> & <int> & <int> & <chr> & <int>\\\\\n",
       "\\hline\n",
       "\t256 & Male & No  & 0  & Graduate & No & 4917 & 130 & 360 & 0 & Rural     & 1\\\\\n",
       "\t450 & Male & Yes & 3+ & Graduate & No & 6406 & 150 & 360 & 1 & Semiurban & 0\\\\\n",
       "\t401 & Male & Yes & 0  & Graduate & No & 2130 &  70 & 180 & 1 & Semiurban & 0\\\\\n",
       "\\end{tabular}\n"
      ],
      "text/markdown": [
       "\n",
       "A data.frame: 3 × 11\n",
       "\n",
       "| <!--/--> | Gender &lt;chr&gt; | Married &lt;chr&gt; | Dependents &lt;chr&gt; | Education &lt;chr&gt; | Self_Employed &lt;chr&gt; | ApplicantIncome &lt;int&gt; | LoanAmount &lt;int&gt; | Loan_Amount_Term &lt;int&gt; | Credit_History &lt;int&gt; | Property_Area &lt;chr&gt; | Loan_Status &lt;int&gt; |\n",
       "|---|---|---|---|---|---|---|---|---|---|---|---|\n",
       "| 256 | Male | No  | 0  | Graduate | No | 4917 | 130 | 360 | 0 | Rural     | 1 |\n",
       "| 450 | Male | Yes | 3+ | Graduate | No | 6406 | 150 | 360 | 1 | Semiurban | 0 |\n",
       "| 401 | Male | Yes | 0  | Graduate | No | 2130 |  70 | 180 | 1 | Semiurban | 0 |\n",
       "\n"
      ],
      "text/plain": [
       "    Gender Married Dependents Education Self_Employed ApplicantIncome\n",
       "256 Male   No      0          Graduate  No            4917           \n",
       "450 Male   Yes     3+         Graduate  No            6406           \n",
       "401 Male   Yes     0          Graduate  No            2130           \n",
       "    LoanAmount Loan_Amount_Term Credit_History Property_Area Loan_Status\n",
       "256 130        360              0              Rural         1          \n",
       "450 150        360              1              Semiurban     0          \n",
       "401  70        180              1              Semiurban     0          "
      ]
     },
     "metadata": {},
     "output_type": "display_data"
    }
   ],
   "source": [
    "df[c(256, 450, 401),]"
   ]
  },
  {
   "cell_type": "markdown",
   "id": "4a645a4b-0e3c-4d68-9b8e-85e6773b99aa",
   "metadata": {},
   "source": [
    "It is interesting that the 3 most extreme points in the Cook's distance plot are not the ones that have extreme residuals in the other plots. Which explains why we need to check those points in multiple plots before concluding anything."
   ]
  }
 ],
 "metadata": {
  "kernelspec": {
   "display_name": "R",
   "language": "R",
   "name": "ir"
  },
  "language_info": {
   "codemirror_mode": "r",
   "file_extension": ".r",
   "mimetype": "text/x-r-source",
   "name": "R",
   "pygments_lexer": "r",
   "version": "4.3.2"
  }
 },
 "nbformat": 4,
 "nbformat_minor": 5
}
