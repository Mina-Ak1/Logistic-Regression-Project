{
 "cells": [
  {
   "cell_type": "markdown",
   "id": "d337001c-9613-4dda-8883-e0cb5a7d235d",
   "metadata": {},
   "source": [
    "<font size = 5 >  Logistic Regression Residuals</font> <br>"
   ]
  },
  {
   "cell_type": "code",
   "execution_count": 1,
   "id": "57984abb-a089-480f-aeae-9e18eb594c7e",
   "metadata": {},
   "outputs": [
    {
     "name": "stderr",
     "output_type": "stream",
     "text": [
      "\n",
      "Attaching package: 'dplyr'\n",
      "\n",
      "\n",
      "The following objects are masked from 'package:stats':\n",
      "\n",
      "    filter, lag\n",
      "\n",
      "\n",
      "The following objects are masked from 'package:base':\n",
      "\n",
      "    intersect, setdiff, setequal, union\n",
      "\n",
      "\n"
     ]
    }
   ],
   "source": [
    "library(dplyr)"
   ]
  },
  {
   "cell_type": "code",
   "execution_count": 2,
   "id": "5dcd14e6-f4b8-419c-94d9-ffb9099cf224",
   "metadata": {},
   "outputs": [
    {
     "data": {
      "text/html": [
       "<table class=\"dataframe\">\n",
       "<caption>A tibble: 6 × 11</caption>\n",
       "<thead>\n",
       "\t<tr><th scope=col>Gender</th><th scope=col>Married</th><th scope=col>Dependents</th><th scope=col>Education</th><th scope=col>Self_Employed</th><th scope=col>ApplicantIncome</th><th scope=col>LoanAmount</th><th scope=col>Loan_Amount_Term</th><th scope=col>Credit_History</th><th scope=col>Property_Area</th><th scope=col>Loan_Status</th></tr>\n",
       "\t<tr><th scope=col>&lt;chr&gt;</th><th scope=col>&lt;chr&gt;</th><th scope=col>&lt;chr&gt;</th><th scope=col>&lt;chr&gt;</th><th scope=col>&lt;chr&gt;</th><th scope=col>&lt;dbl&gt;</th><th scope=col>&lt;dbl&gt;</th><th scope=col>&lt;dbl&gt;</th><th scope=col>&lt;dbl&gt;</th><th scope=col>&lt;chr&gt;</th><th scope=col>&lt;dbl&gt;</th></tr>\n",
       "</thead>\n",
       "<tbody>\n",
       "\t<tr><td>Male</td><td>Yes</td><td>1</td><td>Graduate    </td><td>No </td><td>4583</td><td>128</td><td>360</td><td>1</td><td>Rural</td><td>0</td></tr>\n",
       "\t<tr><td>Male</td><td>Yes</td><td>0</td><td>Graduate    </td><td>Yes</td><td>3000</td><td> 66</td><td>360</td><td>1</td><td>Urban</td><td>1</td></tr>\n",
       "\t<tr><td>Male</td><td>Yes</td><td>0</td><td>Not Graduate</td><td>No </td><td>2583</td><td>120</td><td>360</td><td>1</td><td>Urban</td><td>1</td></tr>\n",
       "\t<tr><td>Male</td><td>No </td><td>0</td><td>Graduate    </td><td>No </td><td>6000</td><td>141</td><td>360</td><td>1</td><td>Urban</td><td>1</td></tr>\n",
       "\t<tr><td>Male</td><td>Yes</td><td>2</td><td>Graduate    </td><td>Yes</td><td>5417</td><td>267</td><td>360</td><td>1</td><td>Urban</td><td>1</td></tr>\n",
       "\t<tr><td>Male</td><td>Yes</td><td>0</td><td>Not Graduate</td><td>No </td><td>2333</td><td> 95</td><td>360</td><td>1</td><td>Urban</td><td>1</td></tr>\n",
       "</tbody>\n",
       "</table>\n"
      ],
      "text/latex": [
       "A tibble: 6 × 11\n",
       "\\begin{tabular}{lllllllllll}\n",
       " Gender & Married & Dependents & Education & Self\\_Employed & ApplicantIncome & LoanAmount & Loan\\_Amount\\_Term & Credit\\_History & Property\\_Area & Loan\\_Status\\\\\n",
       " <chr> & <chr> & <chr> & <chr> & <chr> & <dbl> & <dbl> & <dbl> & <dbl> & <chr> & <dbl>\\\\\n",
       "\\hline\n",
       "\t Male & Yes & 1 & Graduate     & No  & 4583 & 128 & 360 & 1 & Rural & 0\\\\\n",
       "\t Male & Yes & 0 & Graduate     & Yes & 3000 &  66 & 360 & 1 & Urban & 1\\\\\n",
       "\t Male & Yes & 0 & Not Graduate & No  & 2583 & 120 & 360 & 1 & Urban & 1\\\\\n",
       "\t Male & No  & 0 & Graduate     & No  & 6000 & 141 & 360 & 1 & Urban & 1\\\\\n",
       "\t Male & Yes & 2 & Graduate     & Yes & 5417 & 267 & 360 & 1 & Urban & 1\\\\\n",
       "\t Male & Yes & 0 & Not Graduate & No  & 2333 &  95 & 360 & 1 & Urban & 1\\\\\n",
       "\\end{tabular}\n"
      ],
      "text/markdown": [
       "\n",
       "A tibble: 6 × 11\n",
       "\n",
       "| Gender &lt;chr&gt; | Married &lt;chr&gt; | Dependents &lt;chr&gt; | Education &lt;chr&gt; | Self_Employed &lt;chr&gt; | ApplicantIncome &lt;dbl&gt; | LoanAmount &lt;dbl&gt; | Loan_Amount_Term &lt;dbl&gt; | Credit_History &lt;dbl&gt; | Property_Area &lt;chr&gt; | Loan_Status &lt;dbl&gt; |\n",
       "|---|---|---|---|---|---|---|---|---|---|---|\n",
       "| Male | Yes | 1 | Graduate     | No  | 4583 | 128 | 360 | 1 | Rural | 0 |\n",
       "| Male | Yes | 0 | Graduate     | Yes | 3000 |  66 | 360 | 1 | Urban | 1 |\n",
       "| Male | Yes | 0 | Not Graduate | No  | 2583 | 120 | 360 | 1 | Urban | 1 |\n",
       "| Male | No  | 0 | Graduate     | No  | 6000 | 141 | 360 | 1 | Urban | 1 |\n",
       "| Male | Yes | 2 | Graduate     | Yes | 5417 | 267 | 360 | 1 | Urban | 1 |\n",
       "| Male | Yes | 0 | Not Graduate | No  | 2333 |  95 | 360 | 1 | Urban | 1 |\n",
       "\n"
      ],
      "text/plain": [
       "  Gender Married Dependents Education    Self_Employed ApplicantIncome\n",
       "1 Male   Yes     1          Graduate     No            4583           \n",
       "2 Male   Yes     0          Graduate     Yes           3000           \n",
       "3 Male   Yes     0          Not Graduate No            2583           \n",
       "4 Male   No      0          Graduate     No            6000           \n",
       "5 Male   Yes     2          Graduate     Yes           5417           \n",
       "6 Male   Yes     0          Not Graduate No            2333           \n",
       "  LoanAmount Loan_Amount_Term Credit_History Property_Area Loan_Status\n",
       "1 128        360              1              Rural         0          \n",
       "2  66        360              1              Urban         1          \n",
       "3 120        360              1              Urban         1          \n",
       "4 141        360              1              Urban         1          \n",
       "5 267        360              1              Urban         1          \n",
       "6  95        360              1              Urban         1          "
      ]
     },
     "metadata": {},
     "output_type": "display_data"
    }
   ],
   "source": [
    "#Read in data\n",
    "df = readr::read_csv(\"loan_dataset.csv\", show_col_types = FALSE)\n",
    "head(df)"
   ]
  },
  {
   "cell_type": "code",
   "execution_count": 3,
   "id": "b67f70c6-f642-4f0f-8cea-22668b78cfe0",
   "metadata": {},
   "outputs": [
    {
     "data": {
      "text/plain": [
       "\n",
       "Call:\n",
       "glm(formula = Loan_Status ~ ., family = binomial(), data = df)\n",
       "\n",
       "Coefficients:\n",
       "                         Estimate Std. Error z value Pr(>|z|)    \n",
       "(Intercept)            -2.453e+00  9.280e-01  -2.643  0.00821 ** \n",
       "GenderMale              2.639e-01  3.264e-01   0.808  0.41884    \n",
       "MarriedYes              5.753e-01  2.924e-01   1.968  0.04911 *  \n",
       "Dependents1            -3.533e-01  3.455e-01  -1.023  0.30644    \n",
       "Dependents2             2.752e-01  3.777e-01   0.729  0.46618    \n",
       "Dependents3+            2.100e-01  4.841e-01   0.434  0.66444    \n",
       "EducationNot Graduate  -3.914e-01  3.018e-01  -1.297  0.19472    \n",
       "Self_EmployedYes       -1.576e-01  3.515e-01  -0.448  0.65394    \n",
       "ApplicantIncome         1.485e-05  2.674e-05   0.555  0.57861    \n",
       "LoanAmount             -3.233e-03  1.710e-03  -1.890  0.05871 .  \n",
       "Loan_Amount_Term       -8.775e-04  2.024e-03  -0.434  0.66457    \n",
       "Credit_History          3.648e+00  4.331e-01   8.424  < 2e-16 ***\n",
       "Property_AreaSemiurban  9.802e-01  3.032e-01   3.233  0.00122 ** \n",
       "Property_AreaUrban      1.385e-01  2.998e-01   0.462  0.64406    \n",
       "---\n",
       "Signif. codes:  0 '***' 0.001 '**' 0.01 '*' 0.05 '.' 0.1 ' ' 1\n",
       "\n",
       "(Dispersion parameter for binomial family taken to be 1)\n",
       "\n",
       "    Null deviance: 593.05  on 479  degrees of freedom\n",
       "Residual deviance: 437.14  on 466  degrees of freedom\n",
       "AIC: 465.14\n",
       "\n",
       "Number of Fisher Scoring iterations: 5\n"
      ]
     },
     "metadata": {},
     "output_type": "display_data"
    }
   ],
   "source": [
    "#fitting the model\n",
    "glm_model <- glm(formula = Loan_Status ~ .,\n",
    "                data = df,\n",
    "                family = binomial()\n",
    "                )\n",
    "summary(glm_model)"
   ]
  },
  {
   "cell_type": "code",
   "execution_count": 4,
   "id": "849e3cd6-23e8-4401-ab0b-907f59438c80",
   "metadata": {},
   "outputs": [
    {
     "data": {
      "text/plain": [
       "        predicted\n",
       "observed   0   1\n",
       "       0  65  83\n",
       "       1   7 325"
      ]
     },
     "metadata": {},
     "output_type": "display_data"
    }
   ],
   "source": [
    "#predicting probabilities\n",
    "predictions <- predict(object = glm_model,\n",
    "                        newdata = df,\n",
    "                        type = \"response\"\n",
    "                        )\n",
    "#Compare observed and predicted values\n",
    "table_full <- table(observed = df$Loan_Status, \n",
    "                    predicted = as.numeric(predictions > 0.5))\n",
    "table_full"
   ]
  },
  {
   "cell_type": "markdown",
   "id": "20155b42-35d4-46e8-9182-a21b71112ffb",
   "metadata": {},
   "source": [
    "**Run a Chi-squared test on the classifications and the observed dependent variable.**"
   ]
  },
  {
   "cell_type": "code",
   "execution_count": 5,
   "id": "ba4b8203-0d48-4fc8-afc8-cb8040d64c3f",
   "metadata": {},
   "outputs": [
    {
     "data": {
      "text/plain": [
       "\n",
       "\tPearson's Chi-squared test with Yates' continuity correction\n",
       "\n",
       "data:  table_full\n",
       "X-squared = 137.09, df = 1, p-value < 2.2e-16\n"
      ]
     },
     "metadata": {},
     "output_type": "display_data"
    }
   ],
   "source": [
    "#Chi-Squared test\n",
    "chisq.test(table_full)"
   ]
  },
  {
   "cell_type": "markdown",
   "id": "03c39bba-b689-49c8-91aa-e986f405aeea",
   "metadata": {},
   "source": [
    "The p-value in our chi-squared test is small so we reject the null that our model is not good in predicting strokes."
   ]
  },
  {
   "cell_type": "markdown",
   "id": "b87dace4-8f8e-44ba-9253-052b898366df",
   "metadata": {},
   "source": [
    "**Run the Hosmer-Lemeshow test.**"
   ]
  },
  {
   "cell_type": "code",
   "execution_count": 6,
   "id": "8d4708ef-d158-495e-924e-6ab7d7a05ea2",
   "metadata": {},
   "outputs": [
    {
     "data": {
      "text/plain": [
       "\n",
       "\tHosmer and Lemeshow goodness of fit (GOF) test\n",
       "\n",
       "data:  df$Loan_Status, predictions\n",
       "X-squared = 16.519, df = 8, p-value = 0.03553\n"
      ]
     },
     "metadata": {},
     "output_type": "display_data"
    }
   ],
   "source": [
    "# Hosmer-Lemeshow test\n",
    "ResourceSelection::hoslem.test(\n",
    "  x = df$Loan_Status,\n",
    "  y = predictions\n",
    ")"
   ]
  },
  {
   "cell_type": "markdown",
   "id": "92745f45-8c4c-4267-b1c3-a74bc35982a6",
   "metadata": {},
   "source": [
    "The p-value of Hosmer-Lemeshow test is small so we reject the null hypothesis. Therefore our model has lack-of-fit."
   ]
  },
  {
   "cell_type": "markdown",
   "id": "9d312d40-eb1c-40e8-83dd-70afce5f15ff",
   "metadata": {},
   "source": [
    "**Extract the psuedo-R^2 statistic.**"
   ]
  },
  {
   "cell_type": "code",
   "execution_count": 7,
   "id": "b282f7fe-1035-4983-875c-ee693ca8eeaf",
   "metadata": {},
   "outputs": [
    {
     "data": {
      "text/html": [
       "0.262890843588808"
      ],
      "text/latex": [
       "0.262890843588808"
      ],
      "text/markdown": [
       "0.262890843588808"
      ],
      "text/plain": [
       "[1] 0.2628908"
      ]
     },
     "metadata": {},
     "output_type": "display_data"
    }
   ],
   "source": [
    "# McFadden's R-squared\n",
    "glm_null <- glm(\n",
    "  formula = Loan_Status ~ 1,\n",
    "  family = binomial(),\n",
    "  data = df\n",
    ")\n",
    "L0 <- logLik(\n",
    "  object = glm_null\n",
    ")\n",
    "Lm <- logLik(\n",
    "  object = glm_model\n",
    ")\n",
    "R2_McFadden <- 1 - (as.numeric(Lm) / as.numeric(L0))\n",
    "R2_McFadden"
   ]
  },
  {
   "cell_type": "code",
   "execution_count": 8,
   "id": "e453b3ff-e433-4916-88cc-49180a66d9fc",
   "metadata": {},
   "outputs": [
    {
     "data": {
      "text/plain": [
       "\u001b[34m# R2 for Generalized Linear Regression\n",
       "\u001b[39m       R2: 0.263\n",
       "  adj. R2: 0.260"
      ]
     },
     "metadata": {},
     "output_type": "display_data"
    }
   ],
   "source": [
    "performance::r2_mcfadden(\n",
    "  model = glm_model\n",
    ")"
   ]
  },
  {
   "cell_type": "markdown",
   "id": "b72eabd7-1f56-4af5-8a6f-f006845ff586",
   "metadata": {},
   "source": [
    "McFadden's pseudo-R-squared ranges from 0 to 1, where 0 indicates that the model does not fit better than the null model, and 1 indicates a perfect fit. In our case the model with 0.2 R-squared is not very good. "
   ]
  },
  {
   "cell_type": "markdown",
   "id": "08cd60ad-6a80-4f1b-b4ab-17cda30fb1bd",
   "metadata": {},
   "source": [
    "**Extract the response residuals.**"
   ]
  },
  {
   "cell_type": "code",
   "execution_count": 9,
   "id": "4aa83291-552f-44fa-89a1-0b87a53688aa",
   "metadata": {},
   "outputs": [
    {
     "data": {
      "image/png": "[encoded data removed]",
      "text/plain": [
       "Plot with title \"Histogram of response (raw) residuals\""
      ]
     },
     "metadata": {
      "image/png": {
       "height": 420,
       "width": 420
      }
     },
     "output_type": "display_data"
    }
   ],
   "source": [
    "residuals(object = glm_model,\n",
    "          type = \"response\") %>%\n",
    "hist(main = \"Histogram of response (raw) residuals\")"
   ]
  },
  {
   "cell_type": "markdown",
   "id": "10134530-2641-47b1-a884-61a4830defa5",
   "metadata": {},
   "source": [
    "We see than the residuals are mainly a little more than 0, which is a good sign that our model did not predict very far from the actual values."
   ]
  },
  {
   "cell_type": "code",
   "execution_count": null,
   "id": "ccf35689-dd48-4759-8368-9e9c042517f6",
   "metadata": {},
   "outputs": [],
   "source": []
  }
 ],
 "metadata": {
  "kernelspec": {
   "display_name": "R",
   "language": "R",
   "name": "ir"
  },
  "language_info": {
   "codemirror_mode": "r",
   "file_extension": ".r",
   "mimetype": "text/x-r-source",
   "name": "R",
   "pygments_lexer": "r",
   "version": "4.3.2"
  }
 },
 "nbformat": 4,
 "nbformat_minor": 5
}
